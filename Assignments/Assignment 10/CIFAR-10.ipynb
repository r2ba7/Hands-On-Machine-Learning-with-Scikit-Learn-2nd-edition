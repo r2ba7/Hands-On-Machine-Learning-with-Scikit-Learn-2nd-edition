{
 "cells": [
  {
   "cell_type": "code",
   "execution_count": 1,
   "id": "302aba3d",
   "metadata": {},
   "outputs": [],
   "source": [
    "import tensorflow as tf\n",
    "from tensorflow import keras\n",
    "import numpy as np\n",
    "import pandas as pd\n",
    "import matplotlib.pyplot as plt\n",
    "%matplotlib inline\n",
    "\n",
    "import warnings\n",
    "warnings.filterwarnings('ignore')\n",
    "\n",
    "tf.random.set_seed(42)\n",
    "np.random.seed(42)"
   ]
  },
  {
   "cell_type": "code",
   "execution_count": 2,
   "id": "ca75ed1f",
   "metadata": {},
   "outputs": [],
   "source": [
    "initializer = tf.keras.initializers.HeNormal()\n",
    "model = keras.Sequential()\n",
    "model.add(keras.layers.Flatten(input_shape=(32, 32, 3)))\n",
    "\n",
    "for i in range(20):\n",
    "    model.add(keras.layers.Dense(100, activation='elu', kernel_initializer=initializer))"
   ]
  },
  {
   "cell_type": "code",
   "execution_count": 3,
   "id": "cb1d4eab",
   "metadata": {},
   "outputs": [],
   "source": [
    "(X_train, y_train), (X_test, y_test) = keras.datasets.cifar10.load_data()"
   ]
  },
  {
   "cell_type": "code",
   "execution_count": 4,
   "id": "86e9ea15",
   "metadata": {},
   "outputs": [],
   "source": [
    "model.add(keras.layers.Dense(10, activation='softmax'))"
   ]
  },
  {
   "cell_type": "code",
   "execution_count": 5,
   "id": "7acaaf79",
   "metadata": {},
   "outputs": [],
   "source": [
    "early_stopping_cb = keras.callbacks.EarlyStopping(patience=20)\n",
    "model_checkpoint_cb = keras.callbacks.ModelCheckpoint(\"my_cifar10_model.h5\", save_best_only=True)\n",
    "callbacks = [early_stopping_cb, model_checkpoint_cb]"
   ]
  },
  {
   "cell_type": "code",
   "execution_count": 6,
   "id": "41f71300",
   "metadata": {},
   "outputs": [],
   "source": [
    "from sklearn.model_selection import train_test_split\n",
    "\n",
    "X_train, X_valid, y_train, y_valid = train_test_split(X_train, y_train, test_size=5000)"
   ]
  },
  {
   "cell_type": "code",
   "execution_count": 7,
   "id": "316c32db",
   "metadata": {},
   "outputs": [],
   "source": [
    "optimizer = tf.keras.optimizers.Nadam(learning_rate=5e-5)\n",
    "model.compile(optimizer=optimizer,\n",
    "    loss=\"sparse_categorical_crossentropy\",\n",
    "    metrics=[\"accuracy\"])"
   ]
  },
  {
   "cell_type": "code",
   "execution_count": 8,
   "id": "81a186e5",
   "metadata": {},
   "outputs": [
    {
     "name": "stdout",
     "output_type": "stream",
     "text": [
      "Epoch 1/100\n",
      "1407/1407 [==============================] - 15s 11ms/step - loss: 4.2153 - accuracy: 0.1690 - val_loss: 2.1481 - val_accuracy: 0.2116\n",
      "Epoch 2/100\n",
      "1407/1407 [==============================] - 14s 10ms/step - loss: 2.0588 - accuracy: 0.2463 - val_loss: 2.0555 - val_accuracy: 0.2542\n",
      "Epoch 3/100\n",
      "1407/1407 [==============================] - 14s 10ms/step - loss: 1.9507 - accuracy: 0.2853 - val_loss: 1.9477 - val_accuracy: 0.2844\n",
      "Epoch 4/100\n",
      "1407/1407 [==============================] - 14s 10ms/step - loss: 1.8781 - accuracy: 0.3100 - val_loss: 1.8992 - val_accuracy: 0.3030\n",
      "Epoch 5/100\n",
      "1407/1407 [==============================] - 13s 9ms/step - loss: 1.8145 - accuracy: 0.3363 - val_loss: 1.8506 - val_accuracy: 0.3294\n",
      "Epoch 6/100\n",
      "1407/1407 [==============================] - 14s 10ms/step - loss: 1.7614 - accuracy: 0.3578 - val_loss: 1.8167 - val_accuracy: 0.3398\n",
      "Epoch 7/100\n",
      "1407/1407 [==============================] - 14s 10ms/step - loss: 1.7146 - accuracy: 0.3753 - val_loss: 1.7439 - val_accuracy: 0.3816\n",
      "Epoch 8/100\n",
      "1407/1407 [==============================] - 14s 10ms/step - loss: 1.6794 - accuracy: 0.3909 - val_loss: 1.7625 - val_accuracy: 0.3624\n",
      "Epoch 9/100\n",
      "1407/1407 [==============================] - 14s 10ms/step - loss: 1.6401 - accuracy: 0.4084 - val_loss: 1.7025 - val_accuracy: 0.3926\n",
      "Epoch 10/100\n",
      "1407/1407 [==============================] - 17s 12ms/step - loss: 1.6116 - accuracy: 0.4195 - val_loss: 1.6836 - val_accuracy: 0.3946\n",
      "Epoch 11/100\n",
      "1407/1407 [==============================] - 13s 10ms/step - loss: 1.5875 - accuracy: 0.4288 - val_loss: 1.6844 - val_accuracy: 0.3920\n",
      "Epoch 12/100\n",
      "1407/1407 [==============================] - 14s 10ms/step - loss: 1.5671 - accuracy: 0.4354 - val_loss: 1.6340 - val_accuracy: 0.4206\n",
      "Epoch 13/100\n",
      "1407/1407 [==============================] - 14s 10ms/step - loss: 1.5433 - accuracy: 0.4452 - val_loss: 1.6633 - val_accuracy: 0.4070\n",
      "Epoch 14/100\n",
      "1407/1407 [==============================] - 14s 10ms/step - loss: 1.5209 - accuracy: 0.4543 - val_loss: 1.6381 - val_accuracy: 0.4122\n",
      "Epoch 15/100\n",
      "1407/1407 [==============================] - 14s 10ms/step - loss: 1.5030 - accuracy: 0.4614 - val_loss: 1.6663 - val_accuracy: 0.4100\n",
      "Epoch 16/100\n",
      "1407/1407 [==============================] - 14s 10ms/step - loss: 1.4893 - accuracy: 0.4651 - val_loss: 1.5653 - val_accuracy: 0.4400\n",
      "Epoch 17/100\n",
      "1407/1407 [==============================] - 13s 10ms/step - loss: 1.4712 - accuracy: 0.4729 - val_loss: 1.6076 - val_accuracy: 0.4282\n",
      "Epoch 18/100\n",
      "1407/1407 [==============================] - 14s 10ms/step - loss: 1.4585 - accuracy: 0.4782 - val_loss: 1.5694 - val_accuracy: 0.4396\n",
      "Epoch 19/100\n",
      "1407/1407 [==============================] - 14s 10ms/step - loss: 1.4474 - accuracy: 0.4822 - val_loss: 1.6388 - val_accuracy: 0.4160\n",
      "Epoch 20/100\n",
      "1407/1407 [==============================] - 14s 10ms/step - loss: 1.4315 - accuracy: 0.4874 - val_loss: 1.5725 - val_accuracy: 0.4454\n",
      "Epoch 21/100\n",
      "1407/1407 [==============================] - 13s 9ms/step - loss: 1.4177 - accuracy: 0.4932 - val_loss: 1.5736 - val_accuracy: 0.4366\n",
      "Epoch 22/100\n",
      "1407/1407 [==============================] - 14s 10ms/step - loss: 1.4057 - accuracy: 0.4967 - val_loss: 1.5635 - val_accuracy: 0.4394\n",
      "Epoch 23/100\n",
      "1407/1407 [==============================] - 13s 10ms/step - loss: 1.3968 - accuracy: 0.4998 - val_loss: 1.5746 - val_accuracy: 0.4452\n",
      "Epoch 24/100\n",
      "1407/1407 [==============================] - 13s 10ms/step - loss: 1.3847 - accuracy: 0.5039 - val_loss: 1.5573 - val_accuracy: 0.4470\n",
      "Epoch 25/100\n",
      "1407/1407 [==============================] - 13s 9ms/step - loss: 1.3721 - accuracy: 0.5100 - val_loss: 1.5947 - val_accuracy: 0.4372\n",
      "Epoch 26/100\n",
      "1407/1407 [==============================] - 15s 10ms/step - loss: 1.3637 - accuracy: 0.5150 - val_loss: 1.5342 - val_accuracy: 0.4568\n",
      "Epoch 27/100\n",
      "1407/1407 [==============================] - 14s 10ms/step - loss: 1.3511 - accuracy: 0.5166 - val_loss: 1.5358 - val_accuracy: 0.4534\n",
      "Epoch 28/100\n",
      "1407/1407 [==============================] - 13s 9ms/step - loss: 1.3419 - accuracy: 0.5225 - val_loss: 1.5505 - val_accuracy: 0.4568\n",
      "Epoch 29/100\n",
      "1407/1407 [==============================] - 14s 10ms/step - loss: 1.3342 - accuracy: 0.5231 - val_loss: 1.5853 - val_accuracy: 0.4472\n",
      "Epoch 30/100\n",
      "1407/1407 [==============================] - 13s 9ms/step - loss: 1.3254 - accuracy: 0.5258 - val_loss: 1.5528 - val_accuracy: 0.4484\n",
      "Epoch 31/100\n",
      "1407/1407 [==============================] - 13s 9ms/step - loss: 1.3157 - accuracy: 0.5318 - val_loss: 1.5341 - val_accuracy: 0.4640\n",
      "Epoch 32/100\n",
      "1407/1407 [==============================] - 13s 9ms/step - loss: 1.3053 - accuracy: 0.5321 - val_loss: 1.5414 - val_accuracy: 0.4608\n",
      "Epoch 33/100\n",
      "1407/1407 [==============================] - 13s 9ms/step - loss: 1.2977 - accuracy: 0.5358 - val_loss: 1.5337 - val_accuracy: 0.4582\n",
      "Epoch 34/100\n",
      "1407/1407 [==============================] - 12s 9ms/step - loss: 1.2865 - accuracy: 0.5373 - val_loss: 1.5442 - val_accuracy: 0.4558\n",
      "Epoch 35/100\n",
      "1407/1407 [==============================] - 13s 9ms/step - loss: 1.2793 - accuracy: 0.5444 - val_loss: 1.5287 - val_accuracy: 0.4604\n",
      "Epoch 36/100\n",
      "1407/1407 [==============================] - 13s 9ms/step - loss: 1.2744 - accuracy: 0.5430 - val_loss: 1.5771 - val_accuracy: 0.4576\n",
      "Epoch 37/100\n",
      "1407/1407 [==============================] - 13s 9ms/step - loss: 1.2605 - accuracy: 0.5490 - val_loss: 1.5311 - val_accuracy: 0.4662\n",
      "Epoch 38/100\n",
      "1407/1407 [==============================] - 12s 9ms/step - loss: 1.2541 - accuracy: 0.5500 - val_loss: 1.5465 - val_accuracy: 0.4618\n",
      "Epoch 39/100\n",
      "1407/1407 [==============================] - 13s 9ms/step - loss: 1.2436 - accuracy: 0.5562 - val_loss: 1.5836 - val_accuracy: 0.4608\n",
      "Epoch 40/100\n",
      "1407/1407 [==============================] - 12s 9ms/step - loss: 1.2383 - accuracy: 0.5553 - val_loss: 1.5683 - val_accuracy: 0.4558\n",
      "Epoch 41/100\n",
      "1407/1407 [==============================] - 13s 9ms/step - loss: 1.2349 - accuracy: 0.5588 - val_loss: 1.5545 - val_accuracy: 0.4674\n",
      "Epoch 42/100\n",
      "1407/1407 [==============================] - 12s 9ms/step - loss: 1.2232 - accuracy: 0.5611 - val_loss: 1.5545 - val_accuracy: 0.4718\n",
      "Epoch 43/100\n",
      "1407/1407 [==============================] - 12s 9ms/step - loss: 1.2174 - accuracy: 0.5657 - val_loss: 1.5720 - val_accuracy: 0.4664\n",
      "Epoch 44/100\n",
      "1407/1407 [==============================] - 12s 9ms/step - loss: 1.2084 - accuracy: 0.5668 - val_loss: 1.5644 - val_accuracy: 0.4618\n",
      "Epoch 45/100\n",
      "1407/1407 [==============================] - 13s 9ms/step - loss: 1.2007 - accuracy: 0.5683 - val_loss: 1.5550 - val_accuracy: 0.4656\n",
      "Epoch 46/100\n",
      "1407/1407 [==============================] - 12s 9ms/step - loss: 1.1930 - accuracy: 0.5711 - val_loss: 1.5892 - val_accuracy: 0.4588\n",
      "Epoch 47/100\n",
      "1407/1407 [==============================] - 13s 9ms/step - loss: 1.1822 - accuracy: 0.5746 - val_loss: 1.5581 - val_accuracy: 0.4692\n",
      "Epoch 48/100\n",
      "1407/1407 [==============================] - 13s 9ms/step - loss: 1.1762 - accuracy: 0.5781 - val_loss: 1.5712 - val_accuracy: 0.4702\n",
      "Epoch 49/100\n",
      "1407/1407 [==============================] - 13s 9ms/step - loss: 1.1666 - accuracy: 0.5816 - val_loss: 1.5761 - val_accuracy: 0.4628\n",
      "Epoch 50/100\n",
      "1407/1407 [==============================] - 13s 9ms/step - loss: 1.1626 - accuracy: 0.5819 - val_loss: 1.5829 - val_accuracy: 0.4626\n",
      "Epoch 51/100\n",
      "1407/1407 [==============================] - 13s 9ms/step - loss: 1.1572 - accuracy: 0.5866 - val_loss: 1.5632 - val_accuracy: 0.4740\n",
      "Epoch 52/100\n",
      "1407/1407 [==============================] - 13s 9ms/step - loss: 1.1473 - accuracy: 0.5897 - val_loss: 1.5760 - val_accuracy: 0.4620\n",
      "Epoch 53/100\n",
      "1407/1407 [==============================] - 13s 9ms/step - loss: 1.1446 - accuracy: 0.5895 - val_loss: 1.5896 - val_accuracy: 0.4542\n",
      "Epoch 54/100\n",
      "1407/1407 [==============================] - 13s 9ms/step - loss: 1.1371 - accuracy: 0.5940 - val_loss: 1.5626 - val_accuracy: 0.4654\n",
      "Epoch 55/100\n",
      "1407/1407 [==============================] - 13s 9ms/step - loss: 1.1313 - accuracy: 0.5974 - val_loss: 1.5980 - val_accuracy: 0.4642\n"
     ]
    }
   ],
   "source": [
    "history = model.fit(X_train, y_train, batch_size=32,\n",
    "          validation_data=(X_valid, y_valid),\n",
    "          epochs=100,\n",
    "          callbacks=callbacks)"
   ]
  },
  {
   "cell_type": "code",
   "execution_count": 9,
   "id": "68da0ce7",
   "metadata": {},
   "outputs": [
    {
     "data": {
      "image/png": "[encoded data removed]",
      "text/plain": [
       "<Figure size 576x360 with 1 Axes>"
      ]
     },
     "metadata": {
      "needs_background": "light"
     },
     "output_type": "display_data"
    }
   ],
   "source": [
    "pd.DataFrame(history.history).plot(figsize=(8,5))\n",
    "plt.show()"
   ]
  },
  {
   "cell_type": "code",
   "execution_count": 10,
   "id": "53ac2b12",
   "metadata": {},
   "outputs": [
    {
     "name": "stdout",
     "output_type": "stream",
     "text": [
      "157/157 [==============================] - 0s 2ms/step - loss: 1.5287 - accuracy: 0.0992\n"
     ]
    },
    {
     "data": {
      "text/plain": [
       "[1.5286898612976074, 0.09920000284910202]"
      ]
     },
     "execution_count": 10,
     "metadata": {},
     "output_type": "execute_result"
    }
   ],
   "source": [
    "model_loaded = keras.models.load_model(\"my_cifar10_model.h5\")\n",
    "model_loaded.evaluate(X_valid, y_valid)"
   ]
  },
  {
   "cell_type": "code",
   "execution_count": 11,
   "id": "a09a0f66",
   "metadata": {},
   "outputs": [
    {
     "name": "stdout",
     "output_type": "stream",
     "text": [
      "157/157 [==============================] - 0s 2ms/step - loss: 1.5980 - accuracy: 0.4642\n"
     ]
    },
    {
     "data": {
      "text/plain": [
       "[1.5979927778244019, 0.4641999900341034]"
      ]
     },
     "execution_count": 11,
     "metadata": {},
     "output_type": "execute_result"
    }
   ],
   "source": [
    "model.evaluate(X_valid, y_valid)"
   ]
  },
  {
   "cell_type": "code",
   "execution_count": 12,
   "id": "82cfcbaa",
   "metadata": {},
   "outputs": [],
   "source": [
    "model_bn = keras.Sequential()\n",
    "model_bn.add(keras.layers.Flatten(input_shape=(32, 32, 3)))\n",
    "model_bn.add(keras.layers.BatchNormalization())\n",
    "initializer = tf.keras.initializers.HeNormal()\n",
    "\n",
    "for i in range(20):\n",
    "    model_bn.add(keras.layers.Dense(100, kernel_initializer=initializer))\n",
    "    model_bn.add(keras.layers.BatchNormalization())\n",
    "    model_bn.add(keras.layers.Activation('elu'))\n",
    "    \n",
    "model_bn.add(keras.layers.Dense(10, activation='softmax'))"
   ]
  },
  {
   "cell_type": "code",
   "execution_count": 13,
   "id": "69495805",
   "metadata": {},
   "outputs": [
    {
     "name": "stdout",
     "output_type": "stream",
     "text": [
      "Epoch 1/100\n",
      "1407/1407 [==============================] - 24s 17ms/step - loss: 1.8291 - accuracy: 0.3480 - val_loss: 1.6771 - val_accuracy: 0.3938\n",
      "Epoch 2/100\n",
      "1407/1407 [==============================] - 23s 16ms/step - loss: 1.6581 - accuracy: 0.4080 - val_loss: 1.5768 - val_accuracy: 0.4276\n",
      "Epoch 3/100\n",
      "1407/1407 [==============================] - 22s 16ms/step - loss: 1.5946 - accuracy: 0.4333 - val_loss: 1.5622 - val_accuracy: 0.4462\n",
      "Epoch 4/100\n",
      "1407/1407 [==============================] - 22s 16ms/step - loss: 1.5432 - accuracy: 0.4528 - val_loss: 1.4871 - val_accuracy: 0.4664\n",
      "Epoch 5/100\n",
      "1407/1407 [==============================] - 23s 17ms/step - loss: 1.5008 - accuracy: 0.4659 - val_loss: 1.4621 - val_accuracy: 0.4812\n",
      "Epoch 6/100\n",
      "1407/1407 [==============================] - 22s 16ms/step - loss: 1.4654 - accuracy: 0.4793 - val_loss: 1.4553 - val_accuracy: 0.4852\n",
      "Epoch 7/100\n",
      "1407/1407 [==============================] - 22s 16ms/step - loss: 1.4251 - accuracy: 0.4920 - val_loss: 1.4191 - val_accuracy: 0.4986\n",
      "Epoch 8/100\n",
      "1407/1407 [==============================] - 22s 16ms/step - loss: 1.4048 - accuracy: 0.5026 - val_loss: 1.4311 - val_accuracy: 0.4862\n",
      "Epoch 9/100\n",
      "1407/1407 [==============================] - 22s 16ms/step - loss: 1.3752 - accuracy: 0.5140 - val_loss: 1.3862 - val_accuracy: 0.5042\n",
      "Epoch 10/100\n",
      "1407/1407 [==============================] - 22s 16ms/step - loss: 1.3565 - accuracy: 0.5196 - val_loss: 1.3971 - val_accuracy: 0.5008\n",
      "Epoch 11/100\n",
      "1407/1407 [==============================] - 22s 16ms/step - loss: 1.3340 - accuracy: 0.5278 - val_loss: 1.3935 - val_accuracy: 0.5008\n",
      "Epoch 12/100\n",
      "1407/1407 [==============================] - 22s 16ms/step - loss: 1.3126 - accuracy: 0.5338 - val_loss: 1.4038 - val_accuracy: 0.5008\n",
      "Epoch 13/100\n",
      "1407/1407 [==============================] - 22s 16ms/step - loss: 1.2929 - accuracy: 0.5413 - val_loss: 1.3809 - val_accuracy: 0.5116\n",
      "Epoch 14/100\n",
      "1407/1407 [==============================] - 22s 15ms/step - loss: 1.2758 - accuracy: 0.5465 - val_loss: 1.3907 - val_accuracy: 0.5036\n",
      "Epoch 15/100\n",
      "1407/1407 [==============================] - 23s 17ms/step - loss: 1.2599 - accuracy: 0.5552 - val_loss: 1.3880 - val_accuracy: 0.5032\n",
      "Epoch 16/100\n",
      "1407/1407 [==============================] - 25s 18ms/step - loss: 1.2415 - accuracy: 0.5632 - val_loss: 1.3758 - val_accuracy: 0.5126\n",
      "Epoch 17/100\n",
      "1407/1407 [==============================] - 22s 16ms/step - loss: 1.2282 - accuracy: 0.5642 - val_loss: 1.4042 - val_accuracy: 0.5008\n",
      "Epoch 18/100\n",
      "1407/1407 [==============================] - 23s 16ms/step - loss: 1.2152 - accuracy: 0.5714 - val_loss: 1.3649 - val_accuracy: 0.5218\n",
      "Epoch 19/100\n",
      "1407/1407 [==============================] - 22s 16ms/step - loss: 1.1965 - accuracy: 0.5760 - val_loss: 1.4039 - val_accuracy: 0.5170\n",
      "Epoch 20/100\n",
      "1407/1407 [==============================] - 22s 16ms/step - loss: 1.1864 - accuracy: 0.5799 - val_loss: 1.3698 - val_accuracy: 0.5184\n",
      "Epoch 21/100\n",
      "1407/1407 [==============================] - 22s 16ms/step - loss: 1.1765 - accuracy: 0.5850 - val_loss: 1.3665 - val_accuracy: 0.5276\n",
      "Epoch 22/100\n",
      "1407/1407 [==============================] - 22s 16ms/step - loss: 1.1568 - accuracy: 0.5924 - val_loss: 1.3634 - val_accuracy: 0.5218\n",
      "Epoch 23/100\n",
      "1407/1407 [==============================] - 22s 16ms/step - loss: 1.1491 - accuracy: 0.5943 - val_loss: 1.3693 - val_accuracy: 0.5304\n",
      "Epoch 24/100\n",
      "1407/1407 [==============================] - 22s 16ms/step - loss: 1.1306 - accuracy: 0.5995 - val_loss: 1.3738 - val_accuracy: 0.5228\n",
      "Epoch 25/100\n",
      "1407/1407 [==============================] - 26s 18ms/step - loss: 1.1183 - accuracy: 0.6048 - val_loss: 1.3737 - val_accuracy: 0.5164\n",
      "Epoch 26/100\n",
      "1407/1407 [==============================] - 22s 16ms/step - loss: 1.1149 - accuracy: 0.6057 - val_loss: 1.3663 - val_accuracy: 0.5288\n",
      "Epoch 27/100\n",
      "1407/1407 [==============================] - 23s 16ms/step - loss: 1.1081 - accuracy: 0.6080 - val_loss: 1.3501 - val_accuracy: 0.5268\n",
      "Epoch 28/100\n",
      "1407/1407 [==============================] - 23s 16ms/step - loss: 1.0832 - accuracy: 0.6172 - val_loss: 1.3798 - val_accuracy: 0.5206\n",
      "Epoch 29/100\n",
      "1407/1407 [==============================] - 22s 16ms/step - loss: 1.0693 - accuracy: 0.6220 - val_loss: 1.3876 - val_accuracy: 0.5162\n",
      "Epoch 30/100\n",
      "1407/1407 [==============================] - 22s 16ms/step - loss: 1.0687 - accuracy: 0.6228 - val_loss: 1.3752 - val_accuracy: 0.5202\n",
      "Epoch 31/100\n",
      "1407/1407 [==============================] - 22s 16ms/step - loss: 1.0492 - accuracy: 0.6264 - val_loss: 1.3670 - val_accuracy: 0.5330\n",
      "Epoch 32/100\n",
      "1407/1407 [==============================] - 26s 18ms/step - loss: 1.0479 - accuracy: 0.6300 - val_loss: 1.3625 - val_accuracy: 0.5308\n",
      "Epoch 33/100\n",
      "1407/1407 [==============================] - 23s 16ms/step - loss: 1.0290 - accuracy: 0.6354 - val_loss: 1.3912 - val_accuracy: 0.5238\n",
      "Epoch 34/100\n",
      "1407/1407 [==============================] - 22s 16ms/step - loss: 1.0223 - accuracy: 0.6400 - val_loss: 1.3910 - val_accuracy: 0.5280\n",
      "Epoch 35/100\n",
      "1407/1407 [==============================] - 23s 16ms/step - loss: 1.0127 - accuracy: 0.6415 - val_loss: 1.4082 - val_accuracy: 0.5178\n",
      "Epoch 36/100\n",
      "1407/1407 [==============================] - 22s 16ms/step - loss: 1.0013 - accuracy: 0.6452 - val_loss: 1.4125 - val_accuracy: 0.5196\n",
      "Epoch 37/100\n",
      "1407/1407 [==============================] - 22s 16ms/step - loss: 0.9930 - accuracy: 0.6498 - val_loss: 1.3752 - val_accuracy: 0.5352\n"
     ]
    }
   ],
   "source": [
    "es = keras.callbacks.EarlyStopping(patience=10)\n",
    "cp = keras.callbacks.ModelCheckpoint(\"my_cifar10_model_bn.h5\", save_best_only=True)\n",
    "\n",
    "optimizer = tf.keras.optimizers.Nadam(learning_rate=5e-4)\n",
    "model_bn.compile(optimizer=optimizer,\n",
    "    loss=\"sparse_categorical_crossentropy\",\n",
    "    metrics=['accuracy'])\n",
    "\n",
    "history = model_bn.fit(X_train, y_train, batch_size=32,\n",
    "          validation_data=(X_valid, y_valid),\n",
    "          epochs=100,\n",
    "          callbacks=[es, cp])"
   ]
  },
  {
   "cell_type": "code",
   "execution_count": 14,
   "id": "9eb2704e",
   "metadata": {},
   "outputs": [
    {
     "data": {
      "image/png": "[encoded data removed]",
      "text/plain": [
       "<Figure size 576x360 with 1 Axes>"
      ]
     },
     "metadata": {
      "needs_background": "light"
     },
     "output_type": "display_data"
    }
   ],
   "source": [
    "pd.DataFrame(history.history).plot(figsize=(8,5))\n",
    "plt.show()"
   ]
  },
  {
   "cell_type": "code",
   "execution_count": 24,
   "id": "ba7dce65",
   "metadata": {},
   "outputs": [
    {
     "name": "stdout",
     "output_type": "stream",
     "text": [
      "313/313 [==============================] - 1s 3ms/step - loss: 1.3265 - accuracy: 0.1139\n"
     ]
    },
    {
     "data": {
      "text/plain": [
       "[1.3265002965927124, 0.11389999836683273]"
      ]
     },
     "execution_count": 24,
     "metadata": {},
     "output_type": "execute_result"
    }
   ],
   "source": [
    "model_loaded = keras.models.load_model(\"my_cifar10_model_bn.h5\")\n",
    "model_loaded.evaluate(X_test, y_test)"
   ]
  },
  {
   "cell_type": "code",
   "execution_count": 23,
   "id": "59f4c140",
   "metadata": {},
   "outputs": [
    {
     "name": "stdout",
     "output_type": "stream",
     "text": [
      "313/313 [==============================] - 1s 3ms/step - loss: 1.3661 - accuracy: 0.5427\n"
     ]
    },
    {
     "data": {
      "text/plain": [
       "[1.3660839796066284, 0.5426999926567078]"
      ]
     },
     "execution_count": 23,
     "metadata": {},
     "output_type": "execute_result"
    }
   ],
   "source": [
    "model_bn.evaluate(X_test, y_test)"
   ]
  },
  {
   "cell_type": "code",
   "execution_count": 17,
   "id": "6ab3061a",
   "metadata": {},
   "outputs": [],
   "source": [
    "model_selu = keras.Sequential()\n",
    "model_selu.add(keras.layers.Flatten(input_shape=(32, 32, 3)))\n",
    "initializer = tf.keras.initializers.LecunNormal()\n",
    "for i in range(20):\n",
    "    model_selu.add(keras.layers.Dense(100, activation = 'selu', kernel_initializer=initializer))\n",
    "\n",
    "model_selu.add(keras.layers.Dense(10, activation='softmax'))"
   ]
  },
  {
   "cell_type": "code",
   "execution_count": 39,
   "id": "5fc21fbb",
   "metadata": {},
   "outputs": [
    {
     "name": "stdout",
     "output_type": "stream",
     "text": [
      "Epoch 1/100\n",
      "1407/1407 [==============================] - 15s 11ms/step - loss: 1.9271 - accuracy: 0.3010 - val_loss: 1.8518 - val_accuracy: 0.3254\n",
      "Epoch 2/100\n",
      "1407/1407 [==============================] - 18s 13ms/step - loss: 1.8232 - accuracy: 0.3412 - val_loss: 1.7867 - val_accuracy: 0.3440\n",
      "Epoch 3/100\n",
      "1407/1407 [==============================] - 16s 12ms/step - loss: 1.7576 - accuracy: 0.3665 - val_loss: 1.7342 - val_accuracy: 0.3664\n",
      "Epoch 4/100\n",
      "1407/1407 [==============================] - 15s 11ms/step - loss: 1.7113 - accuracy: 0.3807 - val_loss: 1.7273 - val_accuracy: 0.3764\n",
      "Epoch 5/100\n",
      "1407/1407 [==============================] - 15s 11ms/step - loss: 1.6713 - accuracy: 0.3967 - val_loss: 1.6682 - val_accuracy: 0.3984\n",
      "Epoch 6/100\n",
      "1407/1407 [==============================] - 14s 10ms/step - loss: 1.6421 - accuracy: 0.4076 - val_loss: 1.6566 - val_accuracy: 0.4038\n",
      "Epoch 7/100\n",
      "1407/1407 [==============================] - 14s 10ms/step - loss: 1.6131 - accuracy: 0.4186 - val_loss: 1.6314 - val_accuracy: 0.4148\n",
      "Epoch 8/100\n",
      "1407/1407 [==============================] - 15s 11ms/step - loss: 1.5892 - accuracy: 0.4286 - val_loss: 1.6275 - val_accuracy: 0.4174\n",
      "Epoch 9/100\n",
      "1407/1407 [==============================] - 14s 10ms/step - loss: 1.5705 - accuracy: 0.4357 - val_loss: 1.6114 - val_accuracy: 0.4230\n",
      "Epoch 10/100\n",
      "1407/1407 [==============================] - 15s 11ms/step - loss: 1.5525 - accuracy: 0.4422 - val_loss: 1.6119 - val_accuracy: 0.4174\n",
      "Epoch 11/100\n",
      "1407/1407 [==============================] - 14s 10ms/step - loss: 1.5382 - accuracy: 0.4464 - val_loss: 1.5909 - val_accuracy: 0.4322\n",
      "Epoch 12/100\n",
      "1407/1407 [==============================] - 14s 10ms/step - loss: 1.5213 - accuracy: 0.4530 - val_loss: 1.5932 - val_accuracy: 0.4320\n",
      "Epoch 13/100\n",
      "1407/1407 [==============================] - 14s 10ms/step - loss: 1.5060 - accuracy: 0.4556 - val_loss: 1.5917 - val_accuracy: 0.4280\n",
      "Epoch 14/100\n",
      "1407/1407 [==============================] - 14s 10ms/step - loss: 1.4940 - accuracy: 0.4626 - val_loss: 1.5629 - val_accuracy: 0.4426\n",
      "Epoch 15/100\n",
      "1407/1407 [==============================] - 15s 11ms/step - loss: 1.4812 - accuracy: 0.4675 - val_loss: 1.5748 - val_accuracy: 0.4372\n",
      "Epoch 16/100\n",
      "1407/1407 [==============================] - 15s 10ms/step - loss: 1.4669 - accuracy: 0.4745 - val_loss: 1.5683 - val_accuracy: 0.4310\n",
      "Epoch 17/100\n",
      "1407/1407 [==============================] - 14s 10ms/step - loss: 1.4566 - accuracy: 0.4758 - val_loss: 1.5527 - val_accuracy: 0.4442\n",
      "Epoch 18/100\n",
      "1407/1407 [==============================] - 14s 10ms/step - loss: 1.4455 - accuracy: 0.4806 - val_loss: 1.5413 - val_accuracy: 0.4432\n",
      "Epoch 19/100\n",
      "1407/1407 [==============================] - 15s 10ms/step - loss: 1.4358 - accuracy: 0.4854 - val_loss: 1.5404 - val_accuracy: 0.4476\n",
      "Epoch 20/100\n",
      "1407/1407 [==============================] - 14s 10ms/step - loss: 1.4250 - accuracy: 0.4864 - val_loss: 1.5628 - val_accuracy: 0.4476\n",
      "Epoch 21/100\n",
      "1407/1407 [==============================] - 14s 10ms/step - loss: 1.4149 - accuracy: 0.4920 - val_loss: 1.5614 - val_accuracy: 0.4412\n",
      "Epoch 22/100\n",
      "1407/1407 [==============================] - 14s 10ms/step - loss: 1.4037 - accuracy: 0.4946 - val_loss: 1.5300 - val_accuracy: 0.4558\n",
      "Epoch 23/100\n",
      "1407/1407 [==============================] - 15s 10ms/step - loss: 1.3937 - accuracy: 0.4993 - val_loss: 1.5399 - val_accuracy: 0.4488\n",
      "Epoch 24/100\n",
      "1407/1407 [==============================] - 14s 10ms/step - loss: 1.3860 - accuracy: 0.5026 - val_loss: 1.5264 - val_accuracy: 0.4562\n",
      "Epoch 25/100\n",
      "1407/1407 [==============================] - 14s 10ms/step - loss: 1.3778 - accuracy: 0.5047 - val_loss: 1.5360 - val_accuracy: 0.4582\n",
      "Epoch 26/100\n",
      "1407/1407 [==============================] - 15s 10ms/step - loss: 1.3672 - accuracy: 0.5100 - val_loss: 1.5293 - val_accuracy: 0.4504\n",
      "Epoch 27/100\n",
      "1407/1407 [==============================] - 14s 10ms/step - loss: 1.3588 - accuracy: 0.5115 - val_loss: 1.5107 - val_accuracy: 0.4604\n",
      "Epoch 28/100\n",
      "1407/1407 [==============================] - 14s 10ms/step - loss: 1.3519 - accuracy: 0.5152 - val_loss: 1.5224 - val_accuracy: 0.4656\n",
      "Epoch 29/100\n",
      "1407/1407 [==============================] - 14s 10ms/step - loss: 1.3448 - accuracy: 0.5168 - val_loss: 1.5106 - val_accuracy: 0.4646\n",
      "Epoch 30/100\n",
      "1407/1407 [==============================] - 14s 10ms/step - loss: 1.3359 - accuracy: 0.5220 - val_loss: 1.5217 - val_accuracy: 0.4600\n",
      "Epoch 31/100\n",
      "1407/1407 [==============================] - 14s 10ms/step - loss: 1.3276 - accuracy: 0.5248 - val_loss: 1.5171 - val_accuracy: 0.4638\n",
      "Epoch 32/100\n",
      "1407/1407 [==============================] - 14s 10ms/step - loss: 1.3207 - accuracy: 0.5264 - val_loss: 1.5221 - val_accuracy: 0.4652\n",
      "Epoch 33/100\n",
      "1407/1407 [==============================] - 14s 10ms/step - loss: 1.3124 - accuracy: 0.5301 - val_loss: 1.5120 - val_accuracy: 0.4688\n",
      "Epoch 34/100\n",
      "1407/1407 [==============================] - 14s 10ms/step - loss: 1.3052 - accuracy: 0.5318 - val_loss: 1.5145 - val_accuracy: 0.4728\n",
      "Epoch 35/100\n",
      "1407/1407 [==============================] - 14s 10ms/step - loss: 1.2992 - accuracy: 0.5355 - val_loss: 1.5152 - val_accuracy: 0.4686\n",
      "Epoch 36/100\n",
      "1407/1407 [==============================] - 14s 10ms/step - loss: 1.2933 - accuracy: 0.5358 - val_loss: 1.5055 - val_accuracy: 0.4700\n",
      "Epoch 37/100\n",
      "1407/1407 [==============================] - 14s 10ms/step - loss: 1.2843 - accuracy: 0.5398 - val_loss: 1.5073 - val_accuracy: 0.4722\n",
      "Epoch 38/100\n",
      "1407/1407 [==============================] - 14s 10ms/step - loss: 1.2776 - accuracy: 0.5434 - val_loss: 1.5102 - val_accuracy: 0.4698\n",
      "Epoch 39/100\n",
      "1407/1407 [==============================] - 14s 10ms/step - loss: 1.2695 - accuracy: 0.5448 - val_loss: 1.5131 - val_accuracy: 0.4680\n",
      "Epoch 40/100\n",
      "1407/1407 [==============================] - 14s 10ms/step - loss: 1.2640 - accuracy: 0.5463 - val_loss: 1.5190 - val_accuracy: 0.4706\n",
      "Epoch 41/100\n",
      "1407/1407 [==============================] - 14s 10ms/step - loss: 1.2573 - accuracy: 0.5507 - val_loss: 1.5270 - val_accuracy: 0.4654\n",
      "Epoch 42/100\n",
      "1407/1407 [==============================] - 14s 10ms/step - loss: 1.2505 - accuracy: 0.5507 - val_loss: 1.5155 - val_accuracy: 0.4712\n",
      "Epoch 43/100\n",
      "1407/1407 [==============================] - 14s 10ms/step - loss: 1.2437 - accuracy: 0.5550 - val_loss: 1.5143 - val_accuracy: 0.4684\n",
      "Epoch 44/100\n",
      "1407/1407 [==============================] - 14s 10ms/step - loss: 1.2374 - accuracy: 0.5579 - val_loss: 1.5189 - val_accuracy: 0.4732\n",
      "Epoch 45/100\n",
      "1407/1407 [==============================] - 14s 10ms/step - loss: 1.2302 - accuracy: 0.5593 - val_loss: 1.5222 - val_accuracy: 0.4712\n",
      "Epoch 46/100\n",
      "1407/1407 [==============================] - 14s 10ms/step - loss: 1.2253 - accuracy: 0.5593 - val_loss: 1.5275 - val_accuracy: 0.4662\n"
     ]
    }
   ],
   "source": [
    "import math\n",
    "\n",
    "def step_decay(epoch, lr):\n",
    "    # initial_lrate = 1.0 # no longer needed\n",
    "    drop = 0.5\n",
    "    epochs_drop = 2.0\n",
    "    lrate = lr * math.pow(drop,math.floor((1+epoch)/epochs_drop))\n",
    "    return lrate\n",
    "\n",
    "my_callbacks = [\n",
    "    keras.callbacks.EarlyStopping(patience=10),\n",
    "    keras.callbacks.ModelCheckpoint(\"my_cifar10_model_selu.h5\", save_best_only=True),\n",
    "]\n",
    "\n",
    "optimizer = tf.keras.optimizers.Nadam(learning_rate=1e-5)\n",
    "model_selu.compile(optimizer=optimizer,\n",
    "    loss='sparse_categorical_crossentropy',\n",
    "    metrics=['accuracy'])\n",
    "\n",
    "history = model_selu.fit(X_train, y_train, batch_size=32,\n",
    "          validation_data=(X_valid, y_valid),\n",
    "          epochs=100,\n",
    "          callbacks=my_callbacks)"
   ]
  },
  {
   "cell_type": "code",
   "execution_count": 41,
   "id": "0ee8bb68",
   "metadata": {
    "scrolled": true
   },
   "outputs": [
    {
     "data": {
      "image/png": "[encoded data removed]",
      "text/plain": [
       "<Figure size 576x360 with 1 Axes>"
      ]
     },
     "metadata": {
      "needs_background": "light"
     },
     "output_type": "display_data"
    }
   ],
   "source": [
    "pd.DataFrame(history.history).plot(figsize=(8,5))\n",
    "plt.show()"
   ]
  },
  {
   "cell_type": "code",
   "execution_count": 42,
   "id": "61480584",
   "metadata": {},
   "outputs": [
    {
     "name": "stdout",
     "output_type": "stream",
     "text": [
      "157/157 [==============================] - 0s 3ms/step - loss: 1.5055 - accuracy: 0.0992\n"
     ]
    },
    {
     "data": {
      "text/plain": [
       "[1.5054540634155273, 0.09920000284910202]"
      ]
     },
     "execution_count": 42,
     "metadata": {},
     "output_type": "execute_result"
    }
   ],
   "source": [
    "model_loaded = keras.models.load_model(\"my_cifar10_model_selu.h5\")\n",
    "model_loaded.evaluate(X_valid, y_valid)"
   ]
  },
  {
   "cell_type": "code",
   "execution_count": 43,
   "id": "6d23d731",
   "metadata": {},
   "outputs": [
    {
     "name": "stdout",
     "output_type": "stream",
     "text": [
      "157/157 [==============================] - 0s 3ms/step - loss: 1.5275 - accuracy: 0.4662\n"
     ]
    },
    {
     "data": {
      "text/plain": [
       "[1.5275484323501587, 0.46619999408721924]"
      ]
     },
     "execution_count": 43,
     "metadata": {},
     "output_type": "execute_result"
    }
   ],
   "source": [
    "model_selu.evaluate(X_valid, y_valid)"
   ]
  },
  {
   "cell_type": "code",
   "execution_count": 101,
   "id": "487804b0",
   "metadata": {},
   "outputs": [],
   "source": [
    "model_alphadropout = keras.Sequential()\n",
    "model_alphadropout.add(keras.layers.Flatten(input_shape=(32, 32, 3)))\n",
    "initializer = tf.keras.initializers.LecunNormal()\n",
    "for i in range(20):\n",
    "    model_alphadropout.add(keras.layers.Dense(100, activation = 'selu', kernel_initializer=initializer))\n",
    "    \n",
    "model_alphadropout.add(keras.layers.AlphaDropout(rate=0.2))    \n",
    "model_alphadropout.add(keras.layers.Dense(10, activation='softmax'))"
   ]
  },
  {
   "cell_type": "code",
   "execution_count": 102,
   "id": "98e5c141",
   "metadata": {},
   "outputs": [],
   "source": [
    "X_train_scaled = X_train/255\n",
    "X_valid_scaled = X_valid/255\n",
    "X_test_scaled = X_test/255"
   ]
  },
  {
   "cell_type": "code",
   "execution_count": 105,
   "id": "9cbb275b",
   "metadata": {},
   "outputs": [
    {
     "name": "stdout",
     "output_type": "stream",
     "text": [
      "Epoch 1/100\n",
      "1407/1407 [==============================] - 17s 12ms/step - loss: 2.0786 - accuracy: 0.2303 - val_loss: 1.9641 - val_accuracy: 0.2858\n",
      "Epoch 2/100\n",
      "1407/1407 [==============================] - 17s 12ms/step - loss: 1.8833 - accuracy: 0.3167 - val_loss: 1.9998 - val_accuracy: 0.3216\n",
      "Epoch 3/100\n",
      "1407/1407 [==============================] - 17s 12ms/step - loss: 1.8006 - accuracy: 0.3531 - val_loss: 1.9033 - val_accuracy: 0.3418\n",
      "Epoch 4/100\n",
      "1407/1407 [==============================] - 17s 12ms/step - loss: 1.7395 - accuracy: 0.3735 - val_loss: 1.7977 - val_accuracy: 0.3696\n",
      "Epoch 5/100\n",
      "1407/1407 [==============================] - 17s 12ms/step - loss: 1.6883 - accuracy: 0.3986 - val_loss: 1.9865 - val_accuracy: 0.3018\n",
      "Epoch 6/100\n",
      "1407/1407 [==============================] - 18s 12ms/step - loss: 1.6526 - accuracy: 0.4135 - val_loss: 1.7186 - val_accuracy: 0.4094\n",
      "Epoch 7/100\n",
      "1407/1407 [==============================] - 19s 13ms/step - loss: 1.6170 - accuracy: 0.4260 - val_loss: 1.6343 - val_accuracy: 0.4276\n",
      "Epoch 8/100\n",
      "1407/1407 [==============================] - 18s 13ms/step - loss: 1.5937 - accuracy: 0.4340 - val_loss: 1.6099 - val_accuracy: 0.4330\n",
      "Epoch 9/100\n",
      "1407/1407 [==============================] - 17s 12ms/step - loss: 1.5691 - accuracy: 0.4442 - val_loss: 1.6044 - val_accuracy: 0.4492\n",
      "Epoch 10/100\n",
      "1407/1407 [==============================] - 17s 12ms/step - loss: 1.5427 - accuracy: 0.4551 - val_loss: 1.7462 - val_accuracy: 0.4152\n",
      "Epoch 11/100\n",
      "1407/1407 [==============================] - 17s 12ms/step - loss: 1.5273 - accuracy: 0.4608 - val_loss: 1.7093 - val_accuracy: 0.4314\n",
      "Epoch 12/100\n",
      "1407/1407 [==============================] - 17s 12ms/step - loss: 1.5093 - accuracy: 0.4701 - val_loss: 1.6880 - val_accuracy: 0.4370\n",
      "Epoch 13/100\n",
      "1407/1407 [==============================] - 17s 12ms/step - loss: 1.4908 - accuracy: 0.4740 - val_loss: 1.6405 - val_accuracy: 0.4520\n",
      "Epoch 14/100\n",
      "1407/1407 [==============================] - 17s 12ms/step - loss: 1.4697 - accuracy: 0.4803 - val_loss: 1.5910 - val_accuracy: 0.4600\n",
      "Epoch 15/100\n",
      "1407/1407 [==============================] - 16s 12ms/step - loss: 1.4548 - accuracy: 0.4894 - val_loss: 1.6336 - val_accuracy: 0.4408\n",
      "Epoch 16/100\n",
      "1407/1407 [==============================] - 16s 12ms/step - loss: 1.4343 - accuracy: 0.4935 - val_loss: 1.6770 - val_accuracy: 0.4544\n",
      "Epoch 17/100\n",
      "1407/1407 [==============================] - 17s 12ms/step - loss: 1.4250 - accuracy: 0.4988 - val_loss: 1.5985 - val_accuracy: 0.4800\n",
      "Epoch 18/100\n",
      "1407/1407 [==============================] - 17s 12ms/step - loss: 1.4088 - accuracy: 0.5052 - val_loss: 1.6112 - val_accuracy: 0.4692\n",
      "Epoch 19/100\n",
      "1407/1407 [==============================] - 17s 12ms/step - loss: 1.3904 - accuracy: 0.5101 - val_loss: 1.7347 - val_accuracy: 0.4584\n",
      "Epoch 20/100\n",
      "1407/1407 [==============================] - 17s 12ms/step - loss: 1.3746 - accuracy: 0.5157 - val_loss: 1.5411 - val_accuracy: 0.4728\n",
      "Epoch 21/100\n",
      "1407/1407 [==============================] - 17s 12ms/step - loss: 1.4115 - accuracy: 0.4995 - val_loss: 1.9068 - val_accuracy: 0.3172\n",
      "Epoch 22/100\n",
      "1407/1407 [==============================] - 17s 12ms/step - loss: 1.4466 - accuracy: 0.4866 - val_loss: 1.5789 - val_accuracy: 0.4728\n",
      "Epoch 23/100\n",
      "1407/1407 [==============================] - 17s 12ms/step - loss: 1.3443 - accuracy: 0.5283 - val_loss: 1.6237 - val_accuracy: 0.4536\n",
      "Epoch 24/100\n",
      "1407/1407 [==============================] - 18s 13ms/step - loss: 1.3247 - accuracy: 0.5344 - val_loss: 1.5925 - val_accuracy: 0.4812\n",
      "Epoch 25/100\n",
      "1407/1407 [==============================] - 18s 13ms/step - loss: 1.3109 - accuracy: 0.5409 - val_loss: 1.5461 - val_accuracy: 0.4878\n",
      "Epoch 26/100\n",
      "1407/1407 [==============================] - 17s 12ms/step - loss: 1.3182 - accuracy: 0.5379 - val_loss: 1.6644 - val_accuracy: 0.4408\n",
      "Epoch 27/100\n",
      "1407/1407 [==============================] - 17s 12ms/step - loss: 1.3056 - accuracy: 0.5416 - val_loss: 1.5867 - val_accuracy: 0.4912\n",
      "Epoch 28/100\n",
      "1407/1407 [==============================] - 18s 13ms/step - loss: 1.2736 - accuracy: 0.5557 - val_loss: 1.5848 - val_accuracy: 0.4822\n",
      "Epoch 29/100\n",
      "1407/1407 [==============================] - 19s 13ms/step - loss: 1.2645 - accuracy: 0.5556 - val_loss: 1.6146 - val_accuracy: 0.4882\n",
      "Epoch 30/100\n",
      "1407/1407 [==============================] - 17s 12ms/step - loss: 1.2464 - accuracy: 0.5621 - val_loss: 1.6581 - val_accuracy: 0.4856\n"
     ]
    }
   ],
   "source": [
    "my_callbacks = [\n",
    "    keras.callbacks.EarlyStopping(patience=10),\n",
    "    keras.callbacks.ModelCheckpoint(\"my_cifar10_model_alphadropout.h5\", save_best_only=True),\n",
    "]\n",
    "\n",
    "optimizer = tf.keras.optimizers.Nadam(learning_rate=5e-4)\n",
    "model_alphadropout.compile(optimizer=optimizer,\n",
    "    loss='sparse_categorical_crossentropy',\n",
    "    metrics=['accuracy'])\n",
    "\n",
    "history = model_alphadropout.fit(X_train_scaled, y_train, batch_size=32,\n",
    "          validation_data=(X_valid_scaled, y_valid),\n",
    "          epochs=100,\n",
    "          callbacks=my_callbacks)"
   ]
  },
  {
   "cell_type": "code",
   "execution_count": 106,
   "id": "53ca0f45",
   "metadata": {},
   "outputs": [
    {
     "data": {
      "image/png": "[encoded data removed]",
      "text/plain": [
       "<Figure size 576x360 with 1 Axes>"
      ]
     },
     "metadata": {
      "needs_background": "light"
     },
     "output_type": "display_data"
    }
   ],
   "source": [
    "pd.DataFrame(history.history).plot(figsize=(8,5))\n",
    "plt.show()"
   ]
  },
  {
   "cell_type": "code",
   "execution_count": 107,
   "id": "9dc81e13",
   "metadata": {},
   "outputs": [
    {
     "name": "stdout",
     "output_type": "stream",
     "text": [
      "157/157 [==============================] - 1s 3ms/step - loss: 1.5411 - accuracy: 0.1074\n"
     ]
    },
    {
     "data": {
      "text/plain": [
       "[1.5411227941513062, 0.10740000009536743]"
      ]
     },
     "execution_count": 107,
     "metadata": {},
     "output_type": "execute_result"
    }
   ],
   "source": [
    "model_loaded = keras.models.load_model(\"my_cifar10_model_alphadropout.h5\")\n",
    "model_loaded.evaluate(X_valid_scaled, y_valid)"
   ]
  },
  {
   "cell_type": "code",
   "execution_count": 108,
   "id": "0e12cae2",
   "metadata": {},
   "outputs": [
    {
     "name": "stdout",
     "output_type": "stream",
     "text": [
      "157/157 [==============================] - 0s 3ms/step - loss: 1.6581 - accuracy: 0.4856\n"
     ]
    },
    {
     "data": {
      "text/plain": [
       "[1.65809965133667, 0.48559999465942383]"
      ]
     },
     "execution_count": 108,
     "metadata": {},
     "output_type": "execute_result"
    }
   ],
   "source": [
    "model_alphadropout.evaluate(X_valid_scaled, y_valid)"
   ]
  },
  {
   "cell_type": "code",
   "execution_count": 110,
   "id": "54baec6c",
   "metadata": {},
   "outputs": [],
   "source": [
    "class MonteCarloDropout(keras.layers.Dropout):\n",
    "    def call(self, inputs):\n",
    "        return super().call(inputs, training=True)"
   ]
  },
  {
   "cell_type": "code",
   "execution_count": 168,
   "id": "1b3e219a",
   "metadata": {},
   "outputs": [],
   "source": [
    "mc_model = keras.models.Sequential([\n",
    "    MCAlphaDropout(layer.rate) if isinstance(layer, keras.layers.AlphaDropout) else layer\n",
    "    for layer in model.layers\n",
    "])"
   ]
  },
  {
   "cell_type": "code",
   "execution_count": 169,
   "id": "cd82ddb0",
   "metadata": {},
   "outputs": [],
   "source": [
    "def mc_dropout_predict_probas(mc_model, X, n_samples=10):\n",
    "    Y_probas = [mc_model.predict(X) for sample in range(n_samples)]\n",
    "    return np.mean(Y_probas, axis=0)\n",
    "\n",
    "def mc_dropout_predict_classes(mc_model, X, n_samples=10):\n",
    "    Y_probas = mc_dropout_predict_probas(mc_model, X, n_samples)\n",
    "    return np.argmax(Y_probas, axis=1)"
   ]
  },
  {
   "cell_type": "code",
   "execution_count": 170,
   "id": "7f5235a9",
   "metadata": {},
   "outputs": [
    {
     "data": {
      "text/plain": [
       "0.0994"
      ]
     },
     "execution_count": 170,
     "metadata": {},
     "output_type": "execute_result"
    }
   ],
   "source": [
    "keras.backend.clear_session()\n",
    "tf.random.set_seed(42)\n",
    "np.random.seed(42)\n",
    "\n",
    "y_pred = mc_dropout_predict_classes(mc_model, X_valid_scaled)\n",
    "accuracy = np.mean(y_pred == y_valid[:, 0])\n",
    "accuracy"
   ]
  },
  {
   "cell_type": "code",
   "execution_count": 177,
   "id": "3216b71c",
   "metadata": {},
   "outputs": [],
   "source": [
    "K = keras.backend\n",
    "class OneCycleScheduler(keras.callbacks.Callback):\n",
    "    def __init__(self, iterations, max_rate, start_rate=None,\n",
    "                 last_iterations=None, last_rate=None):\n",
    "        self.iterations = iterations\n",
    "        self.max_rate = max_rate\n",
    "        self.start_rate = start_rate or max_rate / 10\n",
    "        self.last_iterations = last_iterations or iterations // 10 + 1\n",
    "        self.half_iteration = (iterations - self.last_iterations) // 2\n",
    "        self.last_rate = last_rate or self.start_rate / 1000\n",
    "        self.iteration = 0\n",
    "    def _interpolate(self, iter1, iter2, rate1, rate2):\n",
    "        return ((rate2 - rate1) * (self.iteration - iter1)\n",
    "                / (iter2 - iter1) + rate1)\n",
    "    def on_batch_begin(self, batch, logs):\n",
    "        if self.iteration < self.half_iteration:\n",
    "            rate = self._interpolate(0, self.half_iteration, self.start_rate, self.max_rate)\n",
    "        elif self.iteration < 2 * self.half_iteration:\n",
    "            rate = self._interpolate(self.half_iteration, 2 * self.half_iteration,\n",
    "                                     self.max_rate, self.start_rate)\n",
    "        else:\n",
    "            rate = self._interpolate(2 * self.half_iteration, self.iterations,\n",
    "                                     self.start_rate, self.last_rate)\n",
    "        self.iteration += 1\n",
    "        K.set_value(self.model.optimizer.lr, rate)"
   ]
  },
  {
   "cell_type": "code",
   "execution_count": 182,
   "id": "d47793e6",
   "metadata": {},
   "outputs": [],
   "source": [
    "model = keras.models.Sequential()\n",
    "model.add(keras.layers.Flatten(input_shape=[32, 32, 3]))\n",
    "for _ in range(20):\n",
    "    model.add(keras.layers.Dense(100,\n",
    "                                 kernel_initializer=\"lecun_normal\",\n",
    "                                 activation=\"selu\"))\n",
    "\n",
    "model.add(keras.layers.AlphaDropout(rate=0.1))\n",
    "model.add(keras.layers.Dense(10, activation=\"softmax\"))\n",
    "\n",
    "optimizer = keras.optimizers.SGD(learning_rate=1e-2)\n",
    "model.compile(loss=\"sparse_categorical_crossentropy\",\n",
    "              optimizer=optimizer,\n",
    "              metrics=[\"accuracy\"])"
   ]
  },
  {
   "cell_type": "code",
   "execution_count": 183,
   "id": "682d8e96",
   "metadata": {},
   "outputs": [
    {
     "name": "stdout",
     "output_type": "stream",
     "text": [
      "Epoch 1/15\n",
      "352/352 [==============================] - 6s 18ms/step - loss: 2.2082 - accuracy: 0.2056 - val_loss: 2.0389 - val_accuracy: 0.3088\n",
      "Epoch 2/15\n",
      "352/352 [==============================] - 6s 17ms/step - loss: 1.9719 - accuracy: 0.2866 - val_loss: 1.8868 - val_accuracy: 0.3116\n",
      "Epoch 3/15\n",
      "352/352 [==============================] - 6s 17ms/step - loss: 1.8982 - accuracy: 0.3192 - val_loss: 1.9676 - val_accuracy: 0.2912\n",
      "Epoch 4/15\n",
      "352/352 [==============================] - 6s 17ms/step - loss: 1.8406 - accuracy: 0.3378 - val_loss: 1.7685 - val_accuracy: 0.3612\n",
      "Epoch 5/15\n",
      "352/352 [==============================] - 6s 17ms/step - loss: 1.8139 - accuracy: 0.3478 - val_loss: 1.9073 - val_accuracy: 0.3448\n",
      "Epoch 6/15\n",
      "352/352 [==============================] - 6s 17ms/step - loss: 1.7902 - accuracy: 0.3561 - val_loss: 2.1498 - val_accuracy: 0.2818\n",
      "Epoch 7/15\n",
      "352/352 [==============================] - 6s 18ms/step - loss: 1.7705 - accuracy: 0.3657 - val_loss: 1.7182 - val_accuracy: 0.3788\n",
      "Epoch 8/15\n",
      "352/352 [==============================] - 6s 17ms/step - loss: 1.6714 - accuracy: 0.3990 - val_loss: 1.6267 - val_accuracy: 0.4198\n",
      "Epoch 9/15\n",
      "352/352 [==============================] - 6s 18ms/step - loss: 1.6095 - accuracy: 0.4209 - val_loss: 1.6369 - val_accuracy: 0.4146\n",
      "Epoch 10/15\n",
      "352/352 [==============================] - 6s 18ms/step - loss: 1.5490 - accuracy: 0.4412 - val_loss: 1.6478 - val_accuracy: 0.4210\n",
      "Epoch 11/15\n",
      "352/352 [==============================] - 6s 18ms/step - loss: 1.5012 - accuracy: 0.4590 - val_loss: 1.6164 - val_accuracy: 0.4222\n",
      "Epoch 12/15\n",
      "352/352 [==============================] - 7s 19ms/step - loss: 1.4584 - accuracy: 0.4753 - val_loss: 1.5708 - val_accuracy: 0.4448\n",
      "Epoch 13/15\n",
      "352/352 [==============================] - 6s 18ms/step - loss: 1.4180 - accuracy: 0.4882 - val_loss: 1.5093 - val_accuracy: 0.4676\n",
      "Epoch 14/15\n",
      "352/352 [==============================] - 7s 19ms/step - loss: 1.3815 - accuracy: 0.5015 - val_loss: 1.4914 - val_accuracy: 0.4790\n",
      "Epoch 15/15\n",
      "352/352 [==============================] - 6s 18ms/step - loss: 1.3618 - accuracy: 0.5094 - val_loss: 1.4964 - val_accuracy: 0.4796\n"
     ]
    }
   ],
   "source": [
    "n_epochs = 15\n",
    "batch_size = 128\n",
    "onecycle = OneCycleScheduler(math.ceil(len(X_train_scaled) / batch_size) * n_epochs, max_rate=0.05)\n",
    "history = model.fit(X_train_scaled, y_train, epochs=n_epochs, batch_size=batch_size,\n",
    "                    validation_data=(X_valid_scaled, y_valid),\n",
    "                    callbacks=[onecycle])"
   ]
  },
  {
   "cell_type": "code",
   "execution_count": null,
   "id": "1e4ca474",
   "metadata": {},
   "outputs": [],
   "source": []
  }
 ],
 "metadata": {
  "kernelspec": {
   "display_name": "Python 3",
   "language": "python",
   "name": "python3"
  },
  "language_info": {
   "codemirror_mode": {
    "name": "ipython",
    "version": 3
   },
   "file_extension": ".py",
   "mimetype": "text/x-python",
   "name": "python",
   "nbconvert_exporter": "python",
   "pygments_lexer": "ipython3",
   "version": "3.7.11"
  }
 },
 "nbformat": 4,
 "nbformat_minor": 5
}
