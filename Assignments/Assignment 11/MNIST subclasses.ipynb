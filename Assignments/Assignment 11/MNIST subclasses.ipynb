{
 "cells": [
  {
   "cell_type": "code",
   "execution_count": 74,
   "id": "ab69534a",
   "metadata": {},
   "outputs": [],
   "source": [
    "import tensorflow as tf"
   ]
  },
  {
   "cell_type": "code",
   "execution_count": 75,
   "id": "30fa3840",
   "metadata": {},
   "outputs": [
    {
     "name": "stdout",
     "output_type": "stream",
     "text": [
      "[name: \"/device:CPU:0\"\n",
      "device_type: \"CPU\"\n",
      "memory_limit: 268435456\n",
      "locality {\n",
      "}\n",
      "incarnation: 17686236815352820304\n",
      ", name: \"/device:GPU:0\"\n",
      "device_type: \"GPU\"\n",
      "memory_limit: 4853137408\n",
      "locality {\n",
      "  bus_id: 1\n",
      "  links {\n",
      "  }\n",
      "}\n",
      "incarnation: 17228742448382689561\n",
      "physical_device_desc: \"device: 0, name: NVIDIA GeForce GTX 1060 with Max-Q Design, pci bus id: 0000:01:00.0, compute capability: 6.1\"\n",
      "]\n"
     ]
    }
   ],
   "source": [
    "from tensorflow.python.client import device_lib\n",
    "print(device_lib.list_local_devices())"
   ]
  },
  {
   "cell_type": "code",
   "execution_count": 76,
   "id": "f871e8cb",
   "metadata": {},
   "outputs": [
    {
     "name": "stdout",
     "output_type": "stream",
     "text": [
      "Num GPUs Available:  1\n"
     ]
    }
   ],
   "source": [
    "print(\"Num GPUs Available: \", len(tf.config.list_physical_devices('GPU')))"
   ]
  },
  {
   "cell_type": "code",
   "execution_count": 197,
   "id": "ce0de73f",
   "metadata": {},
   "outputs": [],
   "source": [
    "from tensorflow.keras.datasets import mnist\n",
    "from tensorflow import keras"
   ]
  },
  {
   "cell_type": "code",
   "execution_count": 198,
   "id": "b79352a7",
   "metadata": {},
   "outputs": [],
   "source": [
    "(x_train, y_train), (x_test, y_test) = mnist.load_data()"
   ]
  },
  {
   "cell_type": "code",
   "execution_count": 199,
   "id": "dc134c29",
   "metadata": {},
   "outputs": [
    {
     "data": {
      "text/plain": [
       "(60000, 28, 28)"
      ]
     },
     "execution_count": 199,
     "metadata": {},
     "output_type": "execute_result"
    }
   ],
   "source": [
    "x_train.shape"
   ]
  },
  {
   "cell_type": "code",
   "execution_count": 200,
   "id": "3ee4ae70",
   "metadata": {},
   "outputs": [],
   "source": [
    "x_train = x_train.reshape(-1, 28, 28, 1).astype('float32')/255\n",
    "x_test = x_test.reshape(-1, 28, 28, 1).astype('float32')/255"
   ]
  },
  {
   "cell_type": "code",
   "execution_count": 81,
   "id": "ed665fab",
   "metadata": {},
   "outputs": [],
   "source": [
    "class CNNBlock(keras.layers.Layer):\n",
    "    def __init__(self, out_channels, kernel_size=3):\n",
    "        super().__init__() #To run parent class tf.keras.layers.Layer\n",
    "        self.Conv = keras.layers.Conv2D(out_channels, kernel_size, padding='same')\n",
    "        self.BN = keras.layers.BatchNormalization()\n",
    "    \n",
    "    def call(self, input_tensor, training=False): #Forward Method/Propagation\n",
    "        x = self.Conv(input_tensor)\n",
    "        x = self.BN(x, training=training)\n",
    "        x = tf.nn.relu(x)\n",
    "        return x"
   ]
  },
  {
   "cell_type": "code",
   "execution_count": 82,
   "id": "b9028611",
   "metadata": {},
   "outputs": [],
   "source": [
    "model = tf.keras.Sequential([\n",
    "    CNNBlock(32),\n",
    "    CNNBlock(64),\n",
    "    CNNBlock(128),\n",
    "    tf.keras.layers.Flatten(),\n",
    "    tf.keras.layers.Dense(10)\n",
    "])"
   ]
  },
  {
   "cell_type": "code",
   "execution_count": 83,
   "id": "4fde6c9a",
   "metadata": {},
   "outputs": [],
   "source": [
    "model.compile(optimizer='adam',\n",
    "              loss= keras.losses.SparseCategoricalCrossentropy(from_logits=True),\n",
    "              metrics=['accuracy']\n",
    ")"
   ]
  },
  {
   "cell_type": "code",
   "execution_count": 56,
   "id": "5ee5a22c",
   "metadata": {},
   "outputs": [
    {
     "name": "stdout",
     "output_type": "stream",
     "text": [
      "Epoch 1/3\n",
      "938/938 [==============================] - 20s 20ms/step - loss: 0.4536 - accuracy: 0.9508\n",
      "Epoch 2/3\n",
      "938/938 [==============================] - 19s 20ms/step - loss: 0.0574 - accuracy: 0.9850\n",
      "Epoch 3/3\n",
      "938/938 [==============================] - 19s 20ms/step - loss: 0.0332 - accuracy: 0.98920s - loss: 0.033\n"
     ]
    },
    {
     "data": {
      "text/plain": [
       "<keras.callbacks.History at 0x2023d61ea48>"
      ]
     },
     "execution_count": 56,
     "metadata": {},
     "output_type": "execute_result"
    }
   ],
   "source": [
    "model.fit(x_train, y_train, batch_size=64, epochs=3)"
   ]
  },
  {
   "cell_type": "code",
   "execution_count": 57,
   "id": "f9b5b981",
   "metadata": {},
   "outputs": [
    {
     "name": "stdout",
     "output_type": "stream",
     "text": [
      "313/313 [==============================] - 2s 5ms/step - loss: 0.0445 - accuracy: 0.9873\n"
     ]
    },
    {
     "data": {
      "text/plain": [
       "[0.04453292116522789, 0.9872999787330627]"
      ]
     },
     "execution_count": 57,
     "metadata": {},
     "output_type": "execute_result"
    }
   ],
   "source": [
    "model.evaluate(x_test, y_test)"
   ]
  },
  {
   "cell_type": "code",
   "execution_count": 84,
   "id": "96cba9cd",
   "metadata": {},
   "outputs": [],
   "source": [
    "class ResBlock(keras.layers.Layer):\n",
    "    def __init__(self, channels):\n",
    "        super(ResBlock, self).__init__() #To run parent class tf.keras.layers.Layer\n",
    "        self.cnn0 = CNNBlock(channels[0])\n",
    "        self.cnn1 = CNNBlock(channels[1])\n",
    "        self.cnn2 = CNNBlock(channels[2])\n",
    "        self.pooling = tf.keras.layers.MaxPool2D()\n",
    "        self.identity_mapping = keras.layers.Conv2D(channels[1], 1, padding='same')\n",
    "    \n",
    "    def call(self, input_tensor, training=False): #Forward Method/Propagation\n",
    "        x = self.cnn0(input_tensor, training=training)\n",
    "        x = self.cnn1(x, training=training)\n",
    "        x = self.cnn2(x+self.identity_mapping(input_tensor), training=training)\n",
    "        return self.pooling(x)"
   ]
  },
  {
   "cell_type": "code",
   "execution_count": 85,
   "id": "c558b251",
   "metadata": {},
   "outputs": [],
   "source": [
    "class ResNetLike(keras.Model):\n",
    "    def __init__(self, classes_num=10):\n",
    "        super().__init__()\n",
    "        self.block1 = ResBlock([32, 32, 64])\n",
    "        self.block2 = ResBlock([128, 128, 256])\n",
    "        self.block3 = ResBlock([128, 256, 512])\n",
    "        self.pool = keras.layers.GlobalAvgPool2D()\n",
    "        self.classifier = keras.layers.Dense(classes_num)\n",
    "        \n",
    "    def call(self, input_tensor, training=False):\n",
    "        x = self.block1(input_tensor, training=training)\n",
    "        x = self.block2(x, training=training)\n",
    "        x = self.block3(x, training=training)\n",
    "        x = self.pool(x, training=training)\n",
    "        return self.classifier(x)\n",
    "\n",
    "    def model(self):\n",
    "        x = keras.Input(shape=(28, 28, 1))\n",
    "        return keras.Model(x, self.call(x))"
   ]
  },
  {
   "cell_type": "code",
   "execution_count": 86,
   "id": "fb49845e",
   "metadata": {},
   "outputs": [],
   "source": [
    "model = ResNetLike(classes_num=10)"
   ]
  },
  {
   "cell_type": "code",
   "execution_count": 87,
   "id": "6c2d34b3",
   "metadata": {},
   "outputs": [],
   "source": [
    "model.compile(optimizer='adam',\n",
    "              loss= keras.losses.SparseCategoricalCrossentropy(from_logits=True),\n",
    "              metrics=['accuracy']\n",
    ")"
   ]
  },
  {
   "cell_type": "code",
   "execution_count": 62,
   "id": "f5c18fb7",
   "metadata": {},
   "outputs": [
    {
     "name": "stdout",
     "output_type": "stream",
     "text": [
      "Epoch 1/3\n",
      "938/938 [==============================] - 37s 38ms/step - loss: 0.0827 - accuracy: 0.9750\n",
      "Epoch 2/3\n",
      "938/938 [==============================] - 38s 40ms/step - loss: 0.0336 - accuracy: 0.9893\n",
      "Epoch 3/3\n",
      "938/938 [==============================] - 37s 40ms/step - loss: 0.0271 - accuracy: 0.9915\n"
     ]
    },
    {
     "data": {
      "text/plain": [
       "<keras.callbacks.History at 0x20234ea3a88>"
      ]
     },
     "execution_count": 62,
     "metadata": {},
     "output_type": "execute_result"
    }
   ],
   "source": [
    "model.fit(x_train, y_train, batch_size=64, epochs=3)"
   ]
  },
  {
   "cell_type": "code",
   "execution_count": 63,
   "id": "dac1c574",
   "metadata": {},
   "outputs": [
    {
     "name": "stdout",
     "output_type": "stream",
     "text": [
      "Model: \"model_1\"\n",
      "_________________________________________________________________\n",
      "Layer (type)                 Output Shape              Param #   \n",
      "=================================================================\n",
      "input_2 (InputLayer)         [(None, 28, 28, 1)]       0         \n",
      "_________________________________________________________________\n",
      "res_block_15 (ResBlock)      (None, 14, 14, 64)        28640     \n",
      "_________________________________________________________________\n",
      "res_block_16 (ResBlock)      (None, 7, 7, 256)         526976    \n",
      "_________________________________________________________________\n",
      "res_block_17 (ResBlock)      (None, 3, 3, 512)         1839744   \n",
      "_________________________________________________________________\n",
      "global_average_pooling2d_5 ( (None, 512)               0         \n",
      "_________________________________________________________________\n",
      "dense_9 (Dense)              (None, 10)                5130      \n",
      "=================================================================\n",
      "Total params: 2,400,490\n",
      "Trainable params: 2,397,418\n",
      "Non-trainable params: 3,072\n",
      "_________________________________________________________________\n",
      "None\n"
     ]
    }
   ],
   "source": [
    "print(model.model().summary())"
   ]
  },
  {
   "cell_type": "code",
   "execution_count": 64,
   "id": "a290eeb4",
   "metadata": {},
   "outputs": [
    {
     "name": "stdout",
     "output_type": "stream",
     "text": [
      "313/313 [==============================] - 3s 9ms/step - loss: 0.0401 - accuracy: 0.9861\n"
     ]
    },
    {
     "data": {
      "text/plain": [
       "[0.040102772414684296, 0.9861000180244446]"
      ]
     },
     "execution_count": 64,
     "metadata": {},
     "output_type": "execute_result"
    }
   ],
   "source": [
    "model.evaluate(x_test, y_test)"
   ]
  },
  {
   "cell_type": "code",
   "execution_count": 109,
   "id": "bf03e6da",
   "metadata": {},
   "outputs": [],
   "source": [
    "import keras.layers as layer\n",
    "\n",
    "class myModel(keras.Model):\n",
    "    def __init__(self, num_classes=10, **kwargs):\n",
    "        super().__init__(**kwargs)\n",
    "        self.dense1 = layer.Dense(64)\n",
    "        self.dense2 = layer.Dense(10)\n",
    "        self.flat = layer.Flatten()\n",
    "        \n",
    "    def call(self, input_tensor, training=False):\n",
    "        x = self.dense1(input_tensor)\n",
    "        x = tf.nn.relu(x)\n",
    "        x = self.flat(x)\n",
    "        return self.dense2(x)"
   ]
  },
  {
   "cell_type": "code",
   "execution_count": 110,
   "id": "a96726a4",
   "metadata": {},
   "outputs": [],
   "source": [
    "model = myModel()"
   ]
  },
  {
   "cell_type": "code",
   "execution_count": 111,
   "id": "142252ca",
   "metadata": {},
   "outputs": [],
   "source": [
    "model.compile(optimizer='adam',\n",
    "              loss= keras.losses.SparseCategoricalCrossentropy(from_logits=True),\n",
    "              metrics=['accuracy']\n",
    ")"
   ]
  },
  {
   "cell_type": "code",
   "execution_count": 112,
   "id": "c638d534",
   "metadata": {},
   "outputs": [
    {
     "name": "stdout",
     "output_type": "stream",
     "text": [
      "Epoch 1/2\n",
      "1875/1875 [==============================] - 7s 4ms/step - loss: 0.3530 - accuracy: 0.8992\n",
      "Epoch 2/2\n",
      "1875/1875 [==============================] - 6s 3ms/step - loss: 0.2923 - accuracy: 0.9176\n"
     ]
    },
    {
     "data": {
      "text/plain": [
       "<keras.callbacks.History at 0x20279233d88>"
      ]
     },
     "execution_count": 112,
     "metadata": {},
     "output_type": "execute_result"
    }
   ],
   "source": [
    "model.fit(x_train, y_train, batch_size=32, epochs=2)"
   ]
  },
  {
   "cell_type": "code",
   "execution_count": 113,
   "id": "24e4e677",
   "metadata": {},
   "outputs": [
    {
     "name": "stdout",
     "output_type": "stream",
     "text": [
      "313/313 [==============================] - 1s 3ms/step - loss: 0.2787 - accuracy: 0.9216\n"
     ]
    },
    {
     "data": {
      "text/plain": [
       "[0.27867260575294495, 0.9215999841690063]"
      ]
     },
     "execution_count": 113,
     "metadata": {},
     "output_type": "execute_result"
    }
   ],
   "source": [
    "model.evaluate(x_test, y_test)"
   ]
  },
  {
   "cell_type": "code",
   "execution_count": 179,
   "id": "b1ea2816",
   "metadata": {},
   "outputs": [],
   "source": [
    "class Dense(keras.layers.Layer):\n",
    "    def __init__(self, units, **kwargs):\n",
    "        super().__init__(**kwargs)\n",
    "        self.units = units\n",
    "        \n",
    "    def call(self, inputs):\n",
    "        return tf.matmul(inputs, self.W) + self.b\n",
    "    \n",
    "    def build(self, input_shape):\n",
    "        self.W = self.add_weight(name = 'W',\n",
    "                                 shape=(input_shape[-1], self.units), \n",
    "                                 initializer=\"random_normal\", \n",
    "                                 trainable=True)\n",
    "        self.b = self.add_weight(name = 'b',shape=(self.units,), \n",
    "                                 initializer=\"zeros\", \n",
    "                                 trainable=True)"
   ]
  },
  {
   "cell_type": "code",
   "execution_count": 208,
   "id": "1562622b",
   "metadata": {},
   "outputs": [],
   "source": [
    "import keras.layers as layer\n",
    "class myReLU(keras.layers.Layer):\n",
    "    def __init__(self, **kwargs):\n",
    "        super().__init__(**kwargs)\n",
    "    \n",
    "    def call(self, input_tensor):\n",
    "        return tf.math.maximum(0.0, input_tensor)\n",
    "    \n",
    "    \n",
    "class myModel2(keras.Model):\n",
    "    def __init__(self, num_classes=10, **kwargs):\n",
    "        super().__init__(**kwargs)\n",
    "        self.dense1 = Dense(128)\n",
    "        self.dense2 = Dense(10)\n",
    "        self.flat = layer.Flatten()\n",
    "        self.relu = myReLU()\n",
    "        \n",
    "    def call(self, input_tensor, training=False):\n",
    "        x = self.relu(self.dense1(input_tensor))\n",
    "        x = self.flat(x)\n",
    "        return self.dense2(x)"
   ]
  },
  {
   "cell_type": "code",
   "execution_count": 210,
   "id": "ad1bcc1d",
   "metadata": {},
   "outputs": [],
   "source": [
    "model = myModel2(num_classes=10)\n",
    "model.compile(optimizer='adam',\n",
    "              loss= keras.losses.SparseCategoricalCrossentropy(from_logits=True),\n",
    "              metrics=['accuracy']\n",
    ")"
   ]
  },
  {
   "cell_type": "code",
   "execution_count": 211,
   "id": "7b6c78ac",
   "metadata": {
    "scrolled": true
   },
   "outputs": [
    {
     "name": "stdout",
     "output_type": "stream",
     "text": [
      "Epoch 1/5\n",
      "469/469 [==============================] - 6s 11ms/step - loss: 0.3953 - accuracy: 0.8889\n",
      "Epoch 2/5\n",
      "469/469 [==============================] - 5s 11ms/step - loss: 0.2861 - accuracy: 0.9197\n",
      "Epoch 3/5\n",
      "469/469 [==============================] - 6s 12ms/step - loss: 0.2757 - accuracy: 0.9231\n",
      "Epoch 4/5\n",
      "469/469 [==============================] - 5s 10ms/step - loss: 0.2689 - accuracy: 0.9253\n",
      "Epoch 5/5\n",
      "469/469 [==============================] - 5s 10ms/step - loss: 0.2651 - accuracy: 0.9253\n"
     ]
    },
    {
     "data": {
      "text/plain": [
       "<keras.callbacks.History at 0x2023c999308>"
      ]
     },
     "execution_count": 211,
     "metadata": {},
     "output_type": "execute_result"
    }
   ],
   "source": [
    "model.fit(x_train, y_train, \n",
    "          batch_size=128, \n",
    "          epochs=5)"
   ]
  },
  {
   "cell_type": "code",
   "execution_count": 212,
   "id": "4574007d",
   "metadata": {},
   "outputs": [
    {
     "name": "stdout",
     "output_type": "stream",
     "text": [
      "313/313 [==============================] - 1s 3ms/step - loss: 0.2712 - accuracy: 0.9252\n"
     ]
    },
    {
     "data": {
      "text/plain": [
       "[0.2711792588233948, 0.9251999855041504]"
      ]
     },
     "execution_count": 212,
     "metadata": {},
     "output_type": "execute_result"
    }
   ],
   "source": [
    "model.evaluate(x_test, y_test)"
   ]
  },
  {
   "cell_type": "code",
   "execution_count": 214,
   "id": "efe7f60b",
   "metadata": {},
   "outputs": [
    {
     "name": "stdout",
     "output_type": "stream",
     "text": [
      "Model: \"my_model2_23\"\n",
      "_________________________________________________________________\n",
      "Layer (type)                 Output Shape              Param #   \n",
      "=================================================================\n",
      "dense_70 (Dense)             multiple                  256       \n",
      "_________________________________________________________________\n",
      "dense_71 (Dense)             multiple                  1003530   \n",
      "_________________________________________________________________\n",
      "flatten_26 (Flatten)         multiple                  0         \n",
      "_________________________________________________________________\n",
      "my_re_lu_15 (myReLU)         multiple                  0         \n",
      "=================================================================\n",
      "Total params: 1,003,786\n",
      "Trainable params: 1,003,786\n",
      "Non-trainable params: 0\n",
      "_________________________________________________________________\n"
     ]
    }
   ],
   "source": [
    "model.summary()"
   ]
  },
  {
   "cell_type": "code",
   "execution_count": null,
   "id": "d1527ed3",
   "metadata": {},
   "outputs": [],
   "source": []
  }
 ],
 "metadata": {
  "kernelspec": {
   "display_name": "Python 3 (ipykernel)",
   "language": "python",
   "name": "python3"
  },
  "language_info": {
   "codemirror_mode": {
    "name": "ipython",
    "version": 3
   },
   "file_extension": ".py",
   "mimetype": "text/x-python",
   "name": "python",
   "nbconvert_exporter": "python",
   "pygments_lexer": "ipython3",
   "version": "3.7.11"
  }
 },
 "nbformat": 4,
 "nbformat_minor": 5
}
