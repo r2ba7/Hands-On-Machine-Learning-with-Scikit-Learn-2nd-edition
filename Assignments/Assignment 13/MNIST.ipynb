{
 "cells": [
  {
   "cell_type": "code",
   "execution_count": null,
   "id": "37fccbc5",
   "metadata": {},
   "outputs": [],
   "source": [
    "import warnings\n",
    "import pandas as pd\n",
    "import numpy as np\n",
    "import matplotlib as mpl\n",
    "import matplotlib.pyplot as plt\n",
    "\n",
    "%matplotlib inline\n",
    "warnings.filterwarnings('ignore')"
   ]
  },
  {
   "cell_type": "code",
   "execution_count": null,
   "id": "b2bf52ca",
   "metadata": {},
   "outputs": [],
   "source": [
    "from sklearn.datasets import fetch_openml\n",
    "mnist = fetch_openml('mnist_784', version=1)\n",
    "mnist.keys()"
   ]
  },
  {
   "cell_type": "code",
   "execution_count": null,
   "id": "dcff7117",
   "metadata": {},
   "outputs": [],
   "source": [
    "X = mnist['data']\n",
    "y = mnist['target']\n",
    "\n",
    "y = y.astype(np.uint8)"
   ]
  },
  {
   "cell_type": "code",
   "execution_count": null,
   "id": "59712886",
   "metadata": {},
   "outputs": [],
   "source": [
    "print(X.shape, y.shape)"
   ]
  },
  {
   "cell_type": "code",
   "execution_count": null,
   "id": "3779ad7b",
   "metadata": {},
   "outputs": [],
   "source": [
    "def plot_digits(X):\n",
    "    some_digit = X\n",
    "    some_digit = np.array(some_digit)\n",
    "    some_digit_pic = some_digit.reshape(28, 28)\n",
    "    fig = plt.figure\n",
    "    plt.imshow(some_digit_pic, cmap='binary')\n",
    "    plt.show()"
   ]
  },
  {
   "cell_type": "markdown",
   "id": "5db49b7b",
   "metadata": {},
   "source": [
    "# Binary Classification"
   ]
  },
  {
   "cell_type": "code",
   "execution_count": null,
   "id": "a5f8ddd0",
   "metadata": {},
   "outputs": [],
   "source": [
    "some_digit = X.iloc[[0]].values.tolist()"
   ]
  },
  {
   "cell_type": "code",
   "execution_count": null,
   "id": "38d7ffb9",
   "metadata": {},
   "outputs": [],
   "source": [
    "plot_digits(some_digit)"
   ]
  },
  {
   "cell_type": "code",
   "execution_count": null,
   "id": "670ebbde",
   "metadata": {},
   "outputs": [],
   "source": [
    "y[0]"
   ]
  },
  {
   "cell_type": "code",
   "execution_count": null,
   "id": "b8a2faa1",
   "metadata": {},
   "outputs": [],
   "source": [
    "from sklearn.model_selection import train_test_split"
   ]
  },
  {
   "cell_type": "code",
   "execution_count": null,
   "id": "8740ee87",
   "metadata": {},
   "outputs": [],
   "source": [
    "#X_train, X_test, y_train, y_test = train_test_split(X, y, test_size=0.2)\n",
    "X_train, X_test, y_train, y_test = X[:60000], X[60000:], y[:60000], y[60000:]"
   ]
  },
  {
   "cell_type": "code",
   "execution_count": null,
   "id": "a7f39589",
   "metadata": {},
   "outputs": [],
   "source": [
    "y_train_5 = (y_train == 5)\n",
    "y_test_5 = (y_test == 5)"
   ]
  },
  {
   "cell_type": "code",
   "execution_count": null,
   "id": "43717719",
   "metadata": {},
   "outputs": [],
   "source": [
    "y_train_5"
   ]
  },
  {
   "cell_type": "code",
   "execution_count": null,
   "id": "98efcd33",
   "metadata": {},
   "outputs": [],
   "source": [
    "from sklearn.linear_model import SGDClassifier\n",
    "sgd_clf = SGDClassifier(random_state=42)\n",
    "sgd_clf.fit(X_train, y_train_5)"
   ]
  },
  {
   "cell_type": "code",
   "execution_count": null,
   "id": "7429cc36",
   "metadata": {},
   "outputs": [],
   "source": [
    "sgd_clf.predict(some_digit)"
   ]
  },
  {
   "cell_type": "code",
   "execution_count": null,
   "id": "7e01ab4c",
   "metadata": {},
   "outputs": [],
   "source": [
    "from sklearn.model_selection import StratifiedKFold\n",
    "from sklearn.base import clone"
   ]
  },
  {
   "cell_type": "code",
   "execution_count": null,
   "id": "7ad325d8",
   "metadata": {},
   "outputs": [],
   "source": [
    "sk = StratifiedKFold(n_splits=3, shuffle=True,random_state=42)\n",
    "n_correct_tot = 0\n",
    "\n",
    "for train_index, test_index in sk.split(X_train, y_train_5):\n",
    "    clone_clf = clone(sgd_clf)\n",
    "    \n",
    "    X_train_folds, X_test_fold = X_train.iloc[train_index], X_train.iloc[test_index]\n",
    "    y_train_folds, y_test_fold = y_train_5[train_index], y_train_5[test_index]\n",
    "\n",
    "    clone_clf.fit(X_train_folds, y_train_folds)\n",
    "    \n",
    "    y_pred = clone_clf.predict(X_test_fold)\n",
    "    n_correct = sum(y_pred == y_test_fold)\n",
    "    n_correct_tot += n_correct / len(y_pred)\n",
    "    print(n_correct / len(y_pred))\n",
    "print(n_correct_tot/sk.n_splits)"
   ]
  },
  {
   "cell_type": "code",
   "execution_count": null,
   "id": "17e3b4f4",
   "metadata": {
    "scrolled": true
   },
   "outputs": [],
   "source": [
    "from sklearn.model_selection import cross_val_score\n",
    "cross_val_score(sgd_clf, X_train, y_train_5, cv=3, scoring=\"accuracy\")"
   ]
  },
  {
   "cell_type": "code",
   "execution_count": null,
   "id": "e78432af",
   "metadata": {},
   "outputs": [],
   "source": [
    "from sklearn.base import BaseEstimator\n",
    "\n",
    "class Never5Classifier(BaseEstimator):\n",
    "    def fit(self, X, y=None):\n",
    "        pass\n",
    "    \n",
    "    def predict(self, X):\n",
    "        return np.zeros((len(X), 1), dtype=bool)"
   ]
  },
  {
   "cell_type": "code",
   "execution_count": null,
   "id": "45aab744",
   "metadata": {},
   "outputs": [],
   "source": [
    "never_5_clf = Never5Classifier()\n",
    "cross_val_score(never_5_clf, X_train, y_train_5, cv=3, scoring=\"accuracy\")"
   ]
  },
  {
   "cell_type": "code",
   "execution_count": null,
   "id": "302aa0d3",
   "metadata": {},
   "outputs": [],
   "source": [
    "from sklearn.model_selection import cross_val_predict\n",
    "\n",
    "y_train_pred = cross_val_predict(sgd_clf, X_train, y_train_5, cv=3)"
   ]
  },
  {
   "cell_type": "code",
   "execution_count": null,
   "id": "571c8b62",
   "metadata": {},
   "outputs": [],
   "source": [
    "from sklearn.metrics import confusion_matrix\n",
    "\n",
    "confusion_matrix(y_train_5, y_train_pred)"
   ]
  },
  {
   "cell_type": "code",
   "execution_count": null,
   "id": "29624fd7",
   "metadata": {},
   "outputs": [],
   "source": [
    "y_train_perfect_predictions = y_train_5 # pretend we reached perfection\n",
    "confusion_matrix(y_train_5, y_train_perfect_predictions)"
   ]
  },
  {
   "cell_type": "code",
   "execution_count": null,
   "id": "9682a2f0",
   "metadata": {},
   "outputs": [],
   "source": [
    "from sklearn.metrics import precision_score, recall_score\n",
    "\n",
    "print(precision_score(y_train_5, y_train_pred)) # == 4096 / (4096 + 1522)\n",
    "\n",
    "recall_score(y_train_5, y_train_pred) # == 4096 / (4096 + 1325)"
   ]
  },
  {
   "cell_type": "code",
   "execution_count": null,
   "id": "fb75461d",
   "metadata": {},
   "outputs": [],
   "source": [
    "from sklearn.metrics import f1_score\n",
    "f1_score(y_train_5, y_train_pred)"
   ]
  },
  {
   "cell_type": "code",
   "execution_count": null,
   "id": "ccfc1be5",
   "metadata": {},
   "outputs": [],
   "source": [
    "y_scores = sgd_clf.decision_function(some_digit)\n",
    "y_scores"
   ]
  },
  {
   "cell_type": "code",
   "execution_count": null,
   "id": "f1be6e8c",
   "metadata": {},
   "outputs": [],
   "source": [
    "threshold = 0\n",
    "y_some_digit_pred = (y_scores > threshold)\n",
    "y_some_digit_pred"
   ]
  },
  {
   "cell_type": "code",
   "execution_count": null,
   "id": "5dd20e01",
   "metadata": {},
   "outputs": [],
   "source": [
    "threshold = 8000\n",
    "y_some_digit_pred = (y_scores > threshold)\n",
    "y_some_digit_pred"
   ]
  },
  {
   "cell_type": "code",
   "execution_count": null,
   "id": "ec1196cd",
   "metadata": {},
   "outputs": [],
   "source": [
    "y_scores = cross_val_predict(sgd_clf, X_train, y_train_5, cv=3, method=\"decision_function\")"
   ]
  },
  {
   "cell_type": "code",
   "execution_count": null,
   "id": "fa340c3e",
   "metadata": {},
   "outputs": [],
   "source": [
    "from sklearn.metrics import precision_recall_curve\n",
    "\n",
    "precisions, recalls, thresholds = precision_recall_curve(y_train_5, y_scores)"
   ]
  },
  {
   "cell_type": "code",
   "execution_count": null,
   "id": "ca857e11",
   "metadata": {},
   "outputs": [],
   "source": [
    "def plot_precision_recall_vs_threshold(precisions, recalls, thresholds):\n",
    "    plt.plot(thresholds, precisions[:-1], \"b--\", label=\"Precision\")\n",
    "    plt.plot(thresholds, recalls[:-1], \"g-\", label=\"Recall\")"
   ]
  },
  {
   "cell_type": "code",
   "execution_count": null,
   "id": "87c1a408",
   "metadata": {},
   "outputs": [],
   "source": [
    "plot_precision_recall_vs_threshold(precisions, recalls, thresholds)"
   ]
  },
  {
   "cell_type": "code",
   "execution_count": null,
   "id": "46aa29bb",
   "metadata": {},
   "outputs": [],
   "source": [
    "threshold_90_precision = thresholds[np.argmax(precisions >= 0.90)]\n",
    "threshold_90_precision"
   ]
  },
  {
   "cell_type": "code",
   "execution_count": null,
   "id": "1ef8c433",
   "metadata": {},
   "outputs": [],
   "source": [
    "y_train_pred_90 = (y_scores >= threshold_90_precision)"
   ]
  },
  {
   "cell_type": "code",
   "execution_count": null,
   "id": "8b7eba9b",
   "metadata": {},
   "outputs": [],
   "source": [
    "print(precision_score(y_train_5, y_train_pred_90), recall_score(y_train_5, y_train_pred_90))\n"
   ]
  },
  {
   "cell_type": "code",
   "execution_count": null,
   "id": "81bde692",
   "metadata": {},
   "outputs": [],
   "source": [
    "from sklearn.metrics import roc_curve\n",
    "fpr, tpr, thresholds = roc_curve(y_train_5, y_scores)"
   ]
  },
  {
   "cell_type": "code",
   "execution_count": null,
   "id": "e86de282",
   "metadata": {},
   "outputs": [],
   "source": [
    "def plot_roc_curve(fpr, tpr, label=None):\n",
    "    plt.plot(fpr, tpr, linewidth=2, label=label)\n",
    "    plt.plot([0, 1], [0, 1], 'k--') # Dashed diagonal\n",
    "    plt.xlabel('False Positive Rate')\n",
    "    plt.ylabel('Recall')"
   ]
  },
  {
   "cell_type": "code",
   "execution_count": null,
   "id": "c718c4b3",
   "metadata": {},
   "outputs": [],
   "source": [
    "plot_roc_curve(fpr, tpr)\n",
    "plt.show()"
   ]
  },
  {
   "cell_type": "code",
   "execution_count": null,
   "id": "efa072e4",
   "metadata": {},
   "outputs": [],
   "source": [
    "from sklearn.metrics import roc_auc_score\n",
    "roc_auc_score(y_train_5, y_scores)"
   ]
  },
  {
   "cell_type": "code",
   "execution_count": null,
   "id": "8352adb1",
   "metadata": {},
   "outputs": [],
   "source": [
    "from sklearn.ensemble import RandomForestClassifier\n",
    "forest_clf = RandomForestClassifier(random_state=42)\n",
    "y_probas_forest = cross_val_predict(forest_clf, X_train, y_train_5, cv=3, method=\"predict_proba\")"
   ]
  },
  {
   "cell_type": "code",
   "execution_count": null,
   "id": "3c2ff2e1",
   "metadata": {},
   "outputs": [],
   "source": [
    "y_probas_forest[:,1]"
   ]
  },
  {
   "cell_type": "code",
   "execution_count": null,
   "id": "baa3148c",
   "metadata": {},
   "outputs": [],
   "source": [
    "y_scores_forest = y_probas_forest[:, 1] # score = proba of positive class\n",
    "fpr_forest, tpr_forest, thresholds_forest = roc_curve(y_train_5,y_scores_forest)"
   ]
  },
  {
   "cell_type": "code",
   "execution_count": null,
   "id": "8a9c9c14",
   "metadata": {},
   "outputs": [],
   "source": [
    "plt.plot(fpr, tpr, \"b:\", label=\"SGD\")\n",
    "plot_roc_curve(fpr_forest, tpr_forest, \"Random Forest\")\n",
    "plt.legend(loc=\"lower right\")\n",
    "plt.show()"
   ]
  },
  {
   "cell_type": "markdown",
   "id": "c4899636",
   "metadata": {},
   "source": [
    "roc_auc_score(y_train_5, y_scores_forest)"
   ]
  },
  {
   "cell_type": "code",
   "execution_count": null,
   "id": "cf7703d0",
   "metadata": {},
   "outputs": [],
   "source": [
    "y_scores_forest = (y_scores_forest > 0.5)\n",
    "y_scores_forest"
   ]
  },
  {
   "cell_type": "code",
   "execution_count": null,
   "id": "4429381a",
   "metadata": {},
   "outputs": [],
   "source": [
    "from sklearn.metrics import precision_score, recall_score\n",
    "\n",
    "print(precision_score(y_train_5, y_scores_forest))\n",
    "\n",
    "recall_score(y_train_5, y_scores_forest)"
   ]
  },
  {
   "cell_type": "markdown",
   "id": "8bffd1d6",
   "metadata": {},
   "source": [
    "# End of Binary Classification"
   ]
  },
  {
   "cell_type": "markdown",
   "id": "07519c96",
   "metadata": {},
   "source": [
    "# -------------------------------------------------------------------------------------"
   ]
  },
  {
   "cell_type": "markdown",
   "id": "6ab8d39d",
   "metadata": {},
   "source": [
    "# Multiclass Classification"
   ]
  },
  {
   "cell_type": "code",
   "execution_count": null,
   "id": "5046dacc",
   "metadata": {},
   "outputs": [],
   "source": [
    "from sklearn.svm import SVC\n",
    "svm_clf = SVC()\n",
    "svm_clf.fit(X_train, y_train) # y_train, not y_train_5\n",
    "svm_clf.predict(some_digit)"
   ]
  },
  {
   "cell_type": "code",
   "execution_count": null,
   "id": "b293e8a0",
   "metadata": {},
   "outputs": [],
   "source": [
    "some_digit_scores = svm_clf.decision_function(some_digit)\n",
    "some_digit_scores"
   ]
  },
  {
   "cell_type": "code",
   "execution_count": null,
   "id": "b3dc55a1",
   "metadata": {},
   "outputs": [],
   "source": [
    "np.argmax(some_digit_scores)"
   ]
  },
  {
   "cell_type": "code",
   "execution_count": null,
   "id": "ccf95fd0",
   "metadata": {},
   "outputs": [],
   "source": [
    "svm_clf.classes_"
   ]
  },
  {
   "cell_type": "code",
   "execution_count": null,
   "id": "59ad07ea",
   "metadata": {},
   "outputs": [],
   "source": [
    "svm_clf.classes_[5]"
   ]
  },
  {
   "cell_type": "code",
   "execution_count": null,
   "id": "900e036e",
   "metadata": {},
   "outputs": [],
   "source": [
    "# Takes Much Time\n",
    "from sklearn.multiclass import OneVsRestClassifier\n",
    "\n",
    "ovr_clf = OneVsRestClassifier(SVC())\n",
    "ovr_clf.fit(X_train, y_train)\n",
    "ovr_clf.predict([some_digit])"
   ]
  },
  {
   "cell_type": "code",
   "execution_count": null,
   "id": "88dd055a",
   "metadata": {},
   "outputs": [],
   "source": [
    "len(ovr_clf.estimators_)"
   ]
  },
  {
   "cell_type": "code",
   "execution_count": null,
   "id": "d36666ae",
   "metadata": {},
   "outputs": [],
   "source": [
    "sgd_clf.fit(X_train, y_train)\n",
    "sgd_clf.predict(some_digit)"
   ]
  },
  {
   "cell_type": "code",
   "execution_count": null,
   "id": "f3c9f0e3",
   "metadata": {},
   "outputs": [],
   "source": [
    "sgd_clf.decision_function(some_digit)"
   ]
  },
  {
   "cell_type": "code",
   "execution_count": null,
   "id": "b2b5692f",
   "metadata": {},
   "outputs": [],
   "source": [
    "cross_val_score(sgd_clf, X_train, y_train, cv=3, scoring=\"accuracy\")"
   ]
  },
  {
   "cell_type": "code",
   "execution_count": null,
   "id": "8c9ed390",
   "metadata": {},
   "outputs": [],
   "source": [
    "from sklearn.preprocessing import StandardScaler\n",
    "\n",
    "scaler = StandardScaler()\n",
    "X_train_scaled = scaler.fit_transform(X_train.astype(np.float64))\n",
    "cross_val_score(sgd_clf, X_train_scaled, y_train, cv=3, scoring=\"accuracy\")"
   ]
  },
  {
   "cell_type": "code",
   "execution_count": null,
   "id": "07fc48a1",
   "metadata": {},
   "outputs": [],
   "source": [
    "y_train_pred = cross_val_predict(sgd_clf, X_train_scaled, y_train, cv=3)\n",
    "conf_mx = confusion_matrix(y_train, y_train_pred)\n",
    "conf_mx"
   ]
  },
  {
   "cell_type": "code",
   "execution_count": null,
   "id": "12be117e",
   "metadata": {},
   "outputs": [],
   "source": [
    "plt.matshow(conf_mx, cmap=plt.cm.gray)\n",
    "plt.show()"
   ]
  },
  {
   "cell_type": "code",
   "execution_count": null,
   "id": "d2aa8862",
   "metadata": {},
   "outputs": [],
   "source": [
    "row_sums = conf_mx.sum(axis=1, keepdims=True)\n",
    "norm_conf_mx = conf_mx / row_sums"
   ]
  },
  {
   "cell_type": "code",
   "execution_count": null,
   "id": "b3a1d17a",
   "metadata": {},
   "outputs": [],
   "source": [
    "np.fill_diagonal(norm_conf_mx, 0)\n",
    "plt.matshow(norm_conf_mx, cmap=plt.cm.gray)\n",
    "plt.show()"
   ]
  },
  {
   "cell_type": "code",
   "execution_count": null,
   "id": "57986712",
   "metadata": {},
   "outputs": [],
   "source": [
    "from sklearn.neighbors import KNeighborsClassifier\n",
    "\n",
    "y_train_large = (y_train >= 7)\n",
    "y_train_odd = (y_train % 2 == 1)\n",
    "y_multilabel = np.c_[y_train_large, y_train_odd]\n",
    "\n",
    "knn_clf = KNeighborsClassifier()\n",
    "knn_clf.fit(X_train, y_multilabel)"
   ]
  },
  {
   "cell_type": "code",
   "execution_count": null,
   "id": "689fe3f0",
   "metadata": {},
   "outputs": [],
   "source": [
    "knn_clf.predict(some_digit)"
   ]
  },
  {
   "cell_type": "code",
   "execution_count": null,
   "id": "003b2cb8",
   "metadata": {},
   "outputs": [],
   "source": [
    "y_train_knn_pred = cross_val_predict(knn_clf, X_train, y_multilabel, cv=3)\n",
    "f1_score(y_multilabel, y_train_knn_pred, average=\"weighted\")"
   ]
  },
  {
   "cell_type": "code",
   "execution_count": null,
   "id": "ad214216",
   "metadata": {},
   "outputs": [],
   "source": [
    "noise = np.random.randint(0, 100, (len(X_train), 784))\n",
    "X_train_mod = X_train + noise\n",
    "noise = np.random.randint(0, 100, (len(X_test), 784))\n",
    "X_test_mod = X_test + noise\n",
    "y_train_mod = X_train\n",
    "y_test_mod = X_test"
   ]
  },
  {
   "cell_type": "code",
   "execution_count": null,
   "id": "f4f951f4",
   "metadata": {},
   "outputs": [],
   "source": [
    "knn_clf.fit(X_train_mod, y_train_mod)\n",
    "clean_digit = knn_clf.predict([X_test_mod.iloc[0]])"
   ]
  },
  {
   "cell_type": "code",
   "execution_count": null,
   "id": "6cb1a5d1",
   "metadata": {},
   "outputs": [],
   "source": [
    "plot_digits([X_test_mod.iloc[0]])"
   ]
  },
  {
   "cell_type": "code",
   "execution_count": null,
   "id": "13eea5e6",
   "metadata": {},
   "outputs": [],
   "source": [
    "plot_digits(clean_digit)"
   ]
  },
  {
   "cell_type": "code",
   "execution_count": null,
   "id": "8dc4d7a0",
   "metadata": {},
   "outputs": [],
   "source": [
    "kn_clf = KNeighborsClassifier()"
   ]
  },
  {
   "cell_type": "code",
   "execution_count": null,
   "id": "2e6c774b",
   "metadata": {},
   "outputs": [],
   "source": [
    "cross_val_score(kn_clf, X_train_scaled, y_train, cv=3, scoring=\"accuracy\")"
   ]
  },
  {
   "cell_type": "code",
   "execution_count": null,
   "id": "1b881dfe",
   "metadata": {},
   "outputs": [],
   "source": [
    "def GSCV(X_train, y_train, X_test, y_test):\n",
    "    estimator_KNN = KNeighborsClassifier()\n",
    "    parameters_KNN = {\n",
    "        'n_neighbors': (3, 5, 10),\n",
    "        'leaf_size': (1, 20, 40),\n",
    "        'p': (1, 2),\n",
    "    }\n",
    "    grid_search_KNN = GridSearchCV(estimator=estimator_KNN, \n",
    "                                    param_grid=parameters_KNN,\n",
    "                                    scoring = 'accuracy',\n",
    "                                    cv = 3\n",
    "                                    )\n",
    "    KNN_1=grid_search_KNN.fit(X_train, y_train)\n",
    "    y_pred_KNN1 =KNN_1.predict(X_test)\n",
    "    print(grid_search_KNN.best_params_ ) \n",
    "    print('Best Score - KNN:', grid_search_KNN.best_score_ )\n",
    "    \n",
    "GSCV(X_train, y_train, X_test, y_test)"
   ]
  },
  {
   "cell_type": "code",
   "execution_count": null,
   "id": "f09bf860",
   "metadata": {},
   "outputs": [],
   "source": [
    "from sklearn.model_selection import GridSearchCV, RandomizedSearchCV\n",
    "knn_clf = KNeighborsClassifier()\n",
    "weight_options = ['uniform', 'distance']\n",
    "k_range = list(range(4, 11))\n",
    "param_dist = dict(n_neighbors=k_range, weights=weight_options)\n",
    "grid_search_KNN = RandomizedSearchCV(estimator=knn_clf, \n",
    "                                    param_distributions=param_dist,\n",
    "                                    scoring = 'accuracy',\n",
    "                                    cv = 3)\n",
    "KNN_1=grid_search_KNN.fit(X_train, y_train)\n",
    "print(grid_search_KNN.best_params_ ) \n",
    "print('Best Score - KNN:', grid_search_KNN.best_score_ )"
   ]
  },
  {
   "cell_type": "code",
   "execution_count": null,
   "id": "30056f4e",
   "metadata": {},
   "outputs": [],
   "source": [
    "from sklearn.neighbors import KNeighborsClassifier\n",
    "para = {'weights': 'distance', 'n_neighbors': 4}\n",
    "knn_clf = KNeighborsClassifier(**para)\n",
    "knn_clf.fit(X_train, y_train)"
   ]
  },
  {
   "cell_type": "code",
   "execution_count": null,
   "id": "49db46d0",
   "metadata": {},
   "outputs": [],
   "source": [
    "y_knn_pred = knn_clf.predict(X_test)"
   ]
  },
  {
   "cell_type": "code",
   "execution_count": null,
   "id": "40889867",
   "metadata": {},
   "outputs": [],
   "source": [
    "from sklearn.metrics import accuracy_score\n",
    "accuracy_score(y_test, y_knn_pred)"
   ]
  },
  {
   "cell_type": "markdown",
   "id": "09741209",
   "metadata": {},
   "source": [
    "# --------------------------------------------------------------------------------------"
   ]
  },
  {
   "cell_type": "code",
   "execution_count": null,
   "id": "bb444ca6",
   "metadata": {},
   "outputs": [],
   "source": [
    "def shift_image(image, dx, dy):\n",
    "    image = image.reshape((28, 28))\n",
    "    shifted_image = shift(image, [dy, dx], cval=0, mode=\"constant\")\n",
    "    return shifted_image.reshape([-1])\n",
    "\n",
    "\n",
    "# Creating Augmented Dataset\n",
    "X_train_augmented = [image for image in X_train.values]\n",
    "y_train_augmented = [image for image in y_train]\n",
    "\n",
    "for dx, dy in ((1,0), (-1,0), (0,1), (0,-1)):\n",
    "    for image, label in zip(X_train_augmented, y_train):\n",
    "        X_train_augmented.append(shift_image(image, dx, dy))\n",
    "        y_train_augmented.append(label)"
   ]
  },
  {
   "cell_type": "code",
   "execution_count": null,
   "id": "ac4e5d26",
   "metadata": {},
   "outputs": [],
   "source": [
    "len(X_train_augmented) # 60,000 * 5"
   ]
  },
  {
   "cell_type": "code",
   "execution_count": null,
   "id": "c07a401f",
   "metadata": {},
   "outputs": [],
   "source": [
    "shuffle_idx = np.random.permutation(len(X_train_augmented))\n",
    "X_train_augmented = np.array(X_train_augmented)[shuffle_idx]\n",
    "y_train_augmented = np.array(y_train_augmented)[shuffle_idx]"
   ]
  },
  {
   "cell_type": "code",
   "execution_count": null,
   "id": "95a43fed",
   "metadata": {},
   "outputs": [],
   "source": [
    "knn_clf.fit(X_train_augmented, y_train_augmented)\n",
    "y_knn_pred = knn_clf.predict(X_test)\n",
    "accuracy_score(y_test, y_knn_pred)"
   ]
  },
  {
   "cell_type": "markdown",
   "id": "f4b5882a",
   "metadata": {},
   "source": [
    "# ------------------------------------------------------------"
   ]
  },
  {
   "cell_type": "code",
   "execution_count": null,
   "id": "c654d900",
   "metadata": {},
   "outputs": [],
   "source": [
    "X = mnist['data']\n",
    "y = mnist['target']\n",
    "\n",
    "y = y.astype(np.uint8)"
   ]
  },
  {
   "cell_type": "code",
   "execution_count": null,
   "id": "03691105",
   "metadata": {},
   "outputs": [],
   "source": [
    "X_train, X_test, y_train, y_test = X[:60000], X[60000:], y[:60000], y[60000:]"
   ]
  },
  {
   "cell_type": "code",
   "execution_count": null,
   "id": "c0d9a7ab",
   "metadata": {},
   "outputs": [],
   "source": [
    "from sklearn.preprocessing import StandardScaler"
   ]
  },
  {
   "cell_type": "code",
   "execution_count": null,
   "id": "5eef435e",
   "metadata": {},
   "outputs": [],
   "source": [
    "SC = StandardScaler()\n",
    "X_train[X.columns] = SC.fit_transform(X_train[X.columns])\n",
    "X_test[X.columns] = SC.transform(X_test[X.columns])"
   ]
  },
  {
   "cell_type": "code",
   "execution_count": null,
   "id": "92d78550",
   "metadata": {},
   "outputs": [],
   "source": [
    "from sklearn.svm import SVC, LinearSVC\n",
    "from sklearn.metrics import accuracy_score"
   ]
  },
  {
   "cell_type": "code",
   "execution_count": null,
   "id": "240de8c7",
   "metadata": {},
   "outputs": [],
   "source": [
    "# Takes to much\n",
    "from sklearn.model_selection import GridSearchCV, RandomizedSearchCV\n",
    "#svc = SVC()\n",
    "#param_grid = {'C': [0.1, 1, 10],'gamma': [1, 0.1, 0.01],'kernel': ['rbf']}\n",
    "#grid_search_svc = GridSearchCV(estimator=svc, param_grid=param_grid,scoring = 'accuracy',cv = 3)\n",
    "#svc_1 = grid_search_svc.fit(X_train, y_train)\n",
    "#print(grid_search_svc.best_params_ ) \n",
    "#print('Best Score - SVC:', grid_search_svc.best_score_ )"
   ]
  },
  {
   "cell_type": "code",
   "execution_count": null,
   "id": "789ab471",
   "metadata": {},
   "outputs": [],
   "source": [
    "model = SVC(kernel='rbf', C=10, gamma=1, degree=5)\n",
    "model.fit(X_train, y_train)\n",
    "y_pred = model.predict(X_train)\n",
    "accuracy_score(y_train, y_pred)"
   ]
  },
  {
   "cell_type": "code",
   "execution_count": null,
   "id": "b689a147",
   "metadata": {},
   "outputs": [],
   "source": [
    "model2 = LinearSVC(random_state=42)\n",
    "model2.fit(X_train, y_train)\n",
    "y_pred_2 = model2.predict(X_train)\n",
    "accuracy_score(y_train, y_pred_2)"
   ]
  },
  {
   "cell_type": "code",
   "execution_count": null,
   "id": "ba394e89",
   "metadata": {},
   "outputs": [],
   "source": [
    "y_pred_2_test = model2.predict(X_test)\n",
    "accuracy_score(y_test, y_pred_2_test)"
   ]
  },
  {
   "cell_type": "code",
   "execution_count": null,
   "id": "71cb2900",
   "metadata": {},
   "outputs": [],
   "source": [
    "from sklearn.model_selection import RandomizedSearchCV\n",
    "from scipy.stats import expon, reciprocal, uniform\n",
    "#It takes much time\n",
    "param_distribs =[\n",
    "    {\n",
    "        'kernel': ['rbf','poly'],\n",
    "        \"gamma\": reciprocal(0.001, 0.1), \"C\": uniform(1, 10),\n",
    "        'degree': [2, 3, 4]\n",
    "    },\n",
    "    {\n",
    "        'kernel': ['linear','sigmoid'],\n",
    "        \"gamma\": reciprocal(0.001, 0.1), \"C\": uniform(1, 10)\n",
    "    }\n",
    "]\n",
    "model = SVC()\n",
    "\n",
    "rnd_srch = RandomizedSearchCV(estimator=model, param_distributions=param_distribs, n_iter=10, cv=3, scoring='accuracy',\n",
    "                                verbose=2, random_state=42)"
   ]
  },
  {
   "cell_type": "code",
   "execution_count": null,
   "id": "2546ecbf",
   "metadata": {},
   "outputs": [],
   "source": [
    "rnd_srch.fit(X_train, y_train)"
   ]
  },
  {
   "cell_type": "code",
   "execution_count": null,
   "id": "6894579e",
   "metadata": {},
   "outputs": [],
   "source": [
    "model = SVC(C=3.8786881587000437, gamma=0.0017076019229344522)\n",
    "model.fit(X_train, y_train)\n",
    "y_pred = model.predict(X_train)\n",
    "accuracy_score(y_train, y_pred)"
   ]
  },
  {
   "cell_type": "code",
   "execution_count": null,
   "id": "5e52348a",
   "metadata": {},
   "outputs": [],
   "source": [
    "y_pred_final = model.predict(X_test)\n",
    "accuracy_score(y_test, y_pred_final)"
   ]
  },
  {
   "cell_type": "markdown",
   "id": "471d8607",
   "metadata": {},
   "source": [
    "# -------------------------------------------------------------------"
   ]
  },
  {
   "cell_type": "code",
   "execution_count": null,
   "id": "bc28983c",
   "metadata": {},
   "outputs": [],
   "source": [
    "from sklearn.datasets import fetch_openml\n",
    "import numpy as np\n",
    "mnist = fetch_openml('mnist_784', version=1)\n",
    "mnist.keys()"
   ]
  },
  {
   "cell_type": "code",
   "execution_count": null,
   "id": "627b595c",
   "metadata": {},
   "outputs": [],
   "source": [
    "X = mnist['data']\n",
    "y = mnist['target']\n",
    "\n",
    "y = y.astype(np.uint8)"
   ]
  },
  {
   "cell_type": "code",
   "execution_count": null,
   "id": "da1f90ed",
   "metadata": {},
   "outputs": [],
   "source": [
    "from sklearn.model_selection import train_test_split\n",
    "X_train1, X_test, y_train1, y_test = train_test_split(X, y, test_size=10000)"
   ]
  },
  {
   "cell_type": "code",
   "execution_count": null,
   "id": "b0160c6b",
   "metadata": {},
   "outputs": [],
   "source": [
    "len(X_train1)"
   ]
  },
  {
   "cell_type": "code",
   "execution_count": null,
   "id": "eb8cf53b",
   "metadata": {},
   "outputs": [],
   "source": [
    "X_train, X_val, y_train, y_val = train_test_split(X_train1, y_train1, test_size=10000)\n",
    "len(X_train)"
   ]
  },
  {
   "cell_type": "code",
   "execution_count": null,
   "id": "c7495431",
   "metadata": {},
   "outputs": [],
   "source": [
    "from sklearn.svm import SVC, LinearSVC\n",
    "from sklearn.ensemble import ExtraTreesClassifier, RandomForestClassifier, VotingClassifier\n",
    "from sklearn.metrics import accuracy_score\n",
    "import warnings\n",
    "warnings.filterwarnings('ignore')"
   ]
  },
  {
   "cell_type": "code",
   "execution_count": null,
   "id": "c3021cd9",
   "metadata": {},
   "outputs": [],
   "source": [
    "scores = []\n",
    "svc_model = LinearSVC(random_state=42)\n",
    "svc_model.fit(X_train, y_train)\n",
    "y_svc = svc_model.predict(X_val)\n",
    "scores.append(accuracy_score(y_val, y_svc))"
   ]
  },
  {
   "cell_type": "code",
   "execution_count": null,
   "id": "df5c0352",
   "metadata": {},
   "outputs": [],
   "source": [
    "rfc_model = RandomForestClassifier(random_state=42)\n",
    "rfc_model.fit(X_train, y_train)\n",
    "y_rfc = rfc_model.predict(X_val)\n",
    "scores.append(accuracy_score(y_val, y_rfc))"
   ]
  },
  {
   "cell_type": "code",
   "execution_count": null,
   "id": "4f536c18",
   "metadata": {},
   "outputs": [],
   "source": [
    "etc_model = ExtraTreesClassifier(random_state=42)\n",
    "etc_model.fit(X_train, y_train)\n",
    "y_etc = etc_model.predict(X_val)\n",
    "scores.append(accuracy_score(y_val, y_etc))"
   ]
  },
  {
   "cell_type": "code",
   "execution_count": null,
   "id": "1e250f66",
   "metadata": {},
   "outputs": [],
   "source": [
    "scores"
   ]
  },
  {
   "cell_type": "code",
   "execution_count": null,
   "id": "7bf53428",
   "metadata": {},
   "outputs": [],
   "source": [
    "sum(scores)/3"
   ]
  },
  {
   "cell_type": "code",
   "execution_count": null,
   "id": "ab889679",
   "metadata": {},
   "outputs": [],
   "source": [
    "eclf = VotingClassifier(estimators=[('svc', svc_model), ('rfc', rfc_model), ('etc', etc_model)], voting='hard')"
   ]
  },
  {
   "cell_type": "code",
   "execution_count": null,
   "id": "f50c096f",
   "metadata": {},
   "outputs": [],
   "source": [
    "eclf.fit(X_train, y_train)\n",
    "y_eclf = eclf.predict(X_val)\n",
    "accuracy_score(y_val, y_eclf)"
   ]
  },
  {
   "cell_type": "code",
   "execution_count": null,
   "id": "12237ab4",
   "metadata": {},
   "outputs": [],
   "source": [
    "eclf2 = VotingClassifier(estimators=[('rfc', rfc_model), ('etc', etc_model)], voting='soft')\n",
    "eclf2.fit(X_train, y_train)\n",
    "y_eclf2 = eclf2.predict(X_val)\n",
    "accuracy_score(y_val, y_eclf2)"
   ]
  },
  {
   "cell_type": "code",
   "execution_count": null,
   "id": "19ac8f60",
   "metadata": {},
   "outputs": [],
   "source": [
    "eclf2 = VotingClassifier(estimators=[('rfc', rfc_model), ('etc', etc_model)], voting='hard')\n",
    "eclf2.fit(X_train, y_train)\n",
    "y_eclf2 = eclf2.predict(X_val)\n",
    "accuracy_score(y_val, y_eclf2)"
   ]
  },
  {
   "cell_type": "code",
   "execution_count": null,
   "id": "52558d69",
   "metadata": {},
   "outputs": [],
   "source": [
    "eclf2.score(X_test, y_test)"
   ]
  },
  {
   "cell_type": "code",
   "execution_count": null,
   "id": "23b429b4",
   "metadata": {},
   "outputs": [],
   "source": [
    "predictions = []\n",
    "y_svc = svc_model.predict(X_val)\n",
    "y_rfc = rfc_model.predict(X_val)\n",
    "y_etc = etc_model.predict(X_val)"
   ]
  },
  {
   "cell_type": "code",
   "execution_count": null,
   "id": "6e27b185",
   "metadata": {},
   "outputs": [],
   "source": [
    "predictions.extend([y_svc, y_rfc, y_etc])"
   ]
  },
  {
   "cell_type": "code",
   "execution_count": null,
   "id": "b71c8b8a",
   "metadata": {},
   "outputs": [],
   "source": [
    "predictions[0].reshape(-1, 1).shape"
   ]
  },
  {
   "cell_type": "code",
   "execution_count": null,
   "id": "a17769c0",
   "metadata": {},
   "outputs": [],
   "source": [
    "y_val.shape"
   ]
  },
  {
   "cell_type": "code",
   "execution_count": null,
   "id": "352c414e",
   "metadata": {},
   "outputs": [],
   "source": [
    "blending_scores = []\n",
    "for fold, pred in enumerate(predictions):\n",
    "    print(f'fold number: {fold+1}')\n",
    "    rfc_model.fit(pred.reshape(-1, 1), y_val)\n",
    "    score = rfc_model.predict(pred.reshape(-1, 1))\n",
    "    blending_scores.append(accuracy_score(y_val, score))"
   ]
  },
  {
   "cell_type": "code",
   "execution_count": null,
   "id": "363e32f0",
   "metadata": {},
   "outputs": [],
   "source": [
    "sum(blending_scores)/3"
   ]
  },
  {
   "cell_type": "code",
   "execution_count": null,
   "id": "b65765ce",
   "metadata": {},
   "outputs": [],
   "source": [
    "# Without SVM\n",
    "predictions = []\n",
    "predictions.extend([y_rfc, y_etc])\n",
    "blending_scores = []\n",
    "for fold, pred in enumerate(predictions):\n",
    "    print(f'fold number: {fold+1}')\n",
    "    rfc_model.fit(pred.reshape(-1, 1), y_val)\n",
    "    score = rfc_model.predict(pred.reshape(-1, 1))\n",
    "    blending_scores.append(accuracy_score(y_val, score))\n",
    "    \n",
    "sum(blending_scores)/2"
   ]
  },
  {
   "cell_type": "code",
   "execution_count": null,
   "id": "46243c10",
   "metadata": {},
   "outputs": [],
   "source": [
    "rfc_model.fit(X_train, y_train)\n",
    "y_rfc = rfc_model.predict(X_test)"
   ]
  },
  {
   "cell_type": "code",
   "execution_count": null,
   "id": "cc091933",
   "metadata": {},
   "outputs": [],
   "source": [
    "etc_model.fit(X_train, y_train)\n",
    "y_etc = etc_model.predict(X_test)"
   ]
  },
  {
   "cell_type": "code",
   "execution_count": null,
   "id": "496e82eb",
   "metadata": {},
   "outputs": [],
   "source": [
    "predictions = []\n",
    "predictions.extend([y_rfc, y_etc])\n",
    "blending_scores = []\n",
    "for fold, pred in enumerate(predictions):\n",
    "    print(f'fold number: {fold+1}')\n",
    "    rfc_model.fit(pred.reshape(-1, 1), y_test)\n",
    "    score = rfc_model.predict(pred.reshape(-1, 1))\n",
    "    blending_scores.append(accuracy_score(y_test, score))"
   ]
  },
  {
   "cell_type": "code",
   "execution_count": null,
   "id": "f52275b4",
   "metadata": {},
   "outputs": [],
   "source": [
    "sum(blending_scores)/2"
   ]
  },
  {
   "cell_type": "markdown",
   "id": "24f60259",
   "metadata": {},
   "source": [
    "### I'm blending and stacking like how I learnt from kaggle."
   ]
  },
  {
   "cell_type": "markdown",
   "id": "4bf97c70",
   "metadata": {},
   "source": [
    "# --------------------------------------------------"
   ]
  },
  {
   "cell_type": "code",
   "execution_count": null,
   "id": "f065b93d",
   "metadata": {},
   "outputs": [],
   "source": [
    "from sklearn.datasets import fetch_openml\n",
    "mnist = fetch_openml('mnist_784', version=1)\n",
    "mnist.keys()"
   ]
  },
  {
   "cell_type": "code",
   "execution_count": null,
   "id": "de955b49",
   "metadata": {},
   "outputs": [],
   "source": [
    "X = mnist['data']\n",
    "y = mnist['target']\n",
    "y = y.astype(np.uint8)"
   ]
  },
  {
   "cell_type": "code",
   "execution_count": null,
   "id": "b80f48fc",
   "metadata": {},
   "outputs": [],
   "source": [
    "from sklearn.model_selection import train_test_split"
   ]
  },
  {
   "cell_type": "code",
   "execution_count": null,
   "id": "ba456e63",
   "metadata": {},
   "outputs": [],
   "source": [
    "X_train, X_test, y_train, y_test = train_test_split(X, y, test_size=10000)"
   ]
  },
  {
   "cell_type": "code",
   "execution_count": null,
   "id": "994720a8",
   "metadata": {},
   "outputs": [],
   "source": [
    "len(X_train)"
   ]
  },
  {
   "cell_type": "code",
   "execution_count": null,
   "id": "6770d338",
   "metadata": {},
   "outputs": [],
   "source": [
    "import time\n",
    "from sklearn.ensemble import RandomForestClassifier\n",
    "from sklearn.metrics import accuracy_score\n",
    "from sklearn.decomposition import PCA"
   ]
  },
  {
   "cell_type": "code",
   "execution_count": null,
   "id": "053f834e",
   "metadata": {},
   "outputs": [],
   "source": [
    "start = time.time()\n",
    "rfc = RandomForestClassifier(random_state=42)\n",
    "rfc.fit(X_train, y_train)\n",
    "print(f'train predictions accuracy is:{accuracy_score(y_train, rfc.predict(X_train))}')\n",
    "y_pred = rfc.predict(X_test)\n",
    "end = time.time()\n",
    "tot_time = end-start\n",
    "print(f'total time: {tot_time}')\n",
    "print(accuracy_score(y_test, y_pred))"
   ]
  },
  {
   "cell_type": "code",
   "execution_count": null,
   "id": "965831cc",
   "metadata": {},
   "outputs": [],
   "source": [
    "pca = PCA(n_components=0.95, random_state=42)"
   ]
  },
  {
   "cell_type": "code",
   "execution_count": null,
   "id": "8673bf8a",
   "metadata": {},
   "outputs": [],
   "source": [
    "X_train_reduced = pca.fit_transform(X_train)\n",
    "X_test_reduced = pca.transform(X_test)"
   ]
  },
  {
   "cell_type": "code",
   "execution_count": null,
   "id": "7fbfb701",
   "metadata": {},
   "outputs": [],
   "source": [
    "start = time.time()\n",
    "rfc.fit(X_train_reduced, y_train)\n",
    "print(f'train predictions accuracy is:{accuracy_score(y_train, rfc.predict(X_train_reduced))}')\n",
    "y_pred_reduced = rfc.predict(X_test_reduced)\n",
    "end = time.time()\n",
    "tot_time = end-start\n",
    "print(f'total time: {tot_time}')\n",
    "print(accuracy_score(y_test, y_pred_reduced))"
   ]
  },
  {
   "cell_type": "markdown",
   "id": "4181a9c2",
   "metadata": {},
   "source": [
    "# 2nd Question in Dimensionality Reduction"
   ]
  },
  {
   "cell_type": "code",
   "execution_count": null,
   "id": "b4deeb5a",
   "metadata": {},
   "outputs": [],
   "source": [
    "X = mnist['data']\n",
    "y = mnist['target']\n",
    "y = y.astype(np.uint8)\n",
    "indices = np.random.permutation(X.shape[0])[:10000]\n",
    "len(indices)\n",
    "\n",
    "X_train = X.iloc[indices]\n",
    "y_train = y[indices]"
   ]
  },
  {
   "cell_type": "code",
   "execution_count": null,
   "id": "fd2732e3",
   "metadata": {},
   "outputs": [],
   "source": [
    "from sklearn.manifold import TSNE"
   ]
  },
  {
   "cell_type": "code",
   "execution_count": null,
   "id": "026a891f",
   "metadata": {},
   "outputs": [],
   "source": [
    "tsne = TSNE(n_components=2, random_state=42)\n",
    "X_embedded = tsne.fit_transform(X_train)"
   ]
  },
  {
   "cell_type": "code",
   "execution_count": null,
   "id": "d753ba6a",
   "metadata": {},
   "outputs": [],
   "source": [
    "import matplotlib.pyplot as plt\n",
    "%matplotlib inline"
   ]
  },
  {
   "cell_type": "code",
   "execution_count": null,
   "id": "b2121423",
   "metadata": {},
   "outputs": [],
   "source": [
    "X_embedded.shape"
   ]
  },
  {
   "cell_type": "code",
   "execution_count": null,
   "id": "52b50b05",
   "metadata": {},
   "outputs": [],
   "source": [
    "plt.figure(figsize=(13,10))\n",
    "plt.scatter(x=X_embedded[:,0], y=X_embedded[:,1], c=y_train, cmap='jet')\n",
    "plt.axis('off')\n"
   ]
  },
  {
   "cell_type": "code",
   "execution_count": null,
   "id": "b94ca08a",
   "metadata": {},
   "outputs": [],
   "source": [
    "import matplotlib as mpl\n",
    "plt.figure(figsize=(9,9))\n",
    "cmap = mpl.cm.get_cmap(\"jet\")\n",
    "for digit in (2, 3, 5):\n",
    "    plt.scatter(X_embedded[y_train == digit, 0], X_embedded[y_train == digit, 1], c=[cmap(digit / 9)])\n",
    "plt.axis('off')\n",
    "plt.show()"
   ]
  },
  {
   "cell_type": "code",
   "execution_count": null,
   "id": "88071a6d",
   "metadata": {},
   "outputs": [],
   "source": [
    "start = time.time()\n",
    "X_pca_reduced = PCA(n_components=2, random_state=42).fit_transform(X_train)\n",
    "end = time.time()\n",
    "print(f'total time: {end-start}')"
   ]
  },
  {
   "cell_type": "code",
   "execution_count": null,
   "id": "f36527fb",
   "metadata": {},
   "outputs": [],
   "source": [
    "plt.figure(figsize=(13,10))\n",
    "plt.scatter(x=X_pca_reduced[:,0], y=X_pca_reduced[:,1], c=y_train, cmap='jet')\n",
    "plt.axis('off')\n"
   ]
  },
  {
   "cell_type": "code",
   "execution_count": null,
   "id": "d7aace28",
   "metadata": {},
   "outputs": [],
   "source": [
    "from sklearn.manifold import LocallyLinearEmbedding\n"
   ]
  },
  {
   "cell_type": "code",
   "execution_count": null,
   "id": "c649a108",
   "metadata": {},
   "outputs": [],
   "source": [
    "start = time.time()\n",
    "X_LLe = LocallyLinearEmbedding(n_components=2, random_state=42).fit_transform(X_train)\n",
    "end = time.time()\n",
    "print(f'total time: {end-start}')"
   ]
  },
  {
   "cell_type": "code",
   "execution_count": null,
   "id": "94408310",
   "metadata": {},
   "outputs": [],
   "source": [
    "plt.figure(figsize=(13,10))\n",
    "plt.scatter(x=X_LLe[:,0], y=X_LLe[:,1], c=y_train, cmap='jet')\n",
    "plt.axis('off')"
   ]
  },
  {
   "cell_type": "code",
   "execution_count": null,
   "id": "c387a776",
   "metadata": {},
   "outputs": [],
   "source": [
    "from sklearn.pipeline import Pipeline\n",
    "\n",
    "ppl = Pipeline([\n",
    "    ('PCA', PCA(n_components=0.95, random_state=42)), \n",
    "    ('LLE', LocallyLinearEmbedding(n_components=2, random_state=42))\n",
    "])"
   ]
  },
  {
   "cell_type": "code",
   "execution_count": null,
   "id": "80e73a78",
   "metadata": {},
   "outputs": [],
   "source": [
    "start = time.time()\n",
    "X_reduced = ppl.fit_transform(X_train)\n",
    "end = time.time()\n",
    "print(f'total time: {end-start}')\n",
    "plt.figure(figsize=(13,10))\n",
    "plt.scatter(x=X_reduced[:,0], y=X_reduced[:,1], c=y_train, cmap='jet')\n",
    "plt.axis('off')"
   ]
  },
  {
   "cell_type": "markdown",
   "id": "31c7aa06",
   "metadata": {},
   "source": [
    "# ------------------------------------------"
   ]
  },
  {
   "cell_type": "code",
   "execution_count": null,
   "id": "8c4f690c",
   "metadata": {},
   "outputs": [],
   "source": [
    "from tensorflow import keras\n",
    "import pandas as pd\n",
    "import numpy as np\n",
    "import matplotlib as mpl\n",
    "import matplotlib.pyplot as plt\n",
    "import warnings\n",
    "import tensorflow as tf\n",
    "\n",
    "warnings.filterwarnings('ignore')\n",
    "%matplotlib inline"
   ]
  },
  {
   "cell_type": "code",
   "execution_count": null,
   "id": "0cee68f7",
   "metadata": {},
   "outputs": [],
   "source": [
    "(X_train, y_train), (X_test, y_test) = keras.datasets.mnist.load_data()"
   ]
  },
  {
   "cell_type": "code",
   "execution_count": null,
   "id": "8a503009",
   "metadata": {},
   "outputs": [],
   "source": [
    "X_train.shape"
   ]
  },
  {
   "cell_type": "code",
   "execution_count": null,
   "id": "c2dd747c",
   "metadata": {},
   "outputs": [],
   "source": [
    "y_test"
   ]
  },
  {
   "cell_type": "code",
   "execution_count": null,
   "id": "07aa8f88",
   "metadata": {},
   "outputs": [],
   "source": [
    "from sklearn.model_selection import train_test_split"
   ]
  },
  {
   "cell_type": "code",
   "execution_count": null,
   "id": "1ccb6ed3",
   "metadata": {},
   "outputs": [],
   "source": [
    "X_train, X_valid, y_train, y_valid = train_test_split(X_train, y_train, test_size=10000)\n",
    "X_train, X_test, X_valid = X_train/255., X_test/255., X_valid/255."
   ]
  },
  {
   "cell_type": "code",
   "execution_count": null,
   "id": "bc4e6662",
   "metadata": {},
   "outputs": [],
   "source": [
    "model = keras.models.Sequential([\n",
    "    keras.layers.Flatten(input_shape=[28, 28]),\n",
    "    keras.layers.Dense(512, activation=\"relu\"),\n",
    "    keras.layers.Dense(256, activation=\"relu\"),\n",
    "    keras.layers.Dense(128, activation=\"relu\"),\n",
    "    keras.layers.Dense(10, activation=\"softmax\")\n",
    "])"
   ]
  },
  {
   "cell_type": "code",
   "execution_count": null,
   "id": "08fa6c97",
   "metadata": {},
   "outputs": [],
   "source": [
    "model.summary()"
   ]
  },
  {
   "cell_type": "code",
   "execution_count": null,
   "id": "5a659a16",
   "metadata": {},
   "outputs": [],
   "source": [
    "model.compile(loss=\"sparse_categorical_crossentropy\",\n",
    "              optimizer='adam',\n",
    "              metrics=[\"accuracy\"])"
   ]
  },
  {
   "cell_type": "code",
   "execution_count": null,
   "id": "8eef1983",
   "metadata": {},
   "outputs": [],
   "source": [
    "filepath=\"my_mnist_model.h5\"\n",
    "es = tf.keras.callbacks.EarlyStopping(monitor='loss', patience=2)\n",
    "cp = tf.keras.callbacks.ModelCheckpoint(filepath, save_best_only=True)\n",
    "\n",
    "history = model.fit(X_train, y_train, epochs=10,\n",
    "                    validation_data=(X_valid, y_valid),\n",
    "                    callbacks=[es, cp])"
   ]
  },
  {
   "cell_type": "code",
   "execution_count": null,
   "id": "532d12ff",
   "metadata": {},
   "outputs": [],
   "source": [
    "print(history.history.keys())\n",
    "#  \"Accuracy\"\n",
    "plt.plot(history.history['accuracy'])\n",
    "plt.plot(history.history['val_accuracy'])\n",
    "plt.title('model accuracy')\n",
    "plt.ylabel('accuracy')\n",
    "plt.xlabel('epoch')\n",
    "plt.legend(['train', 'validation'], loc='upper left')\n",
    "plt.show()\n",
    "# \"Loss\"\n",
    "plt.plot(history.history['loss'])\n",
    "plt.plot(history.history['val_loss'])\n",
    "plt.title('model loss')\n",
    "plt.ylabel('loss')\n",
    "plt.xlabel('epoch')\n",
    "plt.legend(['train', 'validation'], loc='upper left')\n",
    "plt.show()"
   ]
  },
  {
   "cell_type": "code",
   "execution_count": null,
   "id": "ba3dd4be",
   "metadata": {},
   "outputs": [],
   "source": [
    "model.save(\"my_model\")"
   ]
  },
  {
   "cell_type": "code",
   "execution_count": null,
   "id": "860849c6",
   "metadata": {},
   "outputs": [],
   "source": [
    "model = keras.models.load_model(\"my_model\")"
   ]
  },
  {
   "cell_type": "code",
   "execution_count": null,
   "id": "9ae553bd",
   "metadata": {},
   "outputs": [],
   "source": [
    "log_dir"
   ]
  },
  {
   "cell_type": "code",
   "execution_count": null,
   "id": "f3ab4cb4",
   "metadata": {},
   "outputs": [],
   "source": [
    "import datetime\n",
    "\n",
    "log_dir = \"logs/fit/\" + datetime.datetime.now().strftime(\"%Y%m%d-%H%M%S\")\n",
    "tensorboard_callback = tf.keras.callbacks.TensorBoard(log_dir=log_dir, histogram_freq=1)\n",
    "\n",
    "history = model.fit(X_train, y_train, epochs=15,\n",
    "                    validation_data=(X_valid, y_valid),\n",
    "                    callbacks=[es, cp, tensorboard_callback])"
   ]
  },
  {
   "cell_type": "code",
   "execution_count": null,
   "id": "8ffc3f40",
   "metadata": {},
   "outputs": [],
   "source": [
    "model.evaluate(X_test, y_test)"
   ]
  },
  {
   "cell_type": "code",
   "execution_count": null,
   "id": "c02baf32",
   "metadata": {},
   "outputs": [],
   "source": [
    "import pandas as pd\n",
    "\n",
    "pd.DataFrame(history.history).plot(figsize=(8, 5))\n",
    "plt.grid(True)\n",
    "plt.gca().set_ylim(0, 1)\n",
    "plt.show()"
   ]
  },
  {
   "cell_type": "code",
   "execution_count": null,
   "id": "92e01cfd",
   "metadata": {},
   "outputs": [],
   "source": [
    "keras.backend.clear_session()\n",
    "np.random.seed(42)\n",
    "tf.random.set_seed(42)"
   ]
  },
  {
   "cell_type": "code",
   "execution_count": null,
   "id": "0843b638",
   "metadata": {},
   "outputs": [],
   "source": [
    "model.compile(loss=\"sparse_categorical_crossentropy\",\n",
    "              optimizer='adam',\n",
    "              metrics=[\"accuracy\"])"
   ]
  },
  {
   "cell_type": "code",
   "execution_count": null,
   "id": "aa8eefdc",
   "metadata": {},
   "outputs": [],
   "source": [
    "history = model.fit(X_train, y_train, epochs=15,\n",
    "                    validation_data=(X_valid, y_valid),\n",
    "                    callbacks=[es, cp, tensorboard_callback])"
   ]
  },
  {
   "cell_type": "code",
   "execution_count": null,
   "id": "751c3466",
   "metadata": {},
   "outputs": [],
   "source": [
    "%load_ext tensorboard\n",
    "%tensorboard --logdir logs/fit\n",
    "%reload_ext tensorboard"
   ]
  },
  {
   "cell_type": "markdown",
   "id": "de2f309a",
   "metadata": {},
   "source": [
    "# -------------------------------------------------------------------------------------------"
   ]
  },
  {
   "cell_type": "code",
   "execution_count": 2,
   "id": "37a37653",
   "metadata": {},
   "outputs": [],
   "source": [
    "import tensorflow as tf\n",
    "from tensorflow import keras\n",
    "import warnings\n",
    "import pandas as pd\n",
    "import numpy as np\n",
    "import matplotlib as mpl\n",
    "import matplotlib.pyplot as plt\n",
    "from tensorflow import keras\n",
    "\n",
    "%matplotlib inline\n",
    "warnings.filterwarnings('ignore')\n",
    "\n",
    "(X_train_full, y_train_full), (X_test, y_test) = keras.datasets.mnist.load_data()"
   ]
  },
  {
   "cell_type": "code",
   "execution_count": 3,
   "id": "76c0291d",
   "metadata": {},
   "outputs": [],
   "source": [
    "X_train_full, X_test = X_train_full/255, X_test/255"
   ]
  },
  {
   "cell_type": "code",
   "execution_count": 4,
   "id": "68bff853",
   "metadata": {},
   "outputs": [
    {
     "data": {
      "text/plain": [
       "((60000, 28, 28), (10000, 28, 28))"
      ]
     },
     "execution_count": 4,
     "metadata": {},
     "output_type": "execute_result"
    }
   ],
   "source": [
    "X_train_full.shape, X_test.shape"
   ]
  },
  {
   "cell_type": "code",
   "execution_count": 5,
   "id": "a89a8905",
   "metadata": {},
   "outputs": [],
   "source": [
    "X_train_full, X_test = X_train_full.reshape(60000, 28, 28, 1), X_test.reshape(10000, 28, 28, 1)"
   ]
  },
  {
   "cell_type": "code",
   "execution_count": 6,
   "id": "a47e38de",
   "metadata": {},
   "outputs": [],
   "source": [
    "from sklearn.model_selection import train_test_split\n",
    "\n",
    "X_train, X_valid, y_train, y_valid = train_test_split(X_train_full, y_train_full, \n",
    "                                                      test_size=5000,\n",
    "                                                      random_state=42)"
   ]
  },
  {
   "cell_type": "code",
   "execution_count": 7,
   "id": "a8711201",
   "metadata": {},
   "outputs": [
    {
     "data": {
      "text/plain": [
       "(28, 28, 1)"
      ]
     },
     "execution_count": 7,
     "metadata": {},
     "output_type": "execute_result"
    }
   ],
   "source": [
    "input_shape = X_train_full.shape[1:]\n",
    "input_shape"
   ]
  },
  {
   "cell_type": "code",
   "execution_count": 8,
   "id": "fd95e5dd",
   "metadata": {},
   "outputs": [
    {
     "data": {
      "text/plain": [
       "((5000, 28, 28, 1), (5000,))"
      ]
     },
     "execution_count": 8,
     "metadata": {},
     "output_type": "execute_result"
    }
   ],
   "source": [
    "X_valid.shape, y_valid.shape"
   ]
  },
  {
   "cell_type": "code",
   "execution_count": 9,
   "id": "77016c69",
   "metadata": {},
   "outputs": [],
   "source": [
    "model = keras.models.Sequential([\n",
    "    keras.layers.Conv2D(32, kernel_size=3, padding=\"same\", activation=\"relu\", input_shape=input_shape),\n",
    "    keras.layers.MaxPool2D(),\n",
    "    keras.layers.Conv2D(64, kernel_size=3, padding=\"same\", activation=\"relu\"),\n",
    "    keras.layers.MaxPool2D(),\n",
    "    keras.layers.Conv2D(128, kernel_size=3, padding=\"same\", activation=\"relu\"),\n",
    "    keras.layers.MaxPool2D(),\n",
    "    keras.layers.Flatten(),\n",
    "    keras.layers.Dense(128, activation=\"relu\"),\n",
    "    keras.layers.Dropout(0.5),\n",
    "    keras.layers.Dense(10, activation=\"softmax\")\n",
    "])"
   ]
  },
  {
   "cell_type": "code",
   "execution_count": 10,
   "id": "a7d8b555",
   "metadata": {},
   "outputs": [],
   "source": [
    "loss = keras.losses.sparse_categorical_crossentropy\n",
    "model.compile(optimizer='rmsprop',\n",
    "              loss=loss,\n",
    "              metrics=['accuracy'],)"
   ]
  },
  {
   "cell_type": "code",
   "execution_count": 11,
   "id": "285a94e3",
   "metadata": {},
   "outputs": [
    {
     "name": "stdout",
     "output_type": "stream",
     "text": [
      "Epoch 1/10\n",
      "860/860 [==============================] - 9s 8ms/step - loss: 0.2210 - accuracy: 0.9310 - val_loss: 0.0685 - val_accuracy: 0.9780\n",
      "Epoch 2/10\n",
      "860/860 [==============================] - 6s 7ms/step - loss: 0.0587 - accuracy: 0.9825 - val_loss: 0.0391 - val_accuracy: 0.9872\n",
      "Epoch 3/10\n",
      "860/860 [==============================] - 6s 7ms/step - loss: 0.0420 - accuracy: 0.9878 - val_loss: 0.0369 - val_accuracy: 0.9886\n",
      "Epoch 4/10\n",
      "860/860 [==============================] - 6s 7ms/step - loss: 0.0342 - accuracy: 0.9904 - val_loss: 0.0325 - val_accuracy: 0.9924\n",
      "Epoch 5/10\n",
      "860/860 [==============================] - 6s 7ms/step - loss: 0.0296 - accuracy: 0.9917 - val_loss: 0.0471 - val_accuracy: 0.9864\n",
      "Epoch 6/10\n",
      "860/860 [==============================] - 6s 7ms/step - loss: 0.0266 - accuracy: 0.9925 - val_loss: 0.0379 - val_accuracy: 0.9898\n",
      "Epoch 7/10\n",
      "860/860 [==============================] - 6s 7ms/step - loss: 0.0244 - accuracy: 0.9932 - val_loss: 0.0388 - val_accuracy: 0.9894\n",
      "Epoch 8/10\n",
      "860/860 [==============================] - 6s 7ms/step - loss: 0.0267 - accuracy: 0.9928 - val_loss: 0.0371 - val_accuracy: 0.9898\n",
      "Epoch 9/10\n",
      "860/860 [==============================] - 6s 8ms/step - loss: 0.0266 - accuracy: 0.9925 - val_loss: 0.0421 - val_accuracy: 0.9888\n",
      "Epoch 10/10\n",
      "860/860 [==============================] - 6s 7ms/step - loss: 0.0263 - accuracy: 0.9930 - val_loss: 0.0680 - val_accuracy: 0.9890\n"
     ]
    }
   ],
   "source": [
    "es = keras.callbacks.EarlyStopping(patience=5)\n",
    "\n",
    "history = model.fit(X_train, y_train,\n",
    "                    batch_size=64, epochs=10,\n",
    "                    validation_data=(X_valid, y_valid))"
   ]
  },
  {
   "cell_type": "code",
   "execution_count": 13,
   "id": "c6c94b93",
   "metadata": {},
   "outputs": [
    {
     "name": "stdout",
     "output_type": "stream",
     "text": [
      "10000/10000 [==============================] - 32s 3ms/step - loss: 0.0542 - accuracy: 0.9897\n"
     ]
    },
    {
     "data": {
      "text/plain": [
       "[0.0542142316699028, 0.9897000193595886]"
      ]
     },
     "execution_count": 13,
     "metadata": {},
     "output_type": "execute_result"
    }
   ],
   "source": [
    "model.evaluate(X_test, y_test, batch_size=1)"
   ]
  },
  {
   "cell_type": "code",
   "execution_count": null,
   "id": "16c07e76",
   "metadata": {},
   "outputs": [],
   "source": [
    "keras.models.Model"
   ]
  },
  {
   "cell_type": "code",
   "execution_count": 28,
   "id": "af552579",
   "metadata": {},
   "outputs": [],
   "source": [
    "from tensorflow.keras.layers import Conv2D, Dense, MaxPooling2D, Flatten, Dropout\n",
    "from tensorflow.keras import Model\n",
    "\n",
    "class SimpleModel(Model):\n",
    "    def __init__(self, filters, num_classes=10):\n",
    "        super().__init__()\n",
    "        self.conv1 = Conv2D(filters[0], kernel_size=3, \n",
    "                            padding='same', activation='relu')\n",
    "        self.pool1 = MaxPooling2D()\n",
    "        self.conv2 = Conv2D(filters[1], kernel_size=3, \n",
    "                            padding='same', activation='relu')\n",
    "        self.pool2 = MaxPooling2D()\n",
    "        self.conv3 = Conv2D(filters[2], kernel_size=3, \n",
    "                            padding='same', activation='relu')\n",
    "        self.pool3 = MaxPooling2D()\n",
    "        self.flat = Flatten()\n",
    "        self.dense1 = Dense(128, activation='relu')\n",
    "        self.drop1 = Dropout(0.5)\n",
    "        self.dense2 = Dense(64, activation='relu')\n",
    "        self.drop2 = Dropout(0.5)\n",
    "        self.classifier = Dense(num_classes, activation='softmax')\n",
    "    \n",
    "    def build(self, input_shape):\n",
    "        pass\n",
    "    \n",
    "    def call(self, inputs):\n",
    "        X = self.conv1(inputs)\n",
    "        X = self.pool1(X)\n",
    "        X = self.conv2(X)\n",
    "        X = self.pool2(X)\n",
    "        X = self.conv3(X)\n",
    "        X = self.pool3(X)\n",
    "        X = self.flat(X)\n",
    "        X = self.dense1(X)\n",
    "        X = self.drop1(X)\n",
    "        X = self.dense2(X)\n",
    "        X = self.drop2(X)\n",
    "        return self.classifier(X)\n",
    "    "
   ]
  },
  {
   "cell_type": "code",
   "execution_count": 29,
   "id": "2dce9939",
   "metadata": {},
   "outputs": [],
   "source": [
    "filters=[32, 64, 128]\n",
    "num_classes=10\n",
    "\n",
    "newmodel = SimpleModel(filters)\n",
    "loss = keras.losses.sparse_categorical_crossentropy\n",
    "newmodel.compile(optimizer='adam',\n",
    "              loss=loss,\n",
    "              metrics=['accuracy'],)"
   ]
  },
  {
   "cell_type": "code",
   "execution_count": 30,
   "id": "e806265b",
   "metadata": {},
   "outputs": [
    {
     "name": "stdout",
     "output_type": "stream",
     "text": [
      "Epoch 1/30\n",
      "430/430 [==============================] - 5s 11ms/step - loss: 0.5480 - accuracy: 0.8210 - val_loss: 0.0725 - val_accuracy: 0.9792\n",
      "Epoch 2/30\n",
      "430/430 [==============================] - 4s 10ms/step - loss: 0.1424 - accuracy: 0.9615 - val_loss: 0.0567 - val_accuracy: 0.9854\n",
      "Epoch 3/30\n",
      "430/430 [==============================] - 4s 10ms/step - loss: 0.0991 - accuracy: 0.9745 - val_loss: 0.0377 - val_accuracy: 0.9894\n",
      "Epoch 4/30\n",
      "430/430 [==============================] - 4s 9ms/step - loss: 0.0769 - accuracy: 0.9801 - val_loss: 0.0368 - val_accuracy: 0.9884\n",
      "Epoch 5/30\n",
      "430/430 [==============================] - 4s 10ms/step - loss: 0.0678 - accuracy: 0.9822 - val_loss: 0.0487 - val_accuracy: 0.9896\n",
      "Epoch 6/30\n",
      "430/430 [==============================] - 4s 10ms/step - loss: 0.0594 - accuracy: 0.9847 - val_loss: 0.0409 - val_accuracy: 0.9892\n",
      "Epoch 7/30\n",
      "430/430 [==============================] - 4s 10ms/step - loss: 0.0490 - accuracy: 0.9870 - val_loss: 0.0360 - val_accuracy: 0.9906\n",
      "Epoch 8/30\n",
      "430/430 [==============================] - 4s 9ms/step - loss: 0.0469 - accuracy: 0.9886 - val_loss: 0.0358 - val_accuracy: 0.9894\n",
      "Epoch 9/30\n",
      "430/430 [==============================] - 4s 10ms/step - loss: 0.0399 - accuracy: 0.9893 - val_loss: 0.0385 - val_accuracy: 0.9912\n",
      "Epoch 10/30\n",
      "430/430 [==============================] - 4s 10ms/step - loss: 0.0364 - accuracy: 0.9903 - val_loss: 0.0392 - val_accuracy: 0.9902\n",
      "Epoch 11/30\n",
      "430/430 [==============================] - 4s 10ms/step - loss: 0.0330 - accuracy: 0.9915 - val_loss: 0.0308 - val_accuracy: 0.9926\n",
      "Epoch 12/30\n",
      "430/430 [==============================] - 4s 9ms/step - loss: 0.0301 - accuracy: 0.9920 - val_loss: 0.0395 - val_accuracy: 0.9920\n",
      "Epoch 13/30\n",
      "430/430 [==============================] - 4s 9ms/step - loss: 0.0284 - accuracy: 0.9927 - val_loss: 0.0495 - val_accuracy: 0.9890\n",
      "Epoch 14/30\n",
      "430/430 [==============================] - 4s 9ms/step - loss: 0.0240 - accuracy: 0.9935 - val_loss: 0.0380 - val_accuracy: 0.9930\n",
      "Epoch 15/30\n",
      "430/430 [==============================] - 4s 10ms/step - loss: 0.0237 - accuracy: 0.9935 - val_loss: 0.0385 - val_accuracy: 0.9910\n",
      "Epoch 16/30\n",
      "430/430 [==============================] - 4s 10ms/step - loss: 0.0249 - accuracy: 0.9933 - val_loss: 0.0509 - val_accuracy: 0.9910\n",
      "Epoch 17/30\n",
      "430/430 [==============================] - 4s 9ms/step - loss: 0.0219 - accuracy: 0.9939 - val_loss: 0.0508 - val_accuracy: 0.9902\n",
      "Epoch 18/30\n",
      "430/430 [==============================] - 4s 8ms/step - loss: 0.0213 - accuracy: 0.9942 - val_loss: 0.0417 - val_accuracy: 0.9918\n",
      "Epoch 19/30\n",
      "430/430 [==============================] - 4s 8ms/step - loss: 0.0169 - accuracy: 0.9953 - val_loss: 0.0371 - val_accuracy: 0.9916\n",
      "Epoch 20/30\n",
      "430/430 [==============================] - 4s 8ms/step - loss: 0.0179 - accuracy: 0.9951 - val_loss: 0.0415 - val_accuracy: 0.9900\n",
      "Epoch 21/30\n",
      "430/430 [==============================] - 4s 8ms/step - loss: 0.0178 - accuracy: 0.9949 - val_loss: 0.0466 - val_accuracy: 0.9918\n",
      "Epoch 22/30\n",
      "430/430 [==============================] - 4s 8ms/step - loss: 0.0171 - accuracy: 0.9953 - val_loss: 0.0341 - val_accuracy: 0.9922\n",
      "Epoch 23/30\n",
      "430/430 [==============================] - 4s 8ms/step - loss: 0.0158 - accuracy: 0.9953 - val_loss: 0.0398 - val_accuracy: 0.9916\n",
      "Epoch 24/30\n",
      "430/430 [==============================] - 4s 8ms/step - loss: 0.0143 - accuracy: 0.9960 - val_loss: 0.0441 - val_accuracy: 0.9916\n",
      "Epoch 25/30\n",
      "430/430 [==============================] - 4s 8ms/step - loss: 0.0148 - accuracy: 0.9959 - val_loss: 0.0415 - val_accuracy: 0.9942\n",
      "Epoch 26/30\n",
      "430/430 [==============================] - 4s 8ms/step - loss: 0.0152 - accuracy: 0.9960 - val_loss: 0.0418 - val_accuracy: 0.9916\n",
      "Epoch 27/30\n",
      "430/430 [==============================] - 4s 8ms/step - loss: 0.0127 - accuracy: 0.9964 - val_loss: 0.0369 - val_accuracy: 0.9924\n",
      "Epoch 28/30\n",
      "430/430 [==============================] - 4s 10ms/step - loss: 0.0113 - accuracy: 0.9969 - val_loss: 0.0428 - val_accuracy: 0.9918\n",
      "Epoch 29/30\n",
      "430/430 [==============================] - 4s 10ms/step - loss: 0.0109 - accuracy: 0.9967 - val_loss: 0.0423 - val_accuracy: 0.9932\n",
      "Epoch 30/30\n",
      "430/430 [==============================] - 4s 9ms/step - loss: 0.0124 - accuracy: 0.9965 - val_loss: 0.0363 - val_accuracy: 0.9942\n"
     ]
    }
   ],
   "source": [
    "es = keras.callbacks.EarlyStopping(patience=5)\n",
    "\n",
    "history2 = newmodel.fit(X_train, y_train,\n",
    "                    batch_size=128, epochs=30,\n",
    "                    validation_data=(X_valid, y_valid))"
   ]
  },
  {
   "cell_type": "code",
   "execution_count": 31,
   "id": "f64df9fe",
   "metadata": {},
   "outputs": [
    {
     "name": "stdout",
     "output_type": "stream",
     "text": [
      "313/313 [==============================] - 1s 4ms/step - loss: 0.0433 - accuracy: 0.9933\n"
     ]
    },
    {
     "data": {
      "text/plain": [
       "[0.043339841067790985, 0.9933000206947327]"
      ]
     },
     "execution_count": 31,
     "metadata": {},
     "output_type": "execute_result"
    }
   ],
   "source": [
    "newmodel.evaluate(X_test, y_test, batch_size=32)"
   ]
  },
  {
   "cell_type": "code",
   "execution_count": 23,
   "id": "388146aa",
   "metadata": {},
   "outputs": [
    {
     "data": {
      "image/png": "[encoded data removed]",
      "text/plain": [
       "<Figure size 576x360 with 1 Axes>"
      ]
     },
     "metadata": {
      "needs_background": "light"
     },
     "output_type": "display_data"
    }
   ],
   "source": [
    "pd.DataFrame(history.history).plot(figsize=(8,5))\n",
    "plt.show()"
   ]
  },
  {
   "cell_type": "code",
   "execution_count": 32,
   "id": "6b639c60",
   "metadata": {},
   "outputs": [
    {
     "data": {
      "image/png": "[encoded data removed]",
      "text/plain": [
       "<Figure size 576x360 with 1 Axes>"
      ]
     },
     "metadata": {
      "needs_background": "light"
     },
     "output_type": "display_data"
    }
   ],
   "source": [
    "pd.DataFrame(history2.history).plot(figsize=(8,5))\n",
    "plt.show()"
   ]
  },
  {
   "cell_type": "code",
   "execution_count": null,
   "id": "592ed120",
   "metadata": {},
   "outputs": [],
   "source": []
  }
 ],
 "metadata": {
  "kernelspec": {
   "display_name": "Python 3 (ipykernel)",
   "language": "python",
   "name": "python3"
  },
  "language_info": {
   "codemirror_mode": {
    "name": "ipython",
    "version": 3
   },
   "file_extension": ".py",
   "mimetype": "text/x-python",
   "name": "python",
   "nbconvert_exporter": "python",
   "pygments_lexer": "ipython3",
   "version": "3.9.7"
  }
 },
 "nbformat": 4,
 "nbformat_minor": 5
}
