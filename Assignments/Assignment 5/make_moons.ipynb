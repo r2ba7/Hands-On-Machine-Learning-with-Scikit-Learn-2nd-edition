{
 "cells": [
  {
   "cell_type": "code",
   "execution_count": 41,
   "id": "31096bb5",
   "metadata": {},
   "outputs": [],
   "source": [
    "from sklearn.datasets import make_moons"
   ]
  },
  {
   "cell_type": "code",
   "execution_count": 42,
   "id": "f5dd2173",
   "metadata": {},
   "outputs": [],
   "source": [
    "X, y = make_moons(n_samples=10000, noise=0.4)"
   ]
  },
  {
   "cell_type": "code",
   "execution_count": 43,
   "id": "81cf83b4",
   "metadata": {},
   "outputs": [],
   "source": [
    "from sklearn.model_selection import train_test_split\n",
    "\n",
    "X_train, X_test, y_train, y_test = train_test_split(X, y, test_size=0.2, random_state=42)"
   ]
  },
  {
   "cell_type": "code",
   "execution_count": 44,
   "id": "e69c7dec",
   "metadata": {},
   "outputs": [],
   "source": [
    "from sklearn.tree import DecisionTreeClassifier, export_graphviz\n",
    "from sklearn.model_selection import GridSearchCV\n",
    "\n",
    "tree_para = {\n",
    "    'criterion': ['gini','entropy'],\n",
    "    'max_depth': [5,7,8,10,15,20,30,40,50,70,90,120,150],\n",
    "    'random_state': [42],\n",
    "    'max_leaf_nodes': [1, 2, 5, 10, 15, 30, 50, 75, 100]\n",
    "}\n",
    "dtc = DecisionTreeClassifier()\n",
    "GSCV = GridSearchCV(dtc, tree_para, cv=3)"
   ]
  },
  {
   "cell_type": "code",
   "execution_count": 45,
   "id": "a4e4fbff",
   "metadata": {},
   "outputs": [
    {
     "data": {
      "text/plain": [
       "GridSearchCV(cv=3, estimator=DecisionTreeClassifier(),\n",
       "             param_grid={'criterion': ['gini', 'entropy'],\n",
       "                         'max_depth': [5, 7, 8, 10, 15, 20, 30, 40, 50, 70, 90,\n",
       "                                       120, 150],\n",
       "                         'max_leaf_nodes': [1, 2, 5, 10, 15, 30, 50, 75, 100],\n",
       "                         'random_state': [42]})"
      ]
     },
     "execution_count": 45,
     "metadata": {},
     "output_type": "execute_result"
    }
   ],
   "source": [
    "import warnings\n",
    "warnings.filterwarnings('ignore')\n",
    "GSCV.fit(X_train, y_train)"
   ]
  },
  {
   "cell_type": "code",
   "execution_count": 46,
   "id": "74db860c",
   "metadata": {},
   "outputs": [
    {
     "data": {
      "text/plain": [
       "DecisionTreeClassifier(criterion='entropy', max_depth=8, max_leaf_nodes=30,\n",
       "                       random_state=42)"
      ]
     },
     "execution_count": 46,
     "metadata": {},
     "output_type": "execute_result"
    }
   ],
   "source": [
    "GSCV.best_estimator_"
   ]
  },
  {
   "cell_type": "code",
   "execution_count": 47,
   "id": "0661ca82",
   "metadata": {},
   "outputs": [],
   "source": [
    "from sklearn.metrics import accuracy_score"
   ]
  },
  {
   "cell_type": "code",
   "execution_count": 48,
   "id": "1383da61",
   "metadata": {},
   "outputs": [
    {
     "data": {
      "text/plain": [
       "0.86825"
      ]
     },
     "execution_count": 48,
     "metadata": {},
     "output_type": "execute_result"
    }
   ],
   "source": [
    "model = GSCV.best_estimator_\n",
    "model.fit(X_train, y_train)\n",
    "y_pred1 = model.predict(X_train)\n",
    "accuracy_score(y_train, y_pred1)"
   ]
  },
  {
   "cell_type": "code",
   "execution_count": 49,
   "id": "9c5cdc59",
   "metadata": {},
   "outputs": [
    {
     "data": {
      "text/plain": [
       "0.865"
      ]
     },
     "execution_count": 49,
     "metadata": {},
     "output_type": "execute_result"
    }
   ],
   "source": [
    "y_pred2 = model.predict(X_test)\n",
    "accuracy_score(y_test, y_pred2)"
   ]
  },
  {
   "cell_type": "markdown",
   "id": "d3e92c45",
   "metadata": {},
   "source": [
    "# -------------------------------------------------------------------------------------------"
   ]
  },
  {
   "cell_type": "code",
   "execution_count": 34,
   "id": "97c1cc56",
   "metadata": {},
   "outputs": [],
   "source": [
    "from sklearn.model_selection import ShuffleSplit"
   ]
  },
  {
   "cell_type": "code",
   "execution_count": 54,
   "id": "86e55549",
   "metadata": {},
   "outputs": [],
   "source": [
    "n_trees = 1000\n",
    "n_instances = 100\n",
    "\n",
    "rs = ShuffleSplit(n_splits=n_trees, train_size=0.0125, random_state=42)"
   ]
  },
  {
   "cell_type": "code",
   "execution_count": 68,
   "id": "e576956c",
   "metadata": {},
   "outputs": [
    {
     "name": "stdout",
     "output_type": "stream",
     "text": [
      "fold number: 0 done, accuracy=0.8085\n",
      "fold number: 100 done, accuracy=0.794\n",
      "fold number: 200 done, accuracy=0.792\n",
      "fold number: 300 done, accuracy=0.803\n",
      "fold number: 400 done, accuracy=0.7685\n",
      "fold number: 500 done, accuracy=0.714\n",
      "fold number: 600 done, accuracy=0.831\n",
      "fold number: 700 done, accuracy=0.8035\n",
      "fold number: 800 done, accuracy=0.7735\n",
      "fold number: 900 done, accuracy=0.8255\n"
     ]
    }
   ],
   "source": [
    "scores = []\n",
    "y_pred = []\n",
    "for fold, (train_index, test_index) in enumerate(rs.split(X_train, y_train)):\n",
    "    X_train_mini = X_train[train_index]\n",
    "    y_train_mini = y_train[train_index]\n",
    "    model.fit(X_train_mini, y_train_mini)\n",
    "    y_pred.append(model.predict(X_test))\n",
    "    scores.append(accuracy_score(y_test, y_pred[fold]))\n",
    "    if fold % 100 == 0:\n",
    "        print(f'fold number: {fold} done, accuracy={accuracy_score(y_test, y_pred[fold])}')"
   ]
  },
  {
   "cell_type": "code",
   "execution_count": 69,
   "id": "2ee68e18",
   "metadata": {},
   "outputs": [
    {
     "data": {
      "text/plain": [
       "0.7946829999999999"
      ]
     },
     "execution_count": 69,
     "metadata": {},
     "output_type": "execute_result"
    }
   ],
   "source": [
    "scores_avg = sum(scores)/rs.n_splits\n",
    "scores_avg"
   ]
  },
  {
   "cell_type": "code",
   "execution_count": 82,
   "id": "624fcd09",
   "metadata": {},
   "outputs": [],
   "source": [
    "from scipy.stats import mode"
   ]
  },
  {
   "cell_type": "code",
   "execution_count": 83,
   "id": "bf19f1d1",
   "metadata": {},
   "outputs": [],
   "source": [
    "mode, count = mode(y_pred)"
   ]
  },
  {
   "cell_type": "code",
   "execution_count": 91,
   "id": "de5febd7",
   "metadata": {},
   "outputs": [
    {
     "data": {
      "text/plain": [
       "(2000,)"
      ]
     },
     "execution_count": 91,
     "metadata": {},
     "output_type": "execute_result"
    }
   ],
   "source": [
    "y_test.shape"
   ]
  },
  {
   "cell_type": "code",
   "execution_count": 92,
   "id": "04f658c9",
   "metadata": {},
   "outputs": [
    {
     "data": {
      "text/plain": [
       "(1, 2000)"
      ]
     },
     "execution_count": 92,
     "metadata": {},
     "output_type": "execute_result"
    }
   ],
   "source": [
    "mode.shape"
   ]
  },
  {
   "cell_type": "code",
   "execution_count": 87,
   "id": "09357fb5",
   "metadata": {},
   "outputs": [
    {
     "data": {
      "text/plain": [
       "0.865"
      ]
     },
     "execution_count": 87,
     "metadata": {},
     "output_type": "execute_result"
    }
   ],
   "source": [
    "accuracy_score(y_test, mode.reshape([-1]))"
   ]
  }
 ],
 "metadata": {
  "kernelspec": {
   "display_name": "Python 3 (ipykernel)",
   "language": "python",
   "name": "python3"
  },
  "language_info": {
   "codemirror_mode": {
    "name": "ipython",
    "version": 3
   },
   "file_extension": ".py",
   "mimetype": "text/x-python",
   "name": "python",
   "nbconvert_exporter": "python",
   "pygments_lexer": "ipython3",
   "version": "3.9.7"
  }
 },
 "nbformat": 4,
 "nbformat_minor": 5
}
