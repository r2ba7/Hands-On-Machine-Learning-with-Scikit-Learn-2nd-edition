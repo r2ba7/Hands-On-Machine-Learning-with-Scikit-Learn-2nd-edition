{
 "cells": [
  {
   "cell_type": "code",
   "execution_count": null,
   "id": "37fccbc5",
   "metadata": {},
   "outputs": [],
   "source": [
    "import warnings\n",
    "warnings.filterwarnings('ignore')"
   ]
  },
  {
   "cell_type": "code",
   "execution_count": null,
   "id": "b2bf52ca",
   "metadata": {},
   "outputs": [],
   "source": [
    "from sklearn.datasets import fetch_openml\n",
    "mnist = fetch_openml('mnist_784', version=1)\n",
    "mnist.keys()"
   ]
  },
  {
   "cell_type": "code",
   "execution_count": null,
   "id": "dcff7117",
   "metadata": {},
   "outputs": [],
   "source": [
    "X = mnist['data']\n",
    "y = mnist['target']"
   ]
  },
  {
   "cell_type": "code",
   "execution_count": null,
   "id": "59712886",
   "metadata": {},
   "outputs": [],
   "source": [
    "print(X.shape, y.shape)"
   ]
  },
  {
   "cell_type": "code",
   "execution_count": null,
   "id": "0a2d435a",
   "metadata": {},
   "outputs": [],
   "source": [
    "import pandas as pd\n",
    "import numpy as np\n",
    "import matplotlib as mpl\n",
    "import matplotlib.pyplot as plt\n",
    "\n",
    "%matplotlib inline"
   ]
  },
  {
   "cell_type": "code",
   "execution_count": null,
   "id": "3779ad7b",
   "metadata": {},
   "outputs": [],
   "source": [
    "def plot_digits(X):\n",
    "    some_digit = X\n",
    "    some_digit = np.array(some_digit)\n",
    "    some_digit_pic = some_digit.reshape(28, 28)\n",
    "    fig = plt.figure\n",
    "    plt.imshow(some_digit_pic, cmap='binary')\n",
    "    plt.show()"
   ]
  },
  {
   "cell_type": "markdown",
   "id": "5db49b7b",
   "metadata": {},
   "source": [
    "# Binary Classification"
   ]
  },
  {
   "cell_type": "code",
   "execution_count": null,
   "id": "a5f8ddd0",
   "metadata": {},
   "outputs": [],
   "source": [
    "some_digit = X.iloc[[0]].values.tolist()"
   ]
  },
  {
   "cell_type": "code",
   "execution_count": null,
   "id": "38d7ffb9",
   "metadata": {},
   "outputs": [],
   "source": [
    "plot_digits(some_digit)"
   ]
  },
  {
   "cell_type": "code",
   "execution_count": null,
   "id": "670ebbde",
   "metadata": {},
   "outputs": [],
   "source": [
    "y[0]"
   ]
  },
  {
   "cell_type": "code",
   "execution_count": null,
   "id": "d318b8f4",
   "metadata": {},
   "outputs": [],
   "source": [
    "y = y.astype(np.uint8)"
   ]
  },
  {
   "cell_type": "code",
   "execution_count": null,
   "id": "b8a2faa1",
   "metadata": {},
   "outputs": [],
   "source": [
    "from sklearn.model_selection import train_test_split"
   ]
  },
  {
   "cell_type": "code",
   "execution_count": null,
   "id": "8740ee87",
   "metadata": {},
   "outputs": [],
   "source": [
    "#X_train, X_test, y_train, y_test = train_test_split(X, y, test_size=0.2)\n",
    "X_train, X_test, y_train, y_test = X[:60000], X[60000:], y[:60000], y[60000:]"
   ]
  },
  {
   "cell_type": "code",
   "execution_count": null,
   "id": "a7f39589",
   "metadata": {},
   "outputs": [],
   "source": [
    "y_train_5 = (y_train == 5)\n",
    "y_test_5 = (y_test == 5)"
   ]
  },
  {
   "cell_type": "code",
   "execution_count": null,
   "id": "43717719",
   "metadata": {},
   "outputs": [],
   "source": [
    "y_train_5"
   ]
  },
  {
   "cell_type": "code",
   "execution_count": null,
   "id": "98efcd33",
   "metadata": {},
   "outputs": [],
   "source": [
    "from sklearn.linear_model import SGDClassifier\n",
    "sgd_clf = SGDClassifier(random_state=42)\n",
    "sgd_clf.fit(X_train, y_train_5)"
   ]
  },
  {
   "cell_type": "code",
   "execution_count": null,
   "id": "7429cc36",
   "metadata": {},
   "outputs": [],
   "source": [
    "sgd_clf.predict(some_digit)"
   ]
  },
  {
   "cell_type": "code",
   "execution_count": null,
   "id": "7e01ab4c",
   "metadata": {},
   "outputs": [],
   "source": [
    "from sklearn.model_selection import StratifiedKFold\n",
    "from sklearn.base import clone"
   ]
  },
  {
   "cell_type": "code",
   "execution_count": null,
   "id": "7ad325d8",
   "metadata": {},
   "outputs": [],
   "source": [
    "sk = StratifiedKFold(n_splits=3, shuffle=True,random_state=42)\n",
    "n_correct_tot = 0\n",
    "\n",
    "for train_index, test_index in sk.split(X_train, y_train_5):\n",
    "    clone_clf = clone(sgd_clf)\n",
    "    \n",
    "    X_train_folds, X_test_fold = X_train.iloc[train_index], X_train.iloc[test_index]\n",
    "    y_train_folds, y_test_fold = y_train_5[train_index], y_train_5[test_index]\n",
    "\n",
    "    clone_clf.fit(X_train_folds, y_train_folds)\n",
    "    \n",
    "    y_pred = clone_clf.predict(X_test_fold)\n",
    "    n_correct = sum(y_pred == y_test_fold)\n",
    "    n_correct_tot += n_correct / len(y_pred)\n",
    "    print(n_correct / len(y_pred))\n",
    "print(n_correct_tot/sk.n_splits)"
   ]
  },
  {
   "cell_type": "code",
   "execution_count": null,
   "id": "17e3b4f4",
   "metadata": {
    "scrolled": true
   },
   "outputs": [],
   "source": [
    "from sklearn.model_selection import cross_val_score\n",
    "cross_val_score(sgd_clf, X_train, y_train_5, cv=3, scoring=\"accuracy\")"
   ]
  },
  {
   "cell_type": "code",
   "execution_count": null,
   "id": "e78432af",
   "metadata": {},
   "outputs": [],
   "source": [
    "from sklearn.base import BaseEstimator\n",
    "\n",
    "class Never5Classifier(BaseEstimator):\n",
    "    def fit(self, X, y=None):\n",
    "        pass\n",
    "    \n",
    "    def predict(self, X):\n",
    "        return np.zeros((len(X), 1), dtype=bool)"
   ]
  },
  {
   "cell_type": "code",
   "execution_count": null,
   "id": "45aab744",
   "metadata": {},
   "outputs": [],
   "source": [
    "never_5_clf = Never5Classifier()\n",
    "cross_val_score(never_5_clf, X_train, y_train_5, cv=3, scoring=\"accuracy\")"
   ]
  },
  {
   "cell_type": "code",
   "execution_count": null,
   "id": "302aa0d3",
   "metadata": {},
   "outputs": [],
   "source": [
    "from sklearn.model_selection import cross_val_predict\n",
    "\n",
    "y_train_pred = cross_val_predict(sgd_clf, X_train, y_train_5, cv=3)"
   ]
  },
  {
   "cell_type": "code",
   "execution_count": null,
   "id": "571c8b62",
   "metadata": {},
   "outputs": [],
   "source": [
    "from sklearn.metrics import confusion_matrix\n",
    "\n",
    "confusion_matrix(y_train_5, y_train_pred)"
   ]
  },
  {
   "cell_type": "code",
   "execution_count": null,
   "id": "29624fd7",
   "metadata": {},
   "outputs": [],
   "source": [
    "y_train_perfect_predictions = y_train_5 # pretend we reached perfection\n",
    "confusion_matrix(y_train_5, y_train_perfect_predictions)"
   ]
  },
  {
   "cell_type": "code",
   "execution_count": null,
   "id": "9682a2f0",
   "metadata": {},
   "outputs": [],
   "source": [
    "from sklearn.metrics import precision_score, recall_score\n",
    "\n",
    "print(precision_score(y_train_5, y_train_pred)) # == 4096 / (4096 + 1522)\n",
    "\n",
    "recall_score(y_train_5, y_train_pred) # == 4096 / (4096 + 1325)"
   ]
  },
  {
   "cell_type": "code",
   "execution_count": null,
   "id": "fb75461d",
   "metadata": {},
   "outputs": [],
   "source": [
    "from sklearn.metrics import f1_score\n",
    "f1_score(y_train_5, y_train_pred)"
   ]
  },
  {
   "cell_type": "code",
   "execution_count": null,
   "id": "ccfc1be5",
   "metadata": {},
   "outputs": [],
   "source": [
    "y_scores = sgd_clf.decision_function(some_digit)\n",
    "y_scores"
   ]
  },
  {
   "cell_type": "code",
   "execution_count": null,
   "id": "f1be6e8c",
   "metadata": {},
   "outputs": [],
   "source": [
    "threshold = 0\n",
    "y_some_digit_pred = (y_scores > threshold)\n",
    "y_some_digit_pred"
   ]
  },
  {
   "cell_type": "code",
   "execution_count": null,
   "id": "5dd20e01",
   "metadata": {},
   "outputs": [],
   "source": [
    "threshold = 8000\n",
    "y_some_digit_pred = (y_scores > threshold)\n",
    "y_some_digit_pred"
   ]
  },
  {
   "cell_type": "code",
   "execution_count": null,
   "id": "ec1196cd",
   "metadata": {},
   "outputs": [],
   "source": [
    "y_scores = cross_val_predict(sgd_clf, X_train, y_train_5, cv=3, method=\"decision_function\")"
   ]
  },
  {
   "cell_type": "code",
   "execution_count": null,
   "id": "fa340c3e",
   "metadata": {},
   "outputs": [],
   "source": [
    "from sklearn.metrics import precision_recall_curve\n",
    "\n",
    "precisions, recalls, thresholds = precision_recall_curve(y_train_5, y_scores)"
   ]
  },
  {
   "cell_type": "code",
   "execution_count": null,
   "id": "ca857e11",
   "metadata": {},
   "outputs": [],
   "source": [
    "def plot_precision_recall_vs_threshold(precisions, recalls, thresholds):\n",
    "    plt.plot(thresholds, precisions[:-1], \"b--\", label=\"Precision\")\n",
    "    plt.plot(thresholds, recalls[:-1], \"g-\", label=\"Recall\")"
   ]
  },
  {
   "cell_type": "code",
   "execution_count": null,
   "id": "87c1a408",
   "metadata": {},
   "outputs": [],
   "source": [
    "plot_precision_recall_vs_threshold(precisions, recalls, thresholds)"
   ]
  },
  {
   "cell_type": "code",
   "execution_count": null,
   "id": "46aa29bb",
   "metadata": {},
   "outputs": [],
   "source": [
    "threshold_90_precision = thresholds[np.argmax(precisions >= 0.90)]\n",
    "threshold_90_precision"
   ]
  },
  {
   "cell_type": "code",
   "execution_count": null,
   "id": "1ef8c433",
   "metadata": {},
   "outputs": [],
   "source": [
    "y_train_pred_90 = (y_scores >= threshold_90_precision)"
   ]
  },
  {
   "cell_type": "code",
   "execution_count": null,
   "id": "8b7eba9b",
   "metadata": {},
   "outputs": [],
   "source": [
    "print(precision_score(y_train_5, y_train_pred_90), recall_score(y_train_5, y_train_pred_90))\n"
   ]
  },
  {
   "cell_type": "code",
   "execution_count": null,
   "id": "81bde692",
   "metadata": {},
   "outputs": [],
   "source": [
    "from sklearn.metrics import roc_curve\n",
    "fpr, tpr, thresholds = roc_curve(y_train_5, y_scores)"
   ]
  },
  {
   "cell_type": "code",
   "execution_count": null,
   "id": "e86de282",
   "metadata": {},
   "outputs": [],
   "source": [
    "def plot_roc_curve(fpr, tpr, label=None):\n",
    "    plt.plot(fpr, tpr, linewidth=2, label=label)\n",
    "    plt.plot([0, 1], [0, 1], 'k--') # Dashed diagonal\n",
    "    plt.xlabel('False Positive Rate')\n",
    "    plt.ylabel('Recall')"
   ]
  },
  {
   "cell_type": "code",
   "execution_count": null,
   "id": "c718c4b3",
   "metadata": {},
   "outputs": [],
   "source": [
    "plot_roc_curve(fpr, tpr)\n",
    "plt.show()"
   ]
  },
  {
   "cell_type": "code",
   "execution_count": null,
   "id": "efa072e4",
   "metadata": {},
   "outputs": [],
   "source": [
    "from sklearn.metrics import roc_auc_score\n",
    "roc_auc_score(y_train_5, y_scores)"
   ]
  },
  {
   "cell_type": "code",
   "execution_count": null,
   "id": "8352adb1",
   "metadata": {},
   "outputs": [],
   "source": [
    "from sklearn.ensemble import RandomForestClassifier\n",
    "forest_clf = RandomForestClassifier(random_state=42)\n",
    "y_probas_forest = cross_val_predict(forest_clf, X_train, y_train_5, cv=3, method=\"predict_proba\")"
   ]
  },
  {
   "cell_type": "code",
   "execution_count": null,
   "id": "3c2ff2e1",
   "metadata": {},
   "outputs": [],
   "source": [
    "y_probas_forest[:,1]"
   ]
  },
  {
   "cell_type": "code",
   "execution_count": null,
   "id": "baa3148c",
   "metadata": {},
   "outputs": [],
   "source": [
    "y_scores_forest = y_probas_forest[:, 1] # score = proba of positive class\n",
    "fpr_forest, tpr_forest, thresholds_forest = roc_curve(y_train_5,y_scores_forest)"
   ]
  },
  {
   "cell_type": "code",
   "execution_count": null,
   "id": "8a9c9c14",
   "metadata": {},
   "outputs": [],
   "source": [
    "plt.plot(fpr, tpr, \"b:\", label=\"SGD\")\n",
    "plot_roc_curve(fpr_forest, tpr_forest, \"Random Forest\")\n",
    "plt.legend(loc=\"lower right\")\n",
    "plt.show()"
   ]
  },
  {
   "cell_type": "markdown",
   "id": "c4899636",
   "metadata": {},
   "source": [
    "roc_auc_score(y_train_5, y_scores_forest)"
   ]
  },
  {
   "cell_type": "code",
   "execution_count": null,
   "id": "cf7703d0",
   "metadata": {},
   "outputs": [],
   "source": [
    "y_scores_forest = (y_scores_forest > 0.5)\n",
    "y_scores_forest"
   ]
  },
  {
   "cell_type": "code",
   "execution_count": null,
   "id": "4429381a",
   "metadata": {},
   "outputs": [],
   "source": [
    "from sklearn.metrics import precision_score, recall_score\n",
    "\n",
    "print(precision_score(y_train_5, y_scores_forest))\n",
    "\n",
    "recall_score(y_train_5, y_scores_forest)"
   ]
  },
  {
   "cell_type": "markdown",
   "id": "8bffd1d6",
   "metadata": {},
   "source": [
    "# End of Binary Classification"
   ]
  },
  {
   "cell_type": "markdown",
   "id": "07519c96",
   "metadata": {},
   "source": [
    "# -------------------------------------------------------------------------------------"
   ]
  },
  {
   "cell_type": "markdown",
   "id": "6ab8d39d",
   "metadata": {},
   "source": [
    "# Multiclass Classification"
   ]
  },
  {
   "cell_type": "code",
   "execution_count": null,
   "id": "5046dacc",
   "metadata": {},
   "outputs": [],
   "source": [
    "from sklearn.svm import SVC\n",
    "svm_clf = SVC()\n",
    "svm_clf.fit(X_train, y_train) # y_train, not y_train_5\n",
    "svm_clf.predict(some_digit)"
   ]
  },
  {
   "cell_type": "code",
   "execution_count": null,
   "id": "b293e8a0",
   "metadata": {},
   "outputs": [],
   "source": [
    "some_digit_scores = svm_clf.decision_function(some_digit)\n",
    "some_digit_scores"
   ]
  },
  {
   "cell_type": "code",
   "execution_count": null,
   "id": "b3dc55a1",
   "metadata": {},
   "outputs": [],
   "source": [
    "np.argmax(some_digit_scores)"
   ]
  },
  {
   "cell_type": "code",
   "execution_count": null,
   "id": "ccf95fd0",
   "metadata": {},
   "outputs": [],
   "source": [
    "svm_clf.classes_"
   ]
  },
  {
   "cell_type": "code",
   "execution_count": null,
   "id": "59ad07ea",
   "metadata": {},
   "outputs": [],
   "source": [
    "svm_clf.classes_[5]"
   ]
  },
  {
   "cell_type": "code",
   "execution_count": null,
   "id": "900e036e",
   "metadata": {},
   "outputs": [],
   "source": [
    "# Takes Much Time\n",
    "from sklearn.multiclass import OneVsRestClassifier\n",
    "\n",
    "ovr_clf = OneVsRestClassifier(SVC())\n",
    "ovr_clf.fit(X_train, y_train)\n",
    "ovr_clf.predict([some_digit])"
   ]
  },
  {
   "cell_type": "code",
   "execution_count": null,
   "id": "88dd055a",
   "metadata": {},
   "outputs": [],
   "source": [
    "len(ovr_clf.estimators_)"
   ]
  },
  {
   "cell_type": "code",
   "execution_count": null,
   "id": "d36666ae",
   "metadata": {},
   "outputs": [],
   "source": [
    "sgd_clf.fit(X_train, y_train)\n",
    "sgd_clf.predict(some_digit)"
   ]
  },
  {
   "cell_type": "code",
   "execution_count": null,
   "id": "f3c9f0e3",
   "metadata": {},
   "outputs": [],
   "source": [
    "sgd_clf.decision_function(some_digit)"
   ]
  },
  {
   "cell_type": "code",
   "execution_count": null,
   "id": "b2b5692f",
   "metadata": {},
   "outputs": [],
   "source": [
    "cross_val_score(sgd_clf, X_train, y_train, cv=3, scoring=\"accuracy\")"
   ]
  },
  {
   "cell_type": "code",
   "execution_count": null,
   "id": "8c9ed390",
   "metadata": {},
   "outputs": [],
   "source": [
    "from sklearn.preprocessing import StandardScaler\n",
    "\n",
    "scaler = StandardScaler()\n",
    "X_train_scaled = scaler.fit_transform(X_train.astype(np.float64))\n",
    "cross_val_score(sgd_clf, X_train_scaled, y_train, cv=3, scoring=\"accuracy\")"
   ]
  },
  {
   "cell_type": "code",
   "execution_count": null,
   "id": "07fc48a1",
   "metadata": {},
   "outputs": [],
   "source": [
    "y_train_pred = cross_val_predict(sgd_clf, X_train_scaled, y_train, cv=3)\n",
    "conf_mx = confusion_matrix(y_train, y_train_pred)\n",
    "conf_mx"
   ]
  },
  {
   "cell_type": "code",
   "execution_count": null,
   "id": "12be117e",
   "metadata": {},
   "outputs": [],
   "source": [
    "plt.matshow(conf_mx, cmap=plt.cm.gray)\n",
    "plt.show()"
   ]
  },
  {
   "cell_type": "code",
   "execution_count": null,
   "id": "d2aa8862",
   "metadata": {},
   "outputs": [],
   "source": [
    "row_sums = conf_mx.sum(axis=1, keepdims=True)\n",
    "norm_conf_mx = conf_mx / row_sums"
   ]
  },
  {
   "cell_type": "code",
   "execution_count": null,
   "id": "b3a1d17a",
   "metadata": {},
   "outputs": [],
   "source": [
    "np.fill_diagonal(norm_conf_mx, 0)\n",
    "plt.matshow(norm_conf_mx, cmap=plt.cm.gray)\n",
    "plt.show()"
   ]
  },
  {
   "cell_type": "code",
   "execution_count": null,
   "id": "57986712",
   "metadata": {},
   "outputs": [],
   "source": [
    "from sklearn.neighbors import KNeighborsClassifier\n",
    "\n",
    "y_train_large = (y_train >= 7)\n",
    "y_train_odd = (y_train % 2 == 1)\n",
    "y_multilabel = np.c_[y_train_large, y_train_odd]\n",
    "\n",
    "knn_clf = KNeighborsClassifier()\n",
    "knn_clf.fit(X_train, y_multilabel)"
   ]
  },
  {
   "cell_type": "code",
   "execution_count": null,
   "id": "689fe3f0",
   "metadata": {},
   "outputs": [],
   "source": [
    "knn_clf.predict(some_digit)"
   ]
  },
  {
   "cell_type": "code",
   "execution_count": null,
   "id": "003b2cb8",
   "metadata": {},
   "outputs": [],
   "source": [
    "y_train_knn_pred = cross_val_predict(knn_clf, X_train, y_multilabel, cv=3)\n",
    "f1_score(y_multilabel, y_train_knn_pred, average=\"weighted\")"
   ]
  },
  {
   "cell_type": "code",
   "execution_count": null,
   "id": "ad214216",
   "metadata": {},
   "outputs": [],
   "source": [
    "noise = np.random.randint(0, 100, (len(X_train), 784))\n",
    "X_train_mod = X_train + noise\n",
    "noise = np.random.randint(0, 100, (len(X_test), 784))\n",
    "X_test_mod = X_test + noise\n",
    "y_train_mod = X_train\n",
    "y_test_mod = X_test"
   ]
  },
  {
   "cell_type": "code",
   "execution_count": null,
   "id": "f4f951f4",
   "metadata": {},
   "outputs": [],
   "source": [
    "knn_clf.fit(X_train_mod, y_train_mod)\n",
    "clean_digit = knn_clf.predict([X_test_mod.iloc[0]])"
   ]
  },
  {
   "cell_type": "code",
   "execution_count": null,
   "id": "6cb1a5d1",
   "metadata": {},
   "outputs": [],
   "source": [
    "plot_digits([X_test_mod.iloc[0]])"
   ]
  },
  {
   "cell_type": "code",
   "execution_count": null,
   "id": "13eea5e6",
   "metadata": {},
   "outputs": [],
   "source": [
    "plot_digits(clean_digit)"
   ]
  },
  {
   "cell_type": "code",
   "execution_count": null,
   "id": "8dc4d7a0",
   "metadata": {},
   "outputs": [],
   "source": [
    "kn_clf = KNeighborsClassifier()"
   ]
  },
  {
   "cell_type": "code",
   "execution_count": null,
   "id": "2e6c774b",
   "metadata": {},
   "outputs": [],
   "source": [
    "cross_val_score(kn_clf, X_train_scaled, y_train, cv=3, scoring=\"accuracy\")"
   ]
  },
  {
   "cell_type": "code",
   "execution_count": null,
   "id": "1b881dfe",
   "metadata": {},
   "outputs": [],
   "source": [
    "def GSCV(X_train, y_train, X_test, y_test):\n",
    "    estimator_KNN = KNeighborsClassifier()\n",
    "    parameters_KNN = {\n",
    "        'n_neighbors': (3, 5, 10),\n",
    "        'leaf_size': (1, 20, 40),\n",
    "        'p': (1, 2),\n",
    "    }\n",
    "    grid_search_KNN = GridSearchCV(estimator=estimator_KNN, \n",
    "                                    param_grid=parameters_KNN,\n",
    "                                    scoring = 'accuracy',\n",
    "                                    cv = 3\n",
    "                                    )\n",
    "    KNN_1=grid_search_KNN.fit(X_train, y_train)\n",
    "    y_pred_KNN1 =KNN_1.predict(X_test)\n",
    "    print(grid_search_KNN.best_params_ ) \n",
    "    print('Best Score - KNN:', grid_search_KNN.best_score_ )\n",
    "    \n",
    "GSCV(X_train, y_train, X_test, y_test)"
   ]
  },
  {
   "cell_type": "code",
   "execution_count": null,
   "id": "f09bf860",
   "metadata": {},
   "outputs": [],
   "source": [
    "from sklearn.model_selection import GridSearchCV, RandomizedSearchCV\n",
    "knn_clf = KNeighborsClassifier()\n",
    "weight_options = ['uniform', 'distance']\n",
    "k_range = list(range(4, 11))\n",
    "param_dist = dict(n_neighbors=k_range, weights=weight_options)\n",
    "grid_search_KNN = RandomizedSearchCV(estimator=knn_clf, \n",
    "                                    param_distributions=param_dist,\n",
    "                                    scoring = 'accuracy',\n",
    "                                    cv = 3)\n",
    "KNN_1=grid_search_KNN.fit(X_train, y_train)\n",
    "print(grid_search_KNN.best_params_ ) \n",
    "print('Best Score - KNN:', grid_search_KNN.best_score_ )"
   ]
  },
  {
   "cell_type": "code",
   "execution_count": null,
   "id": "30056f4e",
   "metadata": {},
   "outputs": [],
   "source": [
    "from sklearn.neighbors import KNeighborsClassifier\n",
    "para = {'weights': 'distance', 'n_neighbors': 4}\n",
    "knn_clf = KNeighborsClassifier(**para)\n",
    "knn_clf.fit(X_train, y_train)"
   ]
  },
  {
   "cell_type": "code",
   "execution_count": null,
   "id": "49db46d0",
   "metadata": {},
   "outputs": [],
   "source": [
    "y_knn_pred = knn_clf.predict(X_test)"
   ]
  },
  {
   "cell_type": "code",
   "execution_count": null,
   "id": "40889867",
   "metadata": {},
   "outputs": [],
   "source": [
    "from sklearn.metrics import accuracy_score\n",
    "accuracy_score(y_test, y_knn_pred)"
   ]
  },
  {
   "cell_type": "markdown",
   "id": "09741209",
   "metadata": {},
   "source": [
    "# --------------------------------------------------------------------------------------"
   ]
  },
  {
   "cell_type": "code",
   "execution_count": null,
   "id": "bb444ca6",
   "metadata": {
    "scrolled": false
   },
   "outputs": [],
   "source": [
    "def shift_image(image, dx, dy):\n",
    "    image = image.reshape((28, 28))\n",
    "    shifted_image = shift(image, [dy, dx], cval=0, mode=\"constant\")\n",
    "    return shifted_image.reshape([-1])\n",
    "\n",
    "\n",
    "# Creating Augmented Dataset\n",
    "X_train_augmented = [image for image in X_train.values]\n",
    "y_train_augmented = [image for image in y_train]\n",
    "\n",
    "for dx, dy in ((1,0), (-1,0), (0,1), (0,-1)):\n",
    "    for image, label in zip(X_train_augmented, y_train):\n",
    "        X_train_augmented.append(shift_image(image, dx, dy))\n",
    "        y_train_augmented.append(label)"
   ]
  },
  {
   "cell_type": "code",
   "execution_count": null,
   "id": "ac4e5d26",
   "metadata": {},
   "outputs": [],
   "source": [
    "len(X_train_augmented) # 60,000 * 5"
   ]
  },
  {
   "cell_type": "code",
   "execution_count": null,
   "id": "c07a401f",
   "metadata": {},
   "outputs": [],
   "source": [
    "shuffle_idx = np.random.permutation(len(X_train_augmented))\n",
    "X_train_augmented = np.array(X_train_augmented)[shuffle_idx]\n",
    "y_train_augmented = np.array(y_train_augmented)[shuffle_idx]"
   ]
  },
  {
   "cell_type": "code",
   "execution_count": null,
   "id": "95a43fed",
   "metadata": {},
   "outputs": [],
   "source": [
    "knn_clf.fit(X_train_augmented, y_train_augmented)\n",
    "y_knn_pred = knn_clf.predict(X_test)\n",
    "accuracy_score(y_test, y_knn_pred)"
   ]
  },
  {
   "cell_type": "markdown",
   "id": "f4b5882a",
   "metadata": {},
   "source": [
    "# ------------------------------------------------------------"
   ]
  },
  {
   "cell_type": "code",
   "execution_count": null,
   "id": "c654d900",
   "metadata": {},
   "outputs": [],
   "source": [
    "X = mnist['data']\n",
    "y = mnist['target']\n",
    "\n",
    "y = y.astype(np.uint8)"
   ]
  },
  {
   "cell_type": "code",
   "execution_count": null,
   "id": "03691105",
   "metadata": {},
   "outputs": [],
   "source": [
    "X_train, X_test, y_train, y_test = X[:60000], X[60000:], y[:60000], y[60000:]"
   ]
  },
  {
   "cell_type": "code",
   "execution_count": null,
   "id": "c0d9a7ab",
   "metadata": {},
   "outputs": [],
   "source": [
    "from sklearn.preprocessing import StandardScaler"
   ]
  },
  {
   "cell_type": "code",
   "execution_count": null,
   "id": "5eef435e",
   "metadata": {},
   "outputs": [],
   "source": [
    "SC = StandardScaler()\n",
    "X_train[X.columns] = SC.fit_transform(X_train[X.columns])\n",
    "X_test[X.columns] = SC.transform(X_test[X.columns])"
   ]
  },
  {
   "cell_type": "code",
   "execution_count": null,
   "id": "92d78550",
   "metadata": {},
   "outputs": [],
   "source": [
    "from sklearn.svm import SVC, LinearSVC\n",
    "from sklearn.metrics import accuracy_score"
   ]
  },
  {
   "cell_type": "code",
   "execution_count": null,
   "id": "240de8c7",
   "metadata": {},
   "outputs": [],
   "source": [
    "# Takes to much\n",
    "from sklearn.model_selection import GridSearchCV, RandomizedSearchCV\n",
    "#svc = SVC()\n",
    "#param_grid = {'C': [0.1, 1, 10],'gamma': [1, 0.1, 0.01],'kernel': ['rbf']}\n",
    "#grid_search_svc = GridSearchCV(estimator=svc, param_grid=param_grid,scoring = 'accuracy',cv = 3)\n",
    "#svc_1 = grid_search_svc.fit(X_train, y_train)\n",
    "#print(grid_search_svc.best_params_ ) \n",
    "#print('Best Score - SVC:', grid_search_svc.best_score_ )"
   ]
  },
  {
   "cell_type": "code",
   "execution_count": null,
   "id": "789ab471",
   "metadata": {},
   "outputs": [],
   "source": [
    "model = SVC(kernel='rbf', C=10, gamma=1, degree=5)\n",
    "model.fit(X_train, y_train)\n",
    "y_pred = model.predict(X_train)\n",
    "accuracy_score(y_train, y_pred)"
   ]
  },
  {
   "cell_type": "code",
   "execution_count": null,
   "id": "b689a147",
   "metadata": {},
   "outputs": [],
   "source": [
    "model2 = LinearSVC(random_state=42)\n",
    "model2.fit(X_train, y_train)\n",
    "y_pred_2 = model2.predict(X_train)\n",
    "accuracy_score(y_train, y_pred_2)"
   ]
  },
  {
   "cell_type": "code",
   "execution_count": null,
   "id": "ba394e89",
   "metadata": {},
   "outputs": [],
   "source": [
    "y_pred_2_test = model2.predict(X_test)\n",
    "accuracy_score(y_test, y_pred_2_test)"
   ]
  },
  {
   "cell_type": "code",
   "execution_count": null,
   "id": "71cb2900",
   "metadata": {},
   "outputs": [],
   "source": [
    "from sklearn.model_selection import RandomizedSearchCV\n",
    "from scipy.stats import expon, reciprocal, uniform\n",
    "#It takes much time\n",
    "param_distribs =[\n",
    "    {\n",
    "        'kernel': ['rbf','poly'],\n",
    "        \"gamma\": reciprocal(0.001, 0.1), \"C\": uniform(1, 10),\n",
    "        'degree': [2, 3, 4]\n",
    "    },\n",
    "    {\n",
    "        'kernel': ['linear','sigmoid'],\n",
    "        \"gamma\": reciprocal(0.001, 0.1), \"C\": uniform(1, 10)\n",
    "    }\n",
    "]\n",
    "model = SVC()\n",
    "\n",
    "rnd_srch = RandomizedSearchCV(estimator=model, param_distributions=param_distribs, n_iter=10, cv=3, scoring='accuracy',\n",
    "                                verbose=2, random_state=42)"
   ]
  },
  {
   "cell_type": "code",
   "execution_count": null,
   "id": "2546ecbf",
   "metadata": {},
   "outputs": [],
   "source": [
    "rnd_srch.fit(X_train, y_train)"
   ]
  },
  {
   "cell_type": "code",
   "execution_count": null,
   "id": "6894579e",
   "metadata": {},
   "outputs": [],
   "source": [
    "model = SVC(C=3.8786881587000437, gamma=0.0017076019229344522)\n",
    "model.fit(X_train, y_train)\n",
    "y_pred = model.predict(X_train)\n",
    "accuracy_score(y_train, y_pred)"
   ]
  },
  {
   "cell_type": "code",
   "execution_count": null,
   "id": "5e52348a",
   "metadata": {},
   "outputs": [],
   "source": [
    "y_pred_final = model.predict(X_test)\n",
    "accuracy_score(y_test, y_pred_final)"
   ]
  },
  {
   "cell_type": "markdown",
   "id": "471d8607",
   "metadata": {},
   "source": [
    "# -------------------------------------------------------------------"
   ]
  },
  {
   "cell_type": "code",
   "execution_count": null,
   "id": "bc28983c",
   "metadata": {},
   "outputs": [],
   "source": [
    "from sklearn.datasets import fetch_openml\n",
    "import numpy as np\n",
    "mnist = fetch_openml('mnist_784', version=1)\n",
    "mnist.keys()"
   ]
  },
  {
   "cell_type": "code",
   "execution_count": null,
   "id": "627b595c",
   "metadata": {},
   "outputs": [],
   "source": [
    "X = mnist['data']\n",
    "y = mnist['target']\n",
    "\n",
    "y = y.astype(np.uint8)"
   ]
  },
  {
   "cell_type": "code",
   "execution_count": null,
   "id": "da1f90ed",
   "metadata": {},
   "outputs": [],
   "source": [
    "from sklearn.model_selection import train_test_split\n",
    "X_train1, X_test, y_train1, y_test = train_test_split(X, y, test_size=10000)"
   ]
  },
  {
   "cell_type": "code",
   "execution_count": null,
   "id": "b0160c6b",
   "metadata": {},
   "outputs": [],
   "source": [
    "len(X_train1)"
   ]
  },
  {
   "cell_type": "code",
   "execution_count": null,
   "id": "eb8cf53b",
   "metadata": {},
   "outputs": [],
   "source": [
    "X_train, X_val, y_train, y_val = train_test_split(X_train1, y_train1, test_size=10000)\n",
    "len(X_train)"
   ]
  },
  {
   "cell_type": "code",
   "execution_count": null,
   "id": "c7495431",
   "metadata": {},
   "outputs": [],
   "source": [
    "from sklearn.svm import SVC, LinearSVC\n",
    "from sklearn.ensemble import ExtraTreesClassifier, RandomForestClassifier, VotingClassifier\n",
    "from sklearn.metrics import accuracy_score\n",
    "import warnings\n",
    "warnings.filterwarnings('ignore')"
   ]
  },
  {
   "cell_type": "code",
   "execution_count": null,
   "id": "c3021cd9",
   "metadata": {},
   "outputs": [],
   "source": [
    "scores = []\n",
    "svc_model = LinearSVC(random_state=42)\n",
    "svc_model.fit(X_train, y_train)\n",
    "y_svc = svc_model.predict(X_val)\n",
    "scores.append(accuracy_score(y_val, y_svc))"
   ]
  },
  {
   "cell_type": "code",
   "execution_count": null,
   "id": "df5c0352",
   "metadata": {},
   "outputs": [],
   "source": [
    "rfc_model = RandomForestClassifier(random_state=42)\n",
    "rfc_model.fit(X_train, y_train)\n",
    "y_rfc = rfc_model.predict(X_val)\n",
    "scores.append(accuracy_score(y_val, y_rfc))"
   ]
  },
  {
   "cell_type": "code",
   "execution_count": null,
   "id": "4f536c18",
   "metadata": {},
   "outputs": [],
   "source": [
    "etc_model = ExtraTreesClassifier(random_state=42)\n",
    "etc_model.fit(X_train, y_train)\n",
    "y_etc = etc_model.predict(X_val)\n",
    "scores.append(accuracy_score(y_val, y_etc))"
   ]
  },
  {
   "cell_type": "code",
   "execution_count": null,
   "id": "1e250f66",
   "metadata": {},
   "outputs": [],
   "source": [
    "scores"
   ]
  },
  {
   "cell_type": "code",
   "execution_count": null,
   "id": "7bf53428",
   "metadata": {},
   "outputs": [],
   "source": [
    "sum(scores)/3"
   ]
  },
  {
   "cell_type": "code",
   "execution_count": null,
   "id": "ab889679",
   "metadata": {},
   "outputs": [],
   "source": [
    "eclf = VotingClassifier(estimators=[('svc', svc_model), ('rfc', rfc_model), ('etc', etc_model)], voting='hard')"
   ]
  },
  {
   "cell_type": "code",
   "execution_count": null,
   "id": "f50c096f",
   "metadata": {},
   "outputs": [],
   "source": [
    "eclf.fit(X_train, y_train)\n",
    "y_eclf = eclf.predict(X_val)\n",
    "accuracy_score(y_val, y_eclf)"
   ]
  },
  {
   "cell_type": "code",
   "execution_count": null,
   "id": "12237ab4",
   "metadata": {},
   "outputs": [],
   "source": [
    "eclf2 = VotingClassifier(estimators=[('rfc', rfc_model), ('etc', etc_model)], voting='soft')\n",
    "eclf2.fit(X_train, y_train)\n",
    "y_eclf2 = eclf2.predict(X_val)\n",
    "accuracy_score(y_val, y_eclf2)"
   ]
  },
  {
   "cell_type": "code",
   "execution_count": null,
   "id": "19ac8f60",
   "metadata": {},
   "outputs": [],
   "source": [
    "eclf2 = VotingClassifier(estimators=[('rfc', rfc_model), ('etc', etc_model)], voting='hard')\n",
    "eclf2.fit(X_train, y_train)\n",
    "y_eclf2 = eclf2.predict(X_val)\n",
    "accuracy_score(y_val, y_eclf2)"
   ]
  },
  {
   "cell_type": "code",
   "execution_count": null,
   "id": "52558d69",
   "metadata": {},
   "outputs": [],
   "source": [
    "eclf2.score(X_test, y_test)"
   ]
  },
  {
   "cell_type": "code",
   "execution_count": null,
   "id": "23b429b4",
   "metadata": {},
   "outputs": [],
   "source": [
    "predictions = []\n",
    "y_svc = svc_model.predict(X_val)\n",
    "y_rfc = rfc_model.predict(X_val)\n",
    "y_etc = etc_model.predict(X_val)"
   ]
  },
  {
   "cell_type": "code",
   "execution_count": null,
   "id": "6e27b185",
   "metadata": {},
   "outputs": [],
   "source": [
    "predictions.extend([y_svc, y_rfc, y_etc])"
   ]
  },
  {
   "cell_type": "code",
   "execution_count": null,
   "id": "b71c8b8a",
   "metadata": {},
   "outputs": [],
   "source": [
    "predictions[0].reshape(-1, 1).shape"
   ]
  },
  {
   "cell_type": "code",
   "execution_count": null,
   "id": "a17769c0",
   "metadata": {},
   "outputs": [],
   "source": [
    "y_val.shape"
   ]
  },
  {
   "cell_type": "code",
   "execution_count": null,
   "id": "352c414e",
   "metadata": {},
   "outputs": [],
   "source": [
    "blending_scores = []\n",
    "for fold, pred in enumerate(predictions):\n",
    "    print(f'fold number: {fold+1}')\n",
    "    rfc_model.fit(pred.reshape(-1, 1), y_val)\n",
    "    score = rfc_model.predict(pred.reshape(-1, 1))\n",
    "    blending_scores.append(accuracy_score(y_val, score))"
   ]
  },
  {
   "cell_type": "code",
   "execution_count": null,
   "id": "363e32f0",
   "metadata": {},
   "outputs": [],
   "source": [
    "sum(blending_scores)/3"
   ]
  },
  {
   "cell_type": "code",
   "execution_count": null,
   "id": "b65765ce",
   "metadata": {},
   "outputs": [],
   "source": [
    "# Without SVM\n",
    "predictions = []\n",
    "predictions.extend([y_rfc, y_etc])\n",
    "blending_scores = []\n",
    "for fold, pred in enumerate(predictions):\n",
    "    print(f'fold number: {fold+1}')\n",
    "    rfc_model.fit(pred.reshape(-1, 1), y_val)\n",
    "    score = rfc_model.predict(pred.reshape(-1, 1))\n",
    "    blending_scores.append(accuracy_score(y_val, score))\n",
    "    \n",
    "sum(blending_scores)/2"
   ]
  },
  {
   "cell_type": "code",
   "execution_count": null,
   "id": "46243c10",
   "metadata": {},
   "outputs": [],
   "source": [
    "rfc_model.fit(X_train, y_train)\n",
    "y_rfc = rfc_model.predict(X_test)"
   ]
  },
  {
   "cell_type": "code",
   "execution_count": null,
   "id": "cc091933",
   "metadata": {},
   "outputs": [],
   "source": [
    "etc_model.fit(X_train, y_train)\n",
    "y_etc = etc_model.predict(X_test)"
   ]
  },
  {
   "cell_type": "code",
   "execution_count": null,
   "id": "496e82eb",
   "metadata": {},
   "outputs": [],
   "source": [
    "predictions = []\n",
    "predictions.extend([y_rfc, y_etc])\n",
    "blending_scores = []\n",
    "for fold, pred in enumerate(predictions):\n",
    "    print(f'fold number: {fold+1}')\n",
    "    rfc_model.fit(pred.reshape(-1, 1), y_test)\n",
    "    score = rfc_model.predict(pred.reshape(-1, 1))\n",
    "    blending_scores.append(accuracy_score(y_test, score))"
   ]
  },
  {
   "cell_type": "code",
   "execution_count": null,
   "id": "f52275b4",
   "metadata": {},
   "outputs": [],
   "source": [
    "sum(blending_scores)/2"
   ]
  },
  {
   "cell_type": "markdown",
   "id": "24f60259",
   "metadata": {},
   "source": [
    "### I'm blending and stacking like how I learnt from kaggle."
   ]
  },
  {
   "cell_type": "markdown",
   "id": "4bf97c70",
   "metadata": {},
   "source": [
    "# --------------------------------------------------"
   ]
  },
  {
   "cell_type": "code",
   "execution_count": null,
   "id": "f065b93d",
   "metadata": {},
   "outputs": [],
   "source": [
    "from sklearn.datasets import fetch_openml\n",
    "mnist = fetch_openml('mnist_784', version=1)\n",
    "mnist.keys()"
   ]
  },
  {
   "cell_type": "code",
   "execution_count": null,
   "id": "de955b49",
   "metadata": {},
   "outputs": [],
   "source": [
    "X = mnist['data']\n",
    "y = mnist['target']\n",
    "y = y.astype(np.uint8)"
   ]
  },
  {
   "cell_type": "code",
   "execution_count": null,
   "id": "b80f48fc",
   "metadata": {},
   "outputs": [],
   "source": [
    "from sklearn.model_selection import train_test_split"
   ]
  },
  {
   "cell_type": "code",
   "execution_count": null,
   "id": "ba456e63",
   "metadata": {},
   "outputs": [],
   "source": [
    "X_train, X_test, y_train, y_test = train_test_split(X, y, test_size=10000)"
   ]
  },
  {
   "cell_type": "code",
   "execution_count": null,
   "id": "994720a8",
   "metadata": {},
   "outputs": [],
   "source": [
    "len(X_train)"
   ]
  },
  {
   "cell_type": "code",
   "execution_count": null,
   "id": "6770d338",
   "metadata": {},
   "outputs": [],
   "source": [
    "import time\n",
    "from sklearn.ensemble import RandomForestClassifier\n",
    "from sklearn.metrics import accuracy_score\n",
    "from sklearn.decomposition import PCA"
   ]
  },
  {
   "cell_type": "code",
   "execution_count": null,
   "id": "053f834e",
   "metadata": {},
   "outputs": [],
   "source": [
    "start = time.time()\n",
    "rfc = RandomForestClassifier(random_state=42)\n",
    "rfc.fit(X_train, y_train)\n",
    "print(f'train predictions accuracy is:{accuracy_score(y_train, rfc.predict(X_train))}')\n",
    "y_pred = rfc.predict(X_test)\n",
    "end = time.time()\n",
    "tot_time = end-start\n",
    "print(f'total time: {tot_time}')\n",
    "print(accuracy_score(y_test, y_pred))"
   ]
  },
  {
   "cell_type": "code",
   "execution_count": null,
   "id": "965831cc",
   "metadata": {},
   "outputs": [],
   "source": [
    "pca = PCA(n_components=0.95, random_state=42)"
   ]
  },
  {
   "cell_type": "code",
   "execution_count": null,
   "id": "8673bf8a",
   "metadata": {},
   "outputs": [],
   "source": [
    "X_train_reduced = pca.fit_transform(X_train)\n",
    "X_test_reduced = pca.transform(X_test)"
   ]
  },
  {
   "cell_type": "code",
   "execution_count": null,
   "id": "7fbfb701",
   "metadata": {},
   "outputs": [],
   "source": [
    "start = time.time()\n",
    "rfc.fit(X_train_reduced, y_train)\n",
    "print(f'train predictions accuracy is:{accuracy_score(y_train, rfc.predict(X_train_reduced))}')\n",
    "y_pred_reduced = rfc.predict(X_test_reduced)\n",
    "end = time.time()\n",
    "tot_time = end-start\n",
    "print(f'total time: {tot_time}')\n",
    "print(accuracy_score(y_test, y_pred_reduced))"
   ]
  },
  {
   "cell_type": "markdown",
   "id": "4181a9c2",
   "metadata": {},
   "source": [
    "# 2nd Question in Dimensionality Reduction"
   ]
  },
  {
   "cell_type": "code",
   "execution_count": null,
   "id": "b4deeb5a",
   "metadata": {},
   "outputs": [],
   "source": [
    "X = mnist['data']\n",
    "y = mnist['target']\n",
    "y = y.astype(np.uint8)\n",
    "indices = np.random.permutation(X.shape[0])[:10000]\n",
    "len(indices)\n",
    "\n",
    "X_train = X.iloc[indices]\n",
    "y_train = y[indices]"
   ]
  },
  {
   "cell_type": "code",
   "execution_count": null,
   "id": "fd2732e3",
   "metadata": {},
   "outputs": [],
   "source": [
    "from sklearn.manifold import TSNE"
   ]
  },
  {
   "cell_type": "code",
   "execution_count": null,
   "id": "026a891f",
   "metadata": {},
   "outputs": [],
   "source": [
    "tsne = TSNE(n_components=2, random_state=42)\n",
    "X_embedded = tsne.fit_transform(X_train)"
   ]
  },
  {
   "cell_type": "code",
   "execution_count": null,
   "id": "d753ba6a",
   "metadata": {},
   "outputs": [],
   "source": [
    "import matplotlib.pyplot as plt\n",
    "%matplotlib inline"
   ]
  },
  {
   "cell_type": "code",
   "execution_count": null,
   "id": "b2121423",
   "metadata": {},
   "outputs": [],
   "source": [
    "X_embedded.shape"
   ]
  },
  {
   "cell_type": "code",
   "execution_count": null,
   "id": "52b50b05",
   "metadata": {},
   "outputs": [],
   "source": [
    "plt.figure(figsize=(13,10))\n",
    "plt.scatter(x=X_embedded[:,0], y=X_embedded[:,1], c=y_train, cmap='jet')\n",
    "plt.axis('off')\n"
   ]
  },
  {
   "cell_type": "code",
   "execution_count": null,
   "id": "b94ca08a",
   "metadata": {},
   "outputs": [],
   "source": [
    "import matplotlib as mpl\n",
    "plt.figure(figsize=(9,9))\n",
    "cmap = mpl.cm.get_cmap(\"jet\")\n",
    "for digit in (2, 3, 5):\n",
    "    plt.scatter(X_embedded[y_train == digit, 0], X_embedded[y_train == digit, 1], c=[cmap(digit / 9)])\n",
    "plt.axis('off')\n",
    "plt.show()"
   ]
  },
  {
   "cell_type": "code",
   "execution_count": null,
   "id": "88071a6d",
   "metadata": {},
   "outputs": [],
   "source": [
    "start = time.time()\n",
    "X_pca_reduced = PCA(n_components=2, random_state=42).fit_transform(X_train)\n",
    "end = time.time()\n",
    "print(f'total time: {end-start}')"
   ]
  },
  {
   "cell_type": "code",
   "execution_count": null,
   "id": "f36527fb",
   "metadata": {},
   "outputs": [],
   "source": [
    "plt.figure(figsize=(13,10))\n",
    "plt.scatter(x=X_pca_reduced[:,0], y=X_pca_reduced[:,1], c=y_train, cmap='jet')\n",
    "plt.axis('off')\n"
   ]
  },
  {
   "cell_type": "code",
   "execution_count": null,
   "id": "d7aace28",
   "metadata": {},
   "outputs": [],
   "source": [
    "from sklearn.manifold import LocallyLinearEmbedding\n"
   ]
  },
  {
   "cell_type": "code",
   "execution_count": null,
   "id": "c649a108",
   "metadata": {},
   "outputs": [],
   "source": [
    "start = time.time()\n",
    "X_LLe = LocallyLinearEmbedding(n_components=2, random_state=42).fit_transform(X_train)\n",
    "end = time.time()\n",
    "print(f'total time: {end-start}')"
   ]
  },
  {
   "cell_type": "code",
   "execution_count": null,
   "id": "94408310",
   "metadata": {},
   "outputs": [],
   "source": [
    "plt.figure(figsize=(13,10))\n",
    "plt.scatter(x=X_LLe[:,0], y=X_LLe[:,1], c=y_train, cmap='jet')\n",
    "plt.axis('off')"
   ]
  },
  {
   "cell_type": "code",
   "execution_count": null,
   "id": "c387a776",
   "metadata": {},
   "outputs": [],
   "source": [
    "from sklearn.pipeline import Pipeline\n",
    "\n",
    "ppl = Pipeline([\n",
    "    ('PCA', PCA(n_components=0.95, random_state=42)), \n",
    "    ('LLE', LocallyLinearEmbedding(n_components=2, random_state=42))\n",
    "])"
   ]
  },
  {
   "cell_type": "code",
   "execution_count": null,
   "id": "80e73a78",
   "metadata": {},
   "outputs": [],
   "source": [
    "start = time.time()\n",
    "X_reduced = ppl.fit_transform(X_train)\n",
    "end = time.time()\n",
    "print(f'total time: {end-start}')\n",
    "plt.figure(figsize=(13,10))\n",
    "plt.scatter(x=X_reduced[:,0], y=X_reduced[:,1], c=y_train, cmap='jet')\n",
    "plt.axis('off')"
   ]
  },
  {
   "cell_type": "markdown",
   "id": "31c7aa06",
   "metadata": {},
   "source": [
    "# ------------------------------------------"
   ]
  },
  {
   "cell_type": "code",
   "execution_count": 1,
   "id": "8c4f690c",
   "metadata": {},
   "outputs": [],
   "source": [
    "from tensorflow import keras\n",
    "import pandas as pd\n",
    "import numpy as np\n",
    "import matplotlib as mpl\n",
    "import matplotlib.pyplot as plt\n",
    "import warnings\n",
    "import tensorflow as tf\n",
    "\n",
    "warnings.filterwarnings('ignore')\n",
    "%matplotlib inline"
   ]
  },
  {
   "cell_type": "code",
   "execution_count": 2,
   "id": "0cee68f7",
   "metadata": {},
   "outputs": [],
   "source": [
    "(X_train, y_train), (X_test, y_test) = keras.datasets.mnist.load_data()"
   ]
  },
  {
   "cell_type": "code",
   "execution_count": 3,
   "id": "8a503009",
   "metadata": {},
   "outputs": [
    {
     "data": {
      "text/plain": [
       "(60000, 28, 28)"
      ]
     },
     "execution_count": 3,
     "metadata": {},
     "output_type": "execute_result"
    }
   ],
   "source": [
    "X_train.shape"
   ]
  },
  {
   "cell_type": "code",
   "execution_count": 4,
   "id": "c2dd747c",
   "metadata": {},
   "outputs": [
    {
     "data": {
      "text/plain": [
       "array([7, 2, 1, ..., 4, 5, 6], dtype=uint8)"
      ]
     },
     "execution_count": 4,
     "metadata": {},
     "output_type": "execute_result"
    }
   ],
   "source": [
    "y_test"
   ]
  },
  {
   "cell_type": "code",
   "execution_count": 5,
   "id": "07aa8f88",
   "metadata": {},
   "outputs": [],
   "source": [
    "from sklearn.model_selection import train_test_split"
   ]
  },
  {
   "cell_type": "code",
   "execution_count": 6,
   "id": "1ccb6ed3",
   "metadata": {},
   "outputs": [],
   "source": [
    "X_train, X_valid, y_train, y_valid = train_test_split(X_train, y_train, test_size=10000)\n",
    "X_train, X_test, X_valid = X_train/255., X_test/255., X_valid/255."
   ]
  },
  {
   "cell_type": "code",
   "execution_count": 58,
   "id": "bc4e6662",
   "metadata": {},
   "outputs": [],
   "source": [
    "model = keras.models.Sequential([\n",
    "    keras.layers.Flatten(input_shape=[28, 28]),\n",
    "    keras.layers.Dense(512, activation=\"relu\"),\n",
    "    keras.layers.Dense(256, activation=\"relu\"),\n",
    "    keras.layers.Dense(128, activation=\"relu\"),\n",
    "    keras.layers.Dense(10, activation=\"softmax\")\n",
    "])"
   ]
  },
  {
   "cell_type": "code",
   "execution_count": 59,
   "id": "08fa6c97",
   "metadata": {},
   "outputs": [
    {
     "name": "stdout",
     "output_type": "stream",
     "text": [
      "Model: \"sequential_1\"\n",
      "_________________________________________________________________\n",
      "Layer (type)                 Output Shape              Param #   \n",
      "=================================================================\n",
      "flatten_1 (Flatten)          (None, 784)               0         \n",
      "_________________________________________________________________\n",
      "dense_3 (Dense)              (None, 512)               401920    \n",
      "_________________________________________________________________\n",
      "dense_4 (Dense)              (None, 256)               131328    \n",
      "_________________________________________________________________\n",
      "dense_5 (Dense)              (None, 128)               32896     \n",
      "_________________________________________________________________\n",
      "dense_6 (Dense)              (None, 10)                1290      \n",
      "=================================================================\n",
      "Total params: 567,434\n",
      "Trainable params: 567,434\n",
      "Non-trainable params: 0\n",
      "_________________________________________________________________\n"
     ]
    }
   ],
   "source": [
    "model.summary()"
   ]
  },
  {
   "cell_type": "code",
   "execution_count": 60,
   "id": "5a659a16",
   "metadata": {},
   "outputs": [],
   "source": [
    "model.compile(loss=\"sparse_categorical_crossentropy\",\n",
    "              optimizer='adam',\n",
    "              metrics=[\"accuracy\"])"
   ]
  },
  {
   "cell_type": "code",
   "execution_count": 61,
   "id": "8eef1983",
   "metadata": {},
   "outputs": [
    {
     "name": "stdout",
     "output_type": "stream",
     "text": [
      "Epoch 1/10\n",
      "1563/1563 [==============================] - 8s 5ms/step - loss: 0.2112 - accuracy: 0.9357 - val_loss: 0.1325 - val_accuracy: 0.9593\n",
      "Epoch 2/10\n",
      "1563/1563 [==============================] - 7s 5ms/step - loss: 0.0912 - accuracy: 0.9721 - val_loss: 0.1026 - val_accuracy: 0.9692\n",
      "Epoch 3/10\n",
      "1563/1563 [==============================] - 7s 5ms/step - loss: 0.0643 - accuracy: 0.9801 - val_loss: 0.0947 - val_accuracy: 0.9728\n",
      "Epoch 4/10\n",
      "1563/1563 [==============================] - 7s 5ms/step - loss: 0.0497 - accuracy: 0.9844 - val_loss: 0.0989 - val_accuracy: 0.9714\n",
      "Epoch 5/10\n",
      "1563/1563 [==============================] - 8s 5ms/step - loss: 0.0418 - accuracy: 0.9870 - val_loss: 0.0919 - val_accuracy: 0.9737\n",
      "Epoch 6/10\n",
      "1563/1563 [==============================] - 8s 5ms/step - loss: 0.0348 - accuracy: 0.9891 - val_loss: 0.1072 - val_accuracy: 0.9736\n",
      "Epoch 7/10\n",
      "1563/1563 [==============================] - 8s 5ms/step - loss: 0.0294 - accuracy: 0.9908 - val_loss: 0.0901 - val_accuracy: 0.9783\n",
      "Epoch 8/10\n",
      "1563/1563 [==============================] - 7s 5ms/step - loss: 0.0260 - accuracy: 0.9922 - val_loss: 0.0886 - val_accuracy: 0.9775\n",
      "Epoch 9/10\n",
      "1563/1563 [==============================] - 8s 5ms/step - loss: 0.0232 - accuracy: 0.9924 - val_loss: 0.0916 - val_accuracy: 0.9786\n",
      "Epoch 10/10\n",
      "1563/1563 [==============================] - 7s 5ms/step - loss: 0.0196 - accuracy: 0.9940 - val_loss: 0.0908 - val_accuracy: 0.9821\n"
     ]
    }
   ],
   "source": [
    "filepath=\"my_mnist_model.h5\"\n",
    "es = tf.keras.callbacks.EarlyStopping(monitor='loss', patience=2)\n",
    "cp = tf.keras.callbacks.ModelCheckpoint(filepath, save_best_only=True)\n",
    "\n",
    "history = model.fit(X_train, y_train, epochs=10,\n",
    "                    validation_data=(X_valid, y_valid),\n",
    "                    callbacks=[es, cp])"
   ]
  },
  {
   "cell_type": "code",
   "execution_count": 62,
   "id": "532d12ff",
   "metadata": {},
   "outputs": [
    {
     "name": "stdout",
     "output_type": "stream",
     "text": [
      "dict_keys(['loss', 'accuracy', 'val_loss', 'val_accuracy'])\n"
     ]
    },
    {
     "data": {
      "image/png": "[encoded data removed]",
      "text/plain": [
       "<Figure size 432x288 with 1 Axes>"
      ]
     },
     "metadata": {
      "needs_background": "light"
     },
     "output_type": "display_data"
    },
    {
     "data": {
      "image/png": "[encoded data removed]",
      "text/plain": [
       "<Figure size 432x288 with 1 Axes>"
      ]
     },
     "metadata": {
      "needs_background": "light"
     },
     "output_type": "display_data"
    }
   ],
   "source": [
    "print(history.history.keys())\n",
    "#  \"Accuracy\"\n",
    "plt.plot(history.history['accuracy'])\n",
    "plt.plot(history.history['val_accuracy'])\n",
    "plt.title('model accuracy')\n",
    "plt.ylabel('accuracy')\n",
    "plt.xlabel('epoch')\n",
    "plt.legend(['train', 'validation'], loc='upper left')\n",
    "plt.show()\n",
    "# \"Loss\"\n",
    "plt.plot(history.history['loss'])\n",
    "plt.plot(history.history['val_loss'])\n",
    "plt.title('model loss')\n",
    "plt.ylabel('loss')\n",
    "plt.xlabel('epoch')\n",
    "plt.legend(['train', 'validation'], loc='upper left')\n",
    "plt.show()"
   ]
  },
  {
   "cell_type": "code",
   "execution_count": 63,
   "id": "ba3dd4be",
   "metadata": {},
   "outputs": [
    {
     "name": "stdout",
     "output_type": "stream",
     "text": [
      "INFO:tensorflow:Assets written to: my_model\\assets\n"
     ]
    }
   ],
   "source": [
    "model.save(\"my_model\")"
   ]
  },
  {
   "cell_type": "code",
   "execution_count": 64,
   "id": "860849c6",
   "metadata": {},
   "outputs": [],
   "source": [
    "model = keras.models.load_model(\"my_model\")"
   ]
  },
  {
   "cell_type": "code",
   "execution_count": 65,
   "id": "9ae553bd",
   "metadata": {},
   "outputs": [
    {
     "data": {
      "text/plain": [
       "'logs/fit/20211017-015544'"
      ]
     },
     "execution_count": 65,
     "metadata": {},
     "output_type": "execute_result"
    }
   ],
   "source": [
    "log_dir"
   ]
  },
  {
   "cell_type": "code",
   "execution_count": 35,
   "id": "f3ab4cb4",
   "metadata": {},
   "outputs": [
    {
     "name": "stdout",
     "output_type": "stream",
     "text": [
      "Epoch 1/15\n",
      "   1/1563 [..............................] - ETA: 0s - loss: 1.2293e-07 - accuracy: 0.1562WARNING:tensorflow:From C:\\Users\\abdel\\.conda\\envs\\tensorflow\\lib\\site-packages\\tensorflow\\python\\ops\\summary_ops_v2.py:1277: stop (from tensorflow.python.eager.profiler) is deprecated and will be removed after 2020-07-01.\n",
      "Instructions for updating:\n",
      "use `tf.profiler.experimental.stop` instead.\n",
      "   2/1563 [..............................] - ETA: 54s - loss: 6.1728e-04 - accuracy: 0.1406WARNING:tensorflow:Callbacks method `on_train_batch_end` is slow compared to the batch time (batch time: 0.0040s vs `on_train_batch_end` time: 0.0658s). Check your callbacks.\n",
      "1563/1563 [==============================] - 7s 5ms/step - loss: 0.0089 - accuracy: 0.0989 - val_loss: 0.2071 - val_accuracy: 0.0983\n",
      "Epoch 2/15\n",
      "1563/1563 [==============================] - 8s 5ms/step - loss: 0.0090 - accuracy: 0.0989 - val_loss: 0.2377 - val_accuracy: 0.0988\n",
      "Epoch 3/15\n",
      "1563/1563 [==============================] - 8s 5ms/step - loss: 0.0075 - accuracy: 0.0988 - val_loss: 0.2662 - val_accuracy: 0.0992\n",
      "Epoch 4/15\n",
      "1563/1563 [==============================] - 7s 4ms/step - loss: 0.0108 - accuracy: 0.0989 - val_loss: 0.2462 - val_accuracy: 0.0954\n",
      "Epoch 5/15\n",
      "1563/1563 [==============================] - 7s 5ms/step - loss: 0.0079 - accuracy: 0.0989 - val_loss: 0.1959 - val_accuracy: 0.0977\n",
      "Epoch 6/15\n",
      "1563/1563 [==============================] - 7s 4ms/step - loss: 0.0054 - accuracy: 0.0989 - val_loss: 0.2059 - val_accuracy: 0.0983\n",
      "Epoch 7/15\n",
      "1563/1563 [==============================] - 7s 5ms/step - loss: 0.0114 - accuracy: 0.0989 - val_loss: 0.2214 - val_accuracy: 0.0977\n",
      "Epoch 8/15\n",
      "1563/1563 [==============================] - 8s 5ms/step - loss: 0.0078 - accuracy: 0.0989 - val_loss: 0.2235 - val_accuracy: 0.0980\n",
      "Epoch 9/15\n",
      "1563/1563 [==============================] - 7s 4ms/step - loss: 0.0066 - accuracy: 0.0990 - val_loss: 0.2449 - val_accuracy: 0.0980\n",
      "Epoch 10/15\n",
      "1563/1563 [==============================] - 7s 4ms/step - loss: 0.0111 - accuracy: 0.0989 - val_loss: 0.2322 - val_accuracy: 0.0987\n",
      "Epoch 11/15\n",
      "1563/1563 [==============================] - 8s 5ms/step - loss: 0.0077 - accuracy: 0.0989 - val_loss: 0.2143 - val_accuracy: 0.0979\n",
      "Epoch 12/15\n",
      "1563/1563 [==============================] - 7s 5ms/step - loss: 0.0112 - accuracy: 0.0989 - val_loss: 0.2294 - val_accuracy: 0.0982\n",
      "Epoch 13/15\n",
      "1563/1563 [==============================] - 7s 5ms/step - loss: 0.0048 - accuracy: 0.0989 - val_loss: 0.2647 - val_accuracy: 0.0987\n",
      "Epoch 14/15\n",
      "1563/1563 [==============================] - 7s 5ms/step - loss: 0.0060 - accuracy: 0.0989 - val_loss: 0.2743 - val_accuracy: 0.0985\n",
      "Epoch 15/15\n",
      "1563/1563 [==============================] - 7s 4ms/step - loss: 0.0057 - accuracy: 0.0989 - val_loss: 0.2304 - val_accuracy: 0.0971\n"
     ]
    }
   ],
   "source": [
    "import datetime\n",
    "\n",
    "log_dir = \"logs/fit/\" + datetime.datetime.now().strftime(\"%Y%m%d-%H%M%S\")\n",
    "tensorboard_callback = tf.keras.callbacks.TensorBoard(log_dir=log_dir, histogram_freq=1)\n",
    "\n",
    "history = model.fit(X_train, y_train, epochs=15,\n",
    "                    validation_data=(X_valid, y_valid),\n",
    "                    callbacks=[es, cp, tensorboard_callback])"
   ]
  },
  {
   "cell_type": "code",
   "execution_count": 66,
   "id": "8ffc3f40",
   "metadata": {},
   "outputs": [
    {
     "name": "stdout",
     "output_type": "stream",
     "text": [
      "313/313 [==============================] - 1s 3ms/step - loss: 0.0902 - accuracy: 0.0986\n"
     ]
    },
    {
     "data": {
      "text/plain": [
       "[0.09023026376962662, 0.09860000014305115]"
      ]
     },
     "execution_count": 66,
     "metadata": {},
     "output_type": "execute_result"
    }
   ],
   "source": [
    "model.evaluate(X_test, y_test)"
   ]
  },
  {
   "cell_type": "code",
   "execution_count": 72,
   "id": "c02baf32",
   "metadata": {},
   "outputs": [
    {
     "data": {
      "image/png": "[encoded data removed]",
      "text/plain": [
       "<Figure size 576x360 with 1 Axes>"
      ]
     },
     "metadata": {
      "needs_background": "light"
     },
     "output_type": "display_data"
    }
   ],
   "source": [
    "import pandas as pd\n",
    "\n",
    "pd.DataFrame(history.history).plot(figsize=(8, 5))\n",
    "plt.grid(True)\n",
    "plt.gca().set_ylim(0, 1)\n",
    "plt.show()"
   ]
  },
  {
   "cell_type": "code",
   "execution_count": 75,
   "id": "92e01cfd",
   "metadata": {},
   "outputs": [],
   "source": [
    "keras.backend.clear_session()\n",
    "np.random.seed(42)\n",
    "tf.random.set_seed(42)"
   ]
  },
  {
   "cell_type": "code",
   "execution_count": 76,
   "id": "0843b638",
   "metadata": {},
   "outputs": [],
   "source": [
    "model.compile(loss=\"sparse_categorical_crossentropy\",\n",
    "              optimizer='adam',\n",
    "              metrics=[\"accuracy\"])"
   ]
  },
  {
   "cell_type": "code",
   "execution_count": 77,
   "id": "aa8eefdc",
   "metadata": {},
   "outputs": [
    {
     "name": "stdout",
     "output_type": "stream",
     "text": [
      "Epoch 1/15\n",
      "   2/1563 [..............................] - ETA: 15:16 - loss: 0.0715 - accuracy: 0.9688WARNING:tensorflow:Callbacks method `on_train_batch_end` is slow compared to the batch time (batch time: 0.0080s vs `on_train_batch_end` time: 1.1659s). Check your callbacks.\n",
      "1563/1563 [==============================] - 9s 6ms/step - loss: 0.0260 - accuracy: 0.9929 - val_loss: 0.1029 - val_accuracy: 0.9782\n",
      "Epoch 2/15\n",
      "1563/1563 [==============================] - 8s 5ms/step - loss: 0.0153 - accuracy: 0.9957 - val_loss: 0.0948 - val_accuracy: 0.9784\n",
      "Epoch 3/15\n",
      "1563/1563 [==============================] - 8s 5ms/step - loss: 0.0175 - accuracy: 0.9948 - val_loss: 0.1146 - val_accuracy: 0.9787\n",
      "Epoch 4/15\n",
      "1563/1563 [==============================] - 8s 5ms/step - loss: 0.0149 - accuracy: 0.9956 - val_loss: 0.1394 - val_accuracy: 0.9756\n",
      "Epoch 5/15\n",
      "1563/1563 [==============================] - 8s 5ms/step - loss: 0.0170 - accuracy: 0.9952 - val_loss: 0.1232 - val_accuracy: 0.9777\n",
      "Epoch 6/15\n",
      "1563/1563 [==============================] - 8s 5ms/step - loss: 0.0155 - accuracy: 0.9953 - val_loss: 0.1159 - val_accuracy: 0.9775\n"
     ]
    }
   ],
   "source": [
    "history = model.fit(X_train, y_train, epochs=15,\n",
    "                    validation_data=(X_valid, y_valid),\n",
    "                    callbacks=[es, cp, tensorboard_callback])"
   ]
  },
  {
   "cell_type": "code",
   "execution_count": 74,
   "id": "751c3466",
   "metadata": {
    "scrolled": false
   },
   "outputs": [
    {
     "name": "stdout",
     "output_type": "stream",
     "text": [
      "The tensorboard extension is already loaded. To reload it, use:\n",
      "  %reload_ext tensorboard\n"
     ]
    },
    {
     "data": {
      "text/plain": [
       "Reusing TensorBoard on port 6006 (pid 13544), started 12:48:09 ago. (Use '!kill 13544' to kill it.)"
      ]
     },
     "metadata": {},
     "output_type": "display_data"
    },
    {
     "data": {
      "text/html": [
       "\n",
       "      <iframe id=\"tensorboard-frame-c30ece908c007b96\" width=\"100%\" height=\"800\" frameborder=\"0\">\n",
       "      </iframe>\n",
       "      <script>\n",
       "        (function() {\n",
       "          const frame = document.getElementById(\"tensorboard-frame-c30ece908c007b96\");\n",
       "          const url = new URL(\"/\", window.location);\n",
       "          const port = 6006;\n",
       "          if (port) {\n",
       "            url.port = port;\n",
       "          }\n",
       "          frame.src = url;\n",
       "        })();\n",
       "      </script>\n",
       "    "
      ],
      "text/plain": [
       "<IPython.core.display.HTML object>"
      ]
     },
     "metadata": {},
     "output_type": "display_data"
    }
   ],
   "source": [
    "%load_ext tensorboard\n",
    "%tensorboard --logdir logs/fit\n",
    "%reload_ext tensorboard"
   ]
  }
 ],
 "metadata": {
  "kernelspec": {
   "display_name": "Python 3",
   "language": "python",
   "name": "python3"
  },
  "language_info": {
   "codemirror_mode": {
    "name": "ipython",
    "version": 3
   },
   "file_extension": ".py",
   "mimetype": "text/x-python",
   "name": "python",
   "nbconvert_exporter": "python",
   "pygments_lexer": "ipython3",
   "version": "3.7.11"
  }
 },
 "nbformat": 4,
 "nbformat_minor": 5
}
